{
 "cells": [
  {
   "cell_type": "markdown",
   "metadata": {},
   "source": [
    "# imports"
   ]
  },
  {
   "cell_type": "code",
   "execution_count": 1,
   "metadata": {},
   "outputs": [],
   "source": [
    "import pandas as pd\n",
    "import numpy as np\n",
    "import matplotlib.pyplot as plt; plt.rcParams['font.family'] = 'Malgun Gothic'\n",
    "import seaborn as sns; sns.set_theme(); sns.set_style()\n",
    "import warnings; warnings.filterwarnings(action='ignore')\n",
    "\n",
    "pd.set_option('display.max_rows', 100)\n",
    "pd.set_option('display.max_columns', 100)\n",
    "pd.set_option('max_colwidth', None)"
   ]
  },
  {
   "cell_type": "markdown",
   "metadata": {},
   "source": [
    "# read"
   ]
  },
  {
   "cell_type": "code",
   "execution_count": 2,
   "metadata": {},
   "outputs": [],
   "source": [
    "train = pd.read_csv('./input/FIFA_train.csv')\n",
    "test  = pd.read_csv('./input/FIFA_test.csv')\n",
    "sub   = pd.read_csv('./input/submission.csv')"
   ]
  },
  {
   "cell_type": "code",
   "execution_count": 3,
   "metadata": {},
   "outputs": [
    {
     "data": {
      "text/plain": [
       "((8932, 12), (3828, 11))"
      ]
     },
     "execution_count": 3,
     "metadata": {},
     "output_type": "execute_result"
    }
   ],
   "source": [
    "train.shape, test.shape"
   ]
  },
  {
   "cell_type": "code",
   "execution_count": 4,
   "metadata": {},
   "outputs": [
    {
     "data": {
      "text/html": [
       "<div>\n",
       "<style scoped>\n",
       "    .dataframe tbody tr th:only-of-type {\n",
       "        vertical-align: middle;\n",
       "    }\n",
       "\n",
       "    .dataframe tbody tr th {\n",
       "        vertical-align: top;\n",
       "    }\n",
       "\n",
       "    .dataframe thead th {\n",
       "        text-align: right;\n",
       "    }\n",
       "</style>\n",
       "<table border=\"1\" class=\"dataframe\">\n",
       "  <thead>\n",
       "    <tr style=\"text-align: right;\">\n",
       "      <th></th>\n",
       "      <th>id</th>\n",
       "      <th>name</th>\n",
       "      <th>age</th>\n",
       "      <th>continent</th>\n",
       "      <th>contract_until</th>\n",
       "      <th>position</th>\n",
       "      <th>prefer_foot</th>\n",
       "      <th>reputation</th>\n",
       "      <th>stat_overall</th>\n",
       "      <th>stat_potential</th>\n",
       "      <th>stat_skill_moves</th>\n",
       "      <th>value</th>\n",
       "    </tr>\n",
       "  </thead>\n",
       "  <tbody>\n",
       "    <tr>\n",
       "      <th>0</th>\n",
       "      <td>0</td>\n",
       "      <td>L. Messi</td>\n",
       "      <td>31</td>\n",
       "      <td>south america</td>\n",
       "      <td>2021</td>\n",
       "      <td>ST</td>\n",
       "      <td>left</td>\n",
       "      <td>5.0</td>\n",
       "      <td>94</td>\n",
       "      <td>94</td>\n",
       "      <td>4.0</td>\n",
       "      <td>110500000.0</td>\n",
       "    </tr>\n",
       "    <tr>\n",
       "      <th>1</th>\n",
       "      <td>3</td>\n",
       "      <td>De Gea</td>\n",
       "      <td>27</td>\n",
       "      <td>europe</td>\n",
       "      <td>2020</td>\n",
       "      <td>GK</td>\n",
       "      <td>right</td>\n",
       "      <td>4.0</td>\n",
       "      <td>91</td>\n",
       "      <td>93</td>\n",
       "      <td>1.0</td>\n",
       "      <td>72000000.0</td>\n",
       "    </tr>\n",
       "    <tr>\n",
       "      <th>2</th>\n",
       "      <td>7</td>\n",
       "      <td>L. Suárez</td>\n",
       "      <td>31</td>\n",
       "      <td>south america</td>\n",
       "      <td>2021</td>\n",
       "      <td>ST</td>\n",
       "      <td>right</td>\n",
       "      <td>5.0</td>\n",
       "      <td>91</td>\n",
       "      <td>91</td>\n",
       "      <td>3.0</td>\n",
       "      <td>80000000.0</td>\n",
       "    </tr>\n",
       "    <tr>\n",
       "      <th>3</th>\n",
       "      <td>8</td>\n",
       "      <td>Sergio Ramos</td>\n",
       "      <td>32</td>\n",
       "      <td>europe</td>\n",
       "      <td>2020</td>\n",
       "      <td>DF</td>\n",
       "      <td>right</td>\n",
       "      <td>4.0</td>\n",
       "      <td>91</td>\n",
       "      <td>91</td>\n",
       "      <td>3.0</td>\n",
       "      <td>51000000.0</td>\n",
       "    </tr>\n",
       "    <tr>\n",
       "      <th>4</th>\n",
       "      <td>9</td>\n",
       "      <td>J. Oblak</td>\n",
       "      <td>25</td>\n",
       "      <td>europe</td>\n",
       "      <td>2021</td>\n",
       "      <td>GK</td>\n",
       "      <td>right</td>\n",
       "      <td>3.0</td>\n",
       "      <td>90</td>\n",
       "      <td>93</td>\n",
       "      <td>1.0</td>\n",
       "      <td>68000000.0</td>\n",
       "    </tr>\n",
       "  </tbody>\n",
       "</table>\n",
       "</div>"
      ],
      "text/plain": [
       "   id          name  age      continent contract_until position prefer_foot  \\\n",
       "0   0      L. Messi   31  south america           2021       ST        left   \n",
       "1   3        De Gea   27         europe           2020       GK       right   \n",
       "2   7     L. Suárez   31  south america           2021       ST       right   \n",
       "3   8  Sergio Ramos   32         europe           2020       DF       right   \n",
       "4   9      J. Oblak   25         europe           2021       GK       right   \n",
       "\n",
       "   reputation  stat_overall  stat_potential  stat_skill_moves        value  \n",
       "0         5.0            94              94               4.0  110500000.0  \n",
       "1         4.0            91              93               1.0   72000000.0  \n",
       "2         5.0            91              91               3.0   80000000.0  \n",
       "3         4.0            91              91               3.0   51000000.0  \n",
       "4         3.0            90              93               1.0   68000000.0  "
      ]
     },
     "execution_count": 4,
     "metadata": {},
     "output_type": "execute_result"
    }
   ],
   "source": [
    "train.head()"
   ]
  },
  {
   "cell_type": "code",
   "execution_count": 5,
   "metadata": {},
   "outputs": [
    {
     "data": {
      "text/html": [
       "<div>\n",
       "<style scoped>\n",
       "    .dataframe tbody tr th:only-of-type {\n",
       "        vertical-align: middle;\n",
       "    }\n",
       "\n",
       "    .dataframe tbody tr th {\n",
       "        vertical-align: top;\n",
       "    }\n",
       "\n",
       "    .dataframe thead th {\n",
       "        text-align: right;\n",
       "    }\n",
       "</style>\n",
       "<table border=\"1\" class=\"dataframe\">\n",
       "  <thead>\n",
       "    <tr style=\"text-align: right;\">\n",
       "      <th></th>\n",
       "      <th>id</th>\n",
       "      <th>name</th>\n",
       "      <th>age</th>\n",
       "      <th>continent</th>\n",
       "      <th>contract_until</th>\n",
       "      <th>position</th>\n",
       "      <th>prefer_foot</th>\n",
       "      <th>reputation</th>\n",
       "      <th>stat_overall</th>\n",
       "      <th>stat_potential</th>\n",
       "      <th>stat_skill_moves</th>\n",
       "    </tr>\n",
       "  </thead>\n",
       "  <tbody>\n",
       "    <tr>\n",
       "      <th>0</th>\n",
       "      <td>1</td>\n",
       "      <td>Cristiano Ronaldo</td>\n",
       "      <td>33</td>\n",
       "      <td>europe</td>\n",
       "      <td>2022</td>\n",
       "      <td>ST</td>\n",
       "      <td>right</td>\n",
       "      <td>5.0</td>\n",
       "      <td>94</td>\n",
       "      <td>94</td>\n",
       "      <td>5.0</td>\n",
       "    </tr>\n",
       "    <tr>\n",
       "      <th>1</th>\n",
       "      <td>2</td>\n",
       "      <td>Neymar Jr</td>\n",
       "      <td>26</td>\n",
       "      <td>south america</td>\n",
       "      <td>2022</td>\n",
       "      <td>ST</td>\n",
       "      <td>right</td>\n",
       "      <td>5.0</td>\n",
       "      <td>92</td>\n",
       "      <td>93</td>\n",
       "      <td>5.0</td>\n",
       "    </tr>\n",
       "    <tr>\n",
       "      <th>2</th>\n",
       "      <td>4</td>\n",
       "      <td>K. De Bruyne</td>\n",
       "      <td>27</td>\n",
       "      <td>europe</td>\n",
       "      <td>2023</td>\n",
       "      <td>MF</td>\n",
       "      <td>right</td>\n",
       "      <td>4.0</td>\n",
       "      <td>91</td>\n",
       "      <td>92</td>\n",
       "      <td>4.0</td>\n",
       "    </tr>\n",
       "    <tr>\n",
       "      <th>3</th>\n",
       "      <td>5</td>\n",
       "      <td>E. Hazard</td>\n",
       "      <td>27</td>\n",
       "      <td>europe</td>\n",
       "      <td>2020</td>\n",
       "      <td>ST</td>\n",
       "      <td>right</td>\n",
       "      <td>4.0</td>\n",
       "      <td>91</td>\n",
       "      <td>91</td>\n",
       "      <td>4.0</td>\n",
       "    </tr>\n",
       "    <tr>\n",
       "      <th>4</th>\n",
       "      <td>6</td>\n",
       "      <td>L. Modrić</td>\n",
       "      <td>32</td>\n",
       "      <td>europe</td>\n",
       "      <td>2020</td>\n",
       "      <td>MF</td>\n",
       "      <td>right</td>\n",
       "      <td>4.0</td>\n",
       "      <td>91</td>\n",
       "      <td>91</td>\n",
       "      <td>4.0</td>\n",
       "    </tr>\n",
       "  </tbody>\n",
       "</table>\n",
       "</div>"
      ],
      "text/plain": [
       "   id               name  age      continent contract_until position  \\\n",
       "0   1  Cristiano Ronaldo   33         europe           2022       ST   \n",
       "1   2          Neymar Jr   26  south america           2022       ST   \n",
       "2   4       K. De Bruyne   27         europe           2023       MF   \n",
       "3   5          E. Hazard   27         europe           2020       ST   \n",
       "4   6          L. Modrić   32         europe           2020       MF   \n",
       "\n",
       "  prefer_foot  reputation  stat_overall  stat_potential  stat_skill_moves  \n",
       "0       right         5.0            94              94               5.0  \n",
       "1       right         5.0            92              93               5.0  \n",
       "2       right         4.0            91              92               4.0  \n",
       "3       right         4.0            91              91               4.0  \n",
       "4       right         4.0            91              91               4.0  "
      ]
     },
     "execution_count": 5,
     "metadata": {},
     "output_type": "execute_result"
    }
   ],
   "source": [
    "test.head()"
   ]
  },
  {
   "cell_type": "code",
   "execution_count": 6,
   "metadata": {},
   "outputs": [
    {
     "data": {
      "text/plain": [
       "id                  0\n",
       "name                0\n",
       "age                 0\n",
       "continent           0\n",
       "contract_until      0\n",
       "position            0\n",
       "prefer_foot         0\n",
       "reputation          0\n",
       "stat_overall        0\n",
       "stat_potential      0\n",
       "stat_skill_moves    0\n",
       "value               0\n",
       "dtype: int64"
      ]
     },
     "execution_count": 6,
     "metadata": {},
     "output_type": "execute_result"
    }
   ],
   "source": [
    "train.isna().sum()"
   ]
  },
  {
   "cell_type": "code",
   "execution_count": 7,
   "metadata": {},
   "outputs": [
    {
     "name": "stdout",
     "output_type": "stream",
     "text": [
      "<class 'pandas.core.frame.DataFrame'>\n",
      "RangeIndex: 8932 entries, 0 to 8931\n",
      "Data columns (total 12 columns):\n",
      " #   Column            Non-Null Count  Dtype  \n",
      "---  ------            --------------  -----  \n",
      " 0   id                8932 non-null   int64  \n",
      " 1   name              8932 non-null   object \n",
      " 2   age               8932 non-null   int64  \n",
      " 3   continent         8932 non-null   object \n",
      " 4   contract_until    8932 non-null   object \n",
      " 5   position          8932 non-null   object \n",
      " 6   prefer_foot       8932 non-null   object \n",
      " 7   reputation        8932 non-null   float64\n",
      " 8   stat_overall      8932 non-null   int64  \n",
      " 9   stat_potential    8932 non-null   int64  \n",
      " 10  stat_skill_moves  8932 non-null   float64\n",
      " 11  value             8932 non-null   float64\n",
      "dtypes: float64(3), int64(4), object(5)\n",
      "memory usage: 837.5+ KB\n"
     ]
    }
   ],
   "source": [
    "train.info()"
   ]
  },
  {
   "cell_type": "code",
   "execution_count": 8,
   "metadata": {},
   "outputs": [
    {
     "data": {
      "text/plain": [
       "europe           5322\n",
       "south america    1927\n",
       "asia              787\n",
       "africa            721\n",
       "oceania           175\n",
       "Name: continent, dtype: int64"
      ]
     },
     "execution_count": 8,
     "metadata": {},
     "output_type": "execute_result"
    }
   ],
   "source": [
    "train['continent'].value_counts()"
   ]
  },
  {
   "cell_type": "code",
   "execution_count": 9,
   "metadata": {},
   "outputs": [
    {
     "data": {
      "text/plain": [
       "MF    3428\n",
       "DF    2791\n",
       "ST    1705\n",
       "GK    1008\n",
       "Name: position, dtype: int64"
      ]
     },
     "execution_count": 9,
     "metadata": {},
     "output_type": "execute_result"
    }
   ],
   "source": [
    "train['position'].value_counts()"
   ]
  },
  {
   "cell_type": "code",
   "execution_count": 10,
   "metadata": {},
   "outputs": [
    {
     "data": {
      "text/plain": [
       "right    6837\n",
       "left     2095\n",
       "Name: prefer_foot, dtype: int64"
      ]
     },
     "execution_count": 10,
     "metadata": {},
     "output_type": "execute_result"
    }
   ],
   "source": [
    "train['prefer_foot'].value_counts()"
   ]
  },
  {
   "cell_type": "code",
   "execution_count": 11,
   "metadata": {},
   "outputs": [
    {
     "data": {
      "text/plain": [
       "2019            2366\n",
       "2021            2308\n",
       "2020            2041\n",
       "2022             761\n",
       "2023             506\n",
       "Jun 30, 2019     501\n",
       "2018             327\n",
       "Dec 31, 2018      64\n",
       "May 31, 2019      19\n",
       "2024              12\n",
       "Jan 31, 2019      10\n",
       "Jun 30, 2020       9\n",
       "2025               3\n",
       "Jan 1, 2019        2\n",
       "2026               1\n",
       "May 31, 2020       1\n",
       "Jan 12, 2019       1\n",
       "Name: contract_until, dtype: int64"
      ]
     },
     "execution_count": 11,
     "metadata": {},
     "output_type": "execute_result"
    }
   ],
   "source": [
    "train['contract_until'].value_counts()"
   ]
  },
  {
   "cell_type": "markdown",
   "metadata": {},
   "source": [
    "# EDA"
   ]
  },
  {
   "cell_type": "code",
   "execution_count": 12,
   "metadata": {},
   "outputs": [
    {
     "data": {
      "image/png": "[encoded data removed]",
      "text/plain": [
       "<Figure size 1152x864 with 9 Axes>"
      ]
     },
     "metadata": {},
     "output_type": "display_data"
    }
   ],
   "source": [
    "train.hist(figsize=(16, 12), bins=25); plt.show()"
   ]
  },
  {
   "cell_type": "code",
   "execution_count": 13,
   "metadata": {},
   "outputs": [
    {
     "data": {
      "text/plain": [
       "<AxesSubplot:>"
      ]
     },
     "execution_count": 13,
     "metadata": {},
     "output_type": "execute_result"
    },
    {
     "data": {
      "image/png": "[encoded data removed]",
      "text/plain": [
       "<Figure size 576x432 with 2 Axes>"
      ]
     },
     "metadata": {},
     "output_type": "display_data"
    }
   ],
   "source": [
    "plt.figure(figsize=(8, 6))\n",
    "sns.heatmap(train.corr(), annot=True, fmt='.4f', cmap='Blues')"
   ]
  },
  {
   "cell_type": "markdown",
   "metadata": {},
   "source": [
    "# derived feat"
   ]
  },
  {
   "cell_type": "code",
   "execution_count": 14,
   "metadata": {},
   "outputs": [
    {
     "data": {
      "text/html": [
       "<div>\n",
       "<style scoped>\n",
       "    .dataframe tbody tr th:only-of-type {\n",
       "        vertical-align: middle;\n",
       "    }\n",
       "\n",
       "    .dataframe tbody tr th {\n",
       "        vertical-align: top;\n",
       "    }\n",
       "\n",
       "    .dataframe thead th {\n",
       "        text-align: right;\n",
       "    }\n",
       "</style>\n",
       "<table border=\"1\" class=\"dataframe\">\n",
       "  <thead>\n",
       "    <tr style=\"text-align: right;\">\n",
       "      <th></th>\n",
       "      <th>id</th>\n",
       "      <th>name</th>\n",
       "      <th>age</th>\n",
       "      <th>continent</th>\n",
       "      <th>contract_until</th>\n",
       "      <th>position</th>\n",
       "      <th>prefer_foot</th>\n",
       "      <th>reputation</th>\n",
       "      <th>stat_overall</th>\n",
       "      <th>stat_potential</th>\n",
       "      <th>stat_skill_moves</th>\n",
       "      <th>value</th>\n",
       "    </tr>\n",
       "  </thead>\n",
       "  <tbody>\n",
       "  </tbody>\n",
       "</table>\n",
       "</div>"
      ],
      "text/plain": [
       "Empty DataFrame\n",
       "Columns: [id, name, age, continent, contract_until, position, prefer_foot, reputation, stat_overall, stat_potential, stat_skill_moves, value]\n",
       "Index: []"
      ]
     },
     "execution_count": 14,
     "metadata": {},
     "output_type": "execute_result"
    }
   ],
   "source": [
    "train[train['stat_overall'] > train['stat_potential']]"
   ]
  },
  {
   "cell_type": "code",
   "execution_count": 15,
   "metadata": {},
   "outputs": [
    {
     "data": {
      "text/html": [
       "<div>\n",
       "<style scoped>\n",
       "    .dataframe tbody tr th:only-of-type {\n",
       "        vertical-align: middle;\n",
       "    }\n",
       "\n",
       "    .dataframe tbody tr th {\n",
       "        vertical-align: top;\n",
       "    }\n",
       "\n",
       "    .dataframe thead th {\n",
       "        text-align: right;\n",
       "    }\n",
       "</style>\n",
       "<table border=\"1\" class=\"dataframe\">\n",
       "  <thead>\n",
       "    <tr style=\"text-align: right;\">\n",
       "      <th></th>\n",
       "      <th>id</th>\n",
       "      <th>name</th>\n",
       "      <th>age</th>\n",
       "      <th>continent</th>\n",
       "      <th>contract_until</th>\n",
       "      <th>position</th>\n",
       "      <th>prefer_foot</th>\n",
       "      <th>reputation</th>\n",
       "      <th>stat_overall</th>\n",
       "      <th>stat_potential</th>\n",
       "      <th>stat_skill_moves</th>\n",
       "    </tr>\n",
       "  </thead>\n",
       "  <tbody>\n",
       "  </tbody>\n",
       "</table>\n",
       "</div>"
      ],
      "text/plain": [
       "Empty DataFrame\n",
       "Columns: [id, name, age, continent, contract_until, position, prefer_foot, reputation, stat_overall, stat_potential, stat_skill_moves]\n",
       "Index: []"
      ]
     },
     "execution_count": 15,
     "metadata": {},
     "output_type": "execute_result"
    }
   ],
   "source": [
    "test[test['stat_overall'] > test['stat_potential']]"
   ]
  },
  {
   "cell_type": "code",
   "execution_count": 16,
   "metadata": {},
   "outputs": [],
   "source": [
    "# growth_rate = stat_overall / stat_potential\n",
    "\n",
    "train['growth_rate'] = train['stat_overall'] / train['stat_potential']\n",
    "test['growth_rate'] = test['stat_overall'] / test['stat_potential']"
   ]
  },
  {
   "cell_type": "code",
   "execution_count": 17,
   "metadata": {},
   "outputs": [
    {
     "data": {
      "text/html": [
       "<div>\n",
       "<style scoped>\n",
       "    .dataframe tbody tr th:only-of-type {\n",
       "        vertical-align: middle;\n",
       "    }\n",
       "\n",
       "    .dataframe tbody tr th {\n",
       "        vertical-align: top;\n",
       "    }\n",
       "\n",
       "    .dataframe thead th {\n",
       "        text-align: right;\n",
       "    }\n",
       "</style>\n",
       "<table border=\"1\" class=\"dataframe\">\n",
       "  <thead>\n",
       "    <tr style=\"text-align: right;\">\n",
       "      <th></th>\n",
       "      <th>id</th>\n",
       "      <th>name</th>\n",
       "      <th>age</th>\n",
       "      <th>continent</th>\n",
       "      <th>contract_until</th>\n",
       "      <th>position</th>\n",
       "      <th>prefer_foot</th>\n",
       "      <th>reputation</th>\n",
       "      <th>stat_overall</th>\n",
       "      <th>stat_potential</th>\n",
       "      <th>stat_skill_moves</th>\n",
       "      <th>value</th>\n",
       "      <th>growth_rate</th>\n",
       "    </tr>\n",
       "  </thead>\n",
       "  <tbody>\n",
       "    <tr>\n",
       "      <th>0</th>\n",
       "      <td>0</td>\n",
       "      <td>L. Messi</td>\n",
       "      <td>31</td>\n",
       "      <td>south america</td>\n",
       "      <td>2021</td>\n",
       "      <td>ST</td>\n",
       "      <td>left</td>\n",
       "      <td>5.0</td>\n",
       "      <td>94</td>\n",
       "      <td>94</td>\n",
       "      <td>4.0</td>\n",
       "      <td>110500000.0</td>\n",
       "      <td>1.000000</td>\n",
       "    </tr>\n",
       "    <tr>\n",
       "      <th>1</th>\n",
       "      <td>3</td>\n",
       "      <td>De Gea</td>\n",
       "      <td>27</td>\n",
       "      <td>europe</td>\n",
       "      <td>2020</td>\n",
       "      <td>GK</td>\n",
       "      <td>right</td>\n",
       "      <td>4.0</td>\n",
       "      <td>91</td>\n",
       "      <td>93</td>\n",
       "      <td>1.0</td>\n",
       "      <td>72000000.0</td>\n",
       "      <td>0.978495</td>\n",
       "    </tr>\n",
       "    <tr>\n",
       "      <th>2</th>\n",
       "      <td>7</td>\n",
       "      <td>L. Suárez</td>\n",
       "      <td>31</td>\n",
       "      <td>south america</td>\n",
       "      <td>2021</td>\n",
       "      <td>ST</td>\n",
       "      <td>right</td>\n",
       "      <td>5.0</td>\n",
       "      <td>91</td>\n",
       "      <td>91</td>\n",
       "      <td>3.0</td>\n",
       "      <td>80000000.0</td>\n",
       "      <td>1.000000</td>\n",
       "    </tr>\n",
       "    <tr>\n",
       "      <th>3</th>\n",
       "      <td>8</td>\n",
       "      <td>Sergio Ramos</td>\n",
       "      <td>32</td>\n",
       "      <td>europe</td>\n",
       "      <td>2020</td>\n",
       "      <td>DF</td>\n",
       "      <td>right</td>\n",
       "      <td>4.0</td>\n",
       "      <td>91</td>\n",
       "      <td>91</td>\n",
       "      <td>3.0</td>\n",
       "      <td>51000000.0</td>\n",
       "      <td>1.000000</td>\n",
       "    </tr>\n",
       "    <tr>\n",
       "      <th>4</th>\n",
       "      <td>9</td>\n",
       "      <td>J. Oblak</td>\n",
       "      <td>25</td>\n",
       "      <td>europe</td>\n",
       "      <td>2021</td>\n",
       "      <td>GK</td>\n",
       "      <td>right</td>\n",
       "      <td>3.0</td>\n",
       "      <td>90</td>\n",
       "      <td>93</td>\n",
       "      <td>1.0</td>\n",
       "      <td>68000000.0</td>\n",
       "      <td>0.967742</td>\n",
       "    </tr>\n",
       "  </tbody>\n",
       "</table>\n",
       "</div>"
      ],
      "text/plain": [
       "   id          name  age      continent contract_until position prefer_foot  \\\n",
       "0   0      L. Messi   31  south america           2021       ST        left   \n",
       "1   3        De Gea   27         europe           2020       GK       right   \n",
       "2   7     L. Suárez   31  south america           2021       ST       right   \n",
       "3   8  Sergio Ramos   32         europe           2020       DF       right   \n",
       "4   9      J. Oblak   25         europe           2021       GK       right   \n",
       "\n",
       "   reputation  stat_overall  stat_potential  stat_skill_moves        value  \\\n",
       "0         5.0            94              94               4.0  110500000.0   \n",
       "1         4.0            91              93               1.0   72000000.0   \n",
       "2         5.0            91              91               3.0   80000000.0   \n",
       "3         4.0            91              91               3.0   51000000.0   \n",
       "4         3.0            90              93               1.0   68000000.0   \n",
       "\n",
       "   growth_rate  \n",
       "0     1.000000  \n",
       "1     0.978495  \n",
       "2     1.000000  \n",
       "3     1.000000  \n",
       "4     0.967742  "
      ]
     },
     "execution_count": 17,
     "metadata": {},
     "output_type": "execute_result"
    }
   ],
   "source": [
    "train.head()"
   ]
  },
  {
   "cell_type": "code",
   "execution_count": 18,
   "metadata": {},
   "outputs": [
    {
     "data": {
      "text/plain": [
       "2019            2366\n",
       "2021            2308\n",
       "2020            2041\n",
       "2022             761\n",
       "2023             506\n",
       "Jun 30, 2019     501\n",
       "2018             327\n",
       "Dec 31, 2018      64\n",
       "May 31, 2019      19\n",
       "2024              12\n",
       "Jan 31, 2019      10\n",
       "Jun 30, 2020       9\n",
       "2025               3\n",
       "Jan 1, 2019        2\n",
       "2026               1\n",
       "May 31, 2020       1\n",
       "Jan 12, 2019       1\n",
       "Name: contract_until, dtype: int64"
      ]
     },
     "execution_count": 18,
     "metadata": {},
     "output_type": "execute_result"
    }
   ],
   "source": [
    "train['contract_until'].value_counts()"
   ]
  },
  {
   "cell_type": "code",
   "execution_count": 19,
   "metadata": {},
   "outputs": [
    {
     "data": {
      "text/plain": [
       "2021            985\n",
       "2019            943\n",
       "2020            882\n",
       "2022            338\n",
       "2023            251\n",
       "Jun 30, 2019    209\n",
       "2018            155\n",
       "Dec 31, 2018     34\n",
       "May 31, 2019     14\n",
       "2025              4\n",
       "Jun 30, 2020      4\n",
       "2024              2\n",
       "Jan 31, 2019      2\n",
       "Jan 1, 2019       1\n",
       "May 31, 2020      1\n",
       "Jun 1, 2019       1\n",
       "Dec 31, 2019      1\n",
       "2026              1\n",
       "Name: contract_until, dtype: int64"
      ]
     },
     "execution_count": 19,
     "metadata": {},
     "output_type": "execute_result"
    }
   ],
   "source": [
    "test['contract_until'].value_counts()"
   ]
  },
  {
   "cell_type": "code",
   "execution_count": 20,
   "metadata": {},
   "outputs": [],
   "source": [
    "replace_dates = [\n",
    "    'Jun 30, 2019', 'Dec 31, 2018', 'May 31, 2019', \n",
    "    'Jan 31, 2019', 'Jun 30, 2020', 'Jan 1, 2019', \n",
    "    'May 31, 2020', 'Jan 12, 2019', 'Jun 1, 2019', \n",
    "    'Dec 31, 2019'\n",
    "]\n",
    "for date in replace_dates:\n",
    "    train['contract_until'] = train['contract_until'].str.replace(date, date[-4:])\n",
    "    test['contract_until']  = test['contract_until'].str.replace(date, date[-4:])"
   ]
  },
  {
   "cell_type": "code",
   "execution_count": 21,
   "metadata": {},
   "outputs": [
    {
     "data": {
      "text/plain": [
       "2019    2899\n",
       "2021    2308\n",
       "2020    2051\n",
       "2022     761\n",
       "2023     506\n",
       "2018     391\n",
       "2024      12\n",
       "2025       3\n",
       "2026       1\n",
       "Name: contract_until, dtype: int64"
      ]
     },
     "execution_count": 21,
     "metadata": {},
     "output_type": "execute_result"
    }
   ],
   "source": [
    "train['contract_until'].value_counts()"
   ]
  },
  {
   "cell_type": "code",
   "execution_count": 22,
   "metadata": {},
   "outputs": [
    {
     "data": {
      "text/plain": [
       "2019    1171\n",
       "2021     985\n",
       "2020     887\n",
       "2022     338\n",
       "2023     251\n",
       "2018     189\n",
       "2025       4\n",
       "2024       2\n",
       "2026       1\n",
       "Name: contract_until, dtype: int64"
      ]
     },
     "execution_count": 22,
     "metadata": {},
     "output_type": "execute_result"
    }
   ],
   "source": [
    "test['contract_until'].value_counts()"
   ]
  },
  {
   "cell_type": "code",
   "execution_count": 23,
   "metadata": {},
   "outputs": [],
   "source": [
    "train['contract_until'] = train['contract_until'].astype('int')\n",
    "test['contract_until']  = test['contract_until'].astype('int')"
   ]
  },
  {
   "cell_type": "code",
   "execution_count": 24,
   "metadata": {},
   "outputs": [
    {
     "data": {
      "text/plain": [
       "dtype('int32')"
      ]
     },
     "execution_count": 24,
     "metadata": {},
     "output_type": "execute_result"
    }
   ],
   "source": [
    "train['contract_until'].dtype"
   ]
  },
  {
   "cell_type": "code",
   "execution_count": 25,
   "metadata": {},
   "outputs": [],
   "source": [
    "# left = contract_until - 2018\n",
    "train['left'] = train['contract_until'] - 2018\n",
    "test['left']  = test['contract_until'] - 2018"
   ]
  },
  {
   "cell_type": "code",
   "execution_count": 26,
   "metadata": {},
   "outputs": [
    {
     "data": {
      "text/html": [
       "<div>\n",
       "<style scoped>\n",
       "    .dataframe tbody tr th:only-of-type {\n",
       "        vertical-align: middle;\n",
       "    }\n",
       "\n",
       "    .dataframe tbody tr th {\n",
       "        vertical-align: top;\n",
       "    }\n",
       "\n",
       "    .dataframe thead th {\n",
       "        text-align: right;\n",
       "    }\n",
       "</style>\n",
       "<table border=\"1\" class=\"dataframe\">\n",
       "  <thead>\n",
       "    <tr style=\"text-align: right;\">\n",
       "      <th></th>\n",
       "      <th>id</th>\n",
       "      <th>name</th>\n",
       "      <th>age</th>\n",
       "      <th>continent</th>\n",
       "      <th>contract_until</th>\n",
       "      <th>position</th>\n",
       "      <th>prefer_foot</th>\n",
       "      <th>reputation</th>\n",
       "      <th>stat_overall</th>\n",
       "      <th>stat_potential</th>\n",
       "      <th>stat_skill_moves</th>\n",
       "      <th>value</th>\n",
       "      <th>growth_rate</th>\n",
       "      <th>left</th>\n",
       "    </tr>\n",
       "  </thead>\n",
       "  <tbody>\n",
       "    <tr>\n",
       "      <th>0</th>\n",
       "      <td>0</td>\n",
       "      <td>L. Messi</td>\n",
       "      <td>31</td>\n",
       "      <td>south america</td>\n",
       "      <td>2021</td>\n",
       "      <td>ST</td>\n",
       "      <td>left</td>\n",
       "      <td>5.0</td>\n",
       "      <td>94</td>\n",
       "      <td>94</td>\n",
       "      <td>4.0</td>\n",
       "      <td>110500000.0</td>\n",
       "      <td>1.000000</td>\n",
       "      <td>3</td>\n",
       "    </tr>\n",
       "    <tr>\n",
       "      <th>1</th>\n",
       "      <td>3</td>\n",
       "      <td>De Gea</td>\n",
       "      <td>27</td>\n",
       "      <td>europe</td>\n",
       "      <td>2020</td>\n",
       "      <td>GK</td>\n",
       "      <td>right</td>\n",
       "      <td>4.0</td>\n",
       "      <td>91</td>\n",
       "      <td>93</td>\n",
       "      <td>1.0</td>\n",
       "      <td>72000000.0</td>\n",
       "      <td>0.978495</td>\n",
       "      <td>2</td>\n",
       "    </tr>\n",
       "    <tr>\n",
       "      <th>2</th>\n",
       "      <td>7</td>\n",
       "      <td>L. Suárez</td>\n",
       "      <td>31</td>\n",
       "      <td>south america</td>\n",
       "      <td>2021</td>\n",
       "      <td>ST</td>\n",
       "      <td>right</td>\n",
       "      <td>5.0</td>\n",
       "      <td>91</td>\n",
       "      <td>91</td>\n",
       "      <td>3.0</td>\n",
       "      <td>80000000.0</td>\n",
       "      <td>1.000000</td>\n",
       "      <td>3</td>\n",
       "    </tr>\n",
       "    <tr>\n",
       "      <th>3</th>\n",
       "      <td>8</td>\n",
       "      <td>Sergio Ramos</td>\n",
       "      <td>32</td>\n",
       "      <td>europe</td>\n",
       "      <td>2020</td>\n",
       "      <td>DF</td>\n",
       "      <td>right</td>\n",
       "      <td>4.0</td>\n",
       "      <td>91</td>\n",
       "      <td>91</td>\n",
       "      <td>3.0</td>\n",
       "      <td>51000000.0</td>\n",
       "      <td>1.000000</td>\n",
       "      <td>2</td>\n",
       "    </tr>\n",
       "    <tr>\n",
       "      <th>4</th>\n",
       "      <td>9</td>\n",
       "      <td>J. Oblak</td>\n",
       "      <td>25</td>\n",
       "      <td>europe</td>\n",
       "      <td>2021</td>\n",
       "      <td>GK</td>\n",
       "      <td>right</td>\n",
       "      <td>3.0</td>\n",
       "      <td>90</td>\n",
       "      <td>93</td>\n",
       "      <td>1.0</td>\n",
       "      <td>68000000.0</td>\n",
       "      <td>0.967742</td>\n",
       "      <td>3</td>\n",
       "    </tr>\n",
       "  </tbody>\n",
       "</table>\n",
       "</div>"
      ],
      "text/plain": [
       "   id          name  age      continent  contract_until position prefer_foot  \\\n",
       "0   0      L. Messi   31  south america            2021       ST        left   \n",
       "1   3        De Gea   27         europe            2020       GK       right   \n",
       "2   7     L. Suárez   31  south america            2021       ST       right   \n",
       "3   8  Sergio Ramos   32         europe            2020       DF       right   \n",
       "4   9      J. Oblak   25         europe            2021       GK       right   \n",
       "\n",
       "   reputation  stat_overall  stat_potential  stat_skill_moves        value  \\\n",
       "0         5.0            94              94               4.0  110500000.0   \n",
       "1         4.0            91              93               1.0   72000000.0   \n",
       "2         5.0            91              91               3.0   80000000.0   \n",
       "3         4.0            91              91               3.0   51000000.0   \n",
       "4         3.0            90              93               1.0   68000000.0   \n",
       "\n",
       "   growth_rate  left  \n",
       "0     1.000000     3  \n",
       "1     0.978495     2  \n",
       "2     1.000000     3  \n",
       "3     1.000000     2  \n",
       "4     0.967742     3  "
      ]
     },
     "execution_count": 26,
     "metadata": {},
     "output_type": "execute_result"
    }
   ],
   "source": [
    "train.head()"
   ]
  },
  {
   "cell_type": "markdown",
   "metadata": {},
   "source": [
    "# drop"
   ]
  },
  {
   "cell_type": "code",
   "execution_count": 27,
   "metadata": {},
   "outputs": [],
   "source": [
    "train.drop(['id', 'name'], axis=1, inplace=True)\n",
    "test.drop(['id', 'name'], axis=1, inplace=True)"
   ]
  },
  {
   "cell_type": "markdown",
   "metadata": {},
   "source": [
    "# scale"
   ]
  },
  {
   "cell_type": "code",
   "execution_count": 28,
   "metadata": {},
   "outputs": [],
   "source": [
    "from sklearn.preprocessing import MinMaxScaler\n",
    "\n",
    "scaler = MinMaxScaler()\n",
    "scaler.fit(train[['contract_until']])\n",
    "\n",
    "train['contract_until'] = scaler.transform(train[['contract_until']])\n",
    "test['contract_until']  = scaler.transform(test[['contract_until']])"
   ]
  },
  {
   "cell_type": "code",
   "execution_count": 29,
   "metadata": {},
   "outputs": [],
   "source": [
    "train['value'] = np.log1p(train['value'])"
   ]
  },
  {
   "cell_type": "markdown",
   "metadata": {},
   "source": [
    "# get_dummies"
   ]
  },
  {
   "cell_type": "code",
   "execution_count": 30,
   "metadata": {},
   "outputs": [
    {
     "name": "stdout",
     "output_type": "stream",
     "text": [
      "(12760, 12)\n"
     ]
    },
    {
     "data": {
      "text/html": [
       "<div>\n",
       "<style scoped>\n",
       "    .dataframe tbody tr th:only-of-type {\n",
       "        vertical-align: middle;\n",
       "    }\n",
       "\n",
       "    .dataframe tbody tr th {\n",
       "        vertical-align: top;\n",
       "    }\n",
       "\n",
       "    .dataframe thead th {\n",
       "        text-align: right;\n",
       "    }\n",
       "</style>\n",
       "<table border=\"1\" class=\"dataframe\">\n",
       "  <thead>\n",
       "    <tr style=\"text-align: right;\">\n",
       "      <th></th>\n",
       "      <th>age</th>\n",
       "      <th>continent</th>\n",
       "      <th>contract_until</th>\n",
       "      <th>position</th>\n",
       "      <th>prefer_foot</th>\n",
       "      <th>reputation</th>\n",
       "      <th>stat_overall</th>\n",
       "      <th>stat_potential</th>\n",
       "      <th>stat_skill_moves</th>\n",
       "      <th>value</th>\n",
       "      <th>growth_rate</th>\n",
       "      <th>left</th>\n",
       "    </tr>\n",
       "  </thead>\n",
       "  <tbody>\n",
       "    <tr>\n",
       "      <th>0</th>\n",
       "      <td>31</td>\n",
       "      <td>south america</td>\n",
       "      <td>0.375</td>\n",
       "      <td>ST</td>\n",
       "      <td>left</td>\n",
       "      <td>5.0</td>\n",
       "      <td>94</td>\n",
       "      <td>94</td>\n",
       "      <td>4.0</td>\n",
       "      <td>18.520526</td>\n",
       "      <td>1.000000</td>\n",
       "      <td>3</td>\n",
       "    </tr>\n",
       "    <tr>\n",
       "      <th>1</th>\n",
       "      <td>27</td>\n",
       "      <td>europe</td>\n",
       "      <td>0.250</td>\n",
       "      <td>GK</td>\n",
       "      <td>right</td>\n",
       "      <td>4.0</td>\n",
       "      <td>91</td>\n",
       "      <td>93</td>\n",
       "      <td>1.0</td>\n",
       "      <td>18.092177</td>\n",
       "      <td>0.978495</td>\n",
       "      <td>2</td>\n",
       "    </tr>\n",
       "    <tr>\n",
       "      <th>2</th>\n",
       "      <td>31</td>\n",
       "      <td>south america</td>\n",
       "      <td>0.375</td>\n",
       "      <td>ST</td>\n",
       "      <td>right</td>\n",
       "      <td>5.0</td>\n",
       "      <td>91</td>\n",
       "      <td>91</td>\n",
       "      <td>3.0</td>\n",
       "      <td>18.197537</td>\n",
       "      <td>1.000000</td>\n",
       "      <td>3</td>\n",
       "    </tr>\n",
       "    <tr>\n",
       "      <th>3</th>\n",
       "      <td>32</td>\n",
       "      <td>europe</td>\n",
       "      <td>0.250</td>\n",
       "      <td>DF</td>\n",
       "      <td>right</td>\n",
       "      <td>4.0</td>\n",
       "      <td>91</td>\n",
       "      <td>91</td>\n",
       "      <td>3.0</td>\n",
       "      <td>17.747336</td>\n",
       "      <td>1.000000</td>\n",
       "      <td>2</td>\n",
       "    </tr>\n",
       "    <tr>\n",
       "      <th>4</th>\n",
       "      <td>25</td>\n",
       "      <td>europe</td>\n",
       "      <td>0.375</td>\n",
       "      <td>GK</td>\n",
       "      <td>right</td>\n",
       "      <td>3.0</td>\n",
       "      <td>90</td>\n",
       "      <td>93</td>\n",
       "      <td>1.0</td>\n",
       "      <td>18.035018</td>\n",
       "      <td>0.967742</td>\n",
       "      <td>3</td>\n",
       "    </tr>\n",
       "  </tbody>\n",
       "</table>\n",
       "</div>"
      ],
      "text/plain": [
       "   age      continent  contract_until position prefer_foot  reputation  \\\n",
       "0   31  south america           0.375       ST        left         5.0   \n",
       "1   27         europe           0.250       GK       right         4.0   \n",
       "2   31  south america           0.375       ST       right         5.0   \n",
       "3   32         europe           0.250       DF       right         4.0   \n",
       "4   25         europe           0.375       GK       right         3.0   \n",
       "\n",
       "   stat_overall  stat_potential  stat_skill_moves      value  growth_rate  \\\n",
       "0            94              94               4.0  18.520526     1.000000   \n",
       "1            91              93               1.0  18.092177     0.978495   \n",
       "2            91              91               3.0  18.197537     1.000000   \n",
       "3            91              91               3.0  17.747336     1.000000   \n",
       "4            90              93               1.0  18.035018     0.967742   \n",
       "\n",
       "   left  \n",
       "0     3  \n",
       "1     2  \n",
       "2     3  \n",
       "3     2  \n",
       "4     3  "
      ]
     },
     "execution_count": 30,
     "metadata": {},
     "output_type": "execute_result"
    }
   ],
   "source": [
    "df = pd.concat([train, test], axis=0)\n",
    "print(df.shape)\n",
    "df.head()"
   ]
  },
  {
   "cell_type": "code",
   "execution_count": 31,
   "metadata": {},
   "outputs": [
    {
     "data": {
      "text/html": [
       "<div>\n",
       "<style scoped>\n",
       "    .dataframe tbody tr th:only-of-type {\n",
       "        vertical-align: middle;\n",
       "    }\n",
       "\n",
       "    .dataframe tbody tr th {\n",
       "        vertical-align: top;\n",
       "    }\n",
       "\n",
       "    .dataframe thead th {\n",
       "        text-align: right;\n",
       "    }\n",
       "</style>\n",
       "<table border=\"1\" class=\"dataframe\">\n",
       "  <thead>\n",
       "    <tr style=\"text-align: right;\">\n",
       "      <th></th>\n",
       "      <th>age</th>\n",
       "      <th>contract_until</th>\n",
       "      <th>reputation</th>\n",
       "      <th>stat_overall</th>\n",
       "      <th>stat_potential</th>\n",
       "      <th>stat_skill_moves</th>\n",
       "      <th>value</th>\n",
       "      <th>growth_rate</th>\n",
       "      <th>left</th>\n",
       "      <th>continent_africa</th>\n",
       "      <th>continent_asia</th>\n",
       "      <th>continent_europe</th>\n",
       "      <th>continent_oceania</th>\n",
       "      <th>continent_south america</th>\n",
       "      <th>position_DF</th>\n",
       "      <th>position_GK</th>\n",
       "      <th>position_MF</th>\n",
       "      <th>position_ST</th>\n",
       "      <th>prefer_foot_left</th>\n",
       "      <th>prefer_foot_right</th>\n",
       "    </tr>\n",
       "  </thead>\n",
       "  <tbody>\n",
       "    <tr>\n",
       "      <th>0</th>\n",
       "      <td>31</td>\n",
       "      <td>0.375</td>\n",
       "      <td>5.0</td>\n",
       "      <td>94</td>\n",
       "      <td>94</td>\n",
       "      <td>4.0</td>\n",
       "      <td>18.520526</td>\n",
       "      <td>1.000000</td>\n",
       "      <td>3</td>\n",
       "      <td>0</td>\n",
       "      <td>0</td>\n",
       "      <td>0</td>\n",
       "      <td>0</td>\n",
       "      <td>1</td>\n",
       "      <td>0</td>\n",
       "      <td>0</td>\n",
       "      <td>0</td>\n",
       "      <td>1</td>\n",
       "      <td>1</td>\n",
       "      <td>0</td>\n",
       "    </tr>\n",
       "    <tr>\n",
       "      <th>1</th>\n",
       "      <td>27</td>\n",
       "      <td>0.250</td>\n",
       "      <td>4.0</td>\n",
       "      <td>91</td>\n",
       "      <td>93</td>\n",
       "      <td>1.0</td>\n",
       "      <td>18.092177</td>\n",
       "      <td>0.978495</td>\n",
       "      <td>2</td>\n",
       "      <td>0</td>\n",
       "      <td>0</td>\n",
       "      <td>1</td>\n",
       "      <td>0</td>\n",
       "      <td>0</td>\n",
       "      <td>0</td>\n",
       "      <td>1</td>\n",
       "      <td>0</td>\n",
       "      <td>0</td>\n",
       "      <td>0</td>\n",
       "      <td>1</td>\n",
       "    </tr>\n",
       "    <tr>\n",
       "      <th>2</th>\n",
       "      <td>31</td>\n",
       "      <td>0.375</td>\n",
       "      <td>5.0</td>\n",
       "      <td>91</td>\n",
       "      <td>91</td>\n",
       "      <td>3.0</td>\n",
       "      <td>18.197537</td>\n",
       "      <td>1.000000</td>\n",
       "      <td>3</td>\n",
       "      <td>0</td>\n",
       "      <td>0</td>\n",
       "      <td>0</td>\n",
       "      <td>0</td>\n",
       "      <td>1</td>\n",
       "      <td>0</td>\n",
       "      <td>0</td>\n",
       "      <td>0</td>\n",
       "      <td>1</td>\n",
       "      <td>0</td>\n",
       "      <td>1</td>\n",
       "    </tr>\n",
       "    <tr>\n",
       "      <th>3</th>\n",
       "      <td>32</td>\n",
       "      <td>0.250</td>\n",
       "      <td>4.0</td>\n",
       "      <td>91</td>\n",
       "      <td>91</td>\n",
       "      <td>3.0</td>\n",
       "      <td>17.747336</td>\n",
       "      <td>1.000000</td>\n",
       "      <td>2</td>\n",
       "      <td>0</td>\n",
       "      <td>0</td>\n",
       "      <td>1</td>\n",
       "      <td>0</td>\n",
       "      <td>0</td>\n",
       "      <td>1</td>\n",
       "      <td>0</td>\n",
       "      <td>0</td>\n",
       "      <td>0</td>\n",
       "      <td>0</td>\n",
       "      <td>1</td>\n",
       "    </tr>\n",
       "    <tr>\n",
       "      <th>4</th>\n",
       "      <td>25</td>\n",
       "      <td>0.375</td>\n",
       "      <td>3.0</td>\n",
       "      <td>90</td>\n",
       "      <td>93</td>\n",
       "      <td>1.0</td>\n",
       "      <td>18.035018</td>\n",
       "      <td>0.967742</td>\n",
       "      <td>3</td>\n",
       "      <td>0</td>\n",
       "      <td>0</td>\n",
       "      <td>1</td>\n",
       "      <td>0</td>\n",
       "      <td>0</td>\n",
       "      <td>0</td>\n",
       "      <td>1</td>\n",
       "      <td>0</td>\n",
       "      <td>0</td>\n",
       "      <td>0</td>\n",
       "      <td>1</td>\n",
       "    </tr>\n",
       "  </tbody>\n",
       "</table>\n",
       "</div>"
      ],
      "text/plain": [
       "   age  contract_until  reputation  stat_overall  stat_potential  \\\n",
       "0   31           0.375         5.0            94              94   \n",
       "1   27           0.250         4.0            91              93   \n",
       "2   31           0.375         5.0            91              91   \n",
       "3   32           0.250         4.0            91              91   \n",
       "4   25           0.375         3.0            90              93   \n",
       "\n",
       "   stat_skill_moves      value  growth_rate  left  continent_africa  \\\n",
       "0               4.0  18.520526     1.000000     3                 0   \n",
       "1               1.0  18.092177     0.978495     2                 0   \n",
       "2               3.0  18.197537     1.000000     3                 0   \n",
       "3               3.0  17.747336     1.000000     2                 0   \n",
       "4               1.0  18.035018     0.967742     3                 0   \n",
       "\n",
       "   continent_asia  continent_europe  continent_oceania  \\\n",
       "0               0                 0                  0   \n",
       "1               0                 1                  0   \n",
       "2               0                 0                  0   \n",
       "3               0                 1                  0   \n",
       "4               0                 1                  0   \n",
       "\n",
       "   continent_south america  position_DF  position_GK  position_MF  \\\n",
       "0                        1            0            0            0   \n",
       "1                        0            0            1            0   \n",
       "2                        1            0            0            0   \n",
       "3                        0            1            0            0   \n",
       "4                        0            0            1            0   \n",
       "\n",
       "   position_ST  prefer_foot_left  prefer_foot_right  \n",
       "0            1                 1                  0  \n",
       "1            0                 0                  1  \n",
       "2            1                 0                  1  \n",
       "3            0                 0                  1  \n",
       "4            0                 0                  1  "
      ]
     },
     "execution_count": 31,
     "metadata": {},
     "output_type": "execute_result"
    }
   ],
   "source": [
    "df = pd.get_dummies(df)\n",
    "df.head()"
   ]
  },
  {
   "cell_type": "code",
   "execution_count": 32,
   "metadata": {},
   "outputs": [],
   "source": [
    "train = df[df['value'].notna()]\n",
    "test  = df[df['value'].isna()]"
   ]
  },
  {
   "cell_type": "markdown",
   "metadata": {},
   "source": [
    "# train"
   ]
  },
  {
   "cell_type": "code",
   "execution_count": 33,
   "metadata": {},
   "outputs": [],
   "source": [
    "X = train.drop('value', axis=1)\n",
    "y = train['value']"
   ]
  },
  {
   "cell_type": "code",
   "execution_count": 35,
   "metadata": {},
   "outputs": [],
   "source": [
    "from sklearn.ensemble import GradientBoostingRegressor\n",
    "from sklearn.ensemble import BaggingRegressor"
   ]
  },
  {
   "cell_type": "code",
   "execution_count": 39,
   "metadata": {},
   "outputs": [
    {
     "data": {
      "text/plain": [
       "BaggingRegressor(base_estimator=GradientBoostingRegressor(n_estimators=1000,\n",
       "                                                          random_state=0),\n",
       "                 n_estimators=1000, random_state=0)"
      ]
     },
     "execution_count": 39,
     "metadata": {},
     "output_type": "execute_result"
    }
   ],
   "source": [
    "boost = GradientBoostingRegressor(\n",
    "    loss='ls', \n",
    "    learning_rate=0.1, \n",
    "    n_estimators=1000, \n",
    "    subsample=1.0, \n",
    "    alpha=0.9, \n",
    "    random_state=0, \n",
    ")\n",
    "\n",
    "bag = BaggingRegressor(\n",
    "    base_estimator=boost, \n",
    "    n_estimators=1000, \n",
    "    max_samples=1.0, \n",
    "    max_features=1.0, \n",
    "    bootstrap=True, \n",
    "    oob_score=False, \n",
    "    random_state=0, \n",
    ")\n",
    "\n",
    "bag.fit(X, y)"
   ]
  },
  {
   "cell_type": "code",
   "execution_count": 42,
   "metadata": {},
   "outputs": [],
   "source": [
    "test.drop('value', axis=1, inplace=True)\n",
    "pred = bag.predict(test)"
   ]
  },
  {
   "cell_type": "code",
   "execution_count": 44,
   "metadata": {},
   "outputs": [
    {
     "data": {
      "text/plain": [
       "array([6.08931658e+07, 1.07322261e+08, 8.99040647e+07, ...,\n",
       "       5.72893715e+04, 5.31208019e+04, 5.36933355e+04])"
      ]
     },
     "execution_count": 44,
     "metadata": {},
     "output_type": "execute_result"
    }
   ],
   "source": [
    "np.expm1(pred)"
   ]
  },
  {
   "cell_type": "code",
   "execution_count": 45,
   "metadata": {},
   "outputs": [],
   "source": [
    "sub['value'] = np.expm1(pred)"
   ]
  },
  {
   "cell_type": "code",
   "execution_count": 46,
   "metadata": {},
   "outputs": [
    {
     "data": {
      "text/html": [
       "<div>\n",
       "<style scoped>\n",
       "    .dataframe tbody tr th:only-of-type {\n",
       "        vertical-align: middle;\n",
       "    }\n",
       "\n",
       "    .dataframe tbody tr th {\n",
       "        vertical-align: top;\n",
       "    }\n",
       "\n",
       "    .dataframe thead th {\n",
       "        text-align: right;\n",
       "    }\n",
       "</style>\n",
       "<table border=\"1\" class=\"dataframe\">\n",
       "  <thead>\n",
       "    <tr style=\"text-align: right;\">\n",
       "      <th></th>\n",
       "      <th>id</th>\n",
       "      <th>value</th>\n",
       "    </tr>\n",
       "  </thead>\n",
       "  <tbody>\n",
       "    <tr>\n",
       "      <th>0</th>\n",
       "      <td>1</td>\n",
       "      <td>6.089317e+07</td>\n",
       "    </tr>\n",
       "    <tr>\n",
       "      <th>1</th>\n",
       "      <td>2</td>\n",
       "      <td>1.073223e+08</td>\n",
       "    </tr>\n",
       "    <tr>\n",
       "      <th>2</th>\n",
       "      <td>4</td>\n",
       "      <td>8.990406e+07</td>\n",
       "    </tr>\n",
       "    <tr>\n",
       "      <th>3</th>\n",
       "      <td>5</td>\n",
       "      <td>9.584148e+07</td>\n",
       "    </tr>\n",
       "    <tr>\n",
       "      <th>4</th>\n",
       "      <td>6</td>\n",
       "      <td>6.369324e+07</td>\n",
       "    </tr>\n",
       "  </tbody>\n",
       "</table>\n",
       "</div>"
      ],
      "text/plain": [
       "   id         value\n",
       "0   1  6.089317e+07\n",
       "1   2  1.073223e+08\n",
       "2   4  8.990406e+07\n",
       "3   5  9.584148e+07\n",
       "4   6  6.369324e+07"
      ]
     },
     "execution_count": 46,
     "metadata": {},
     "output_type": "execute_result"
    }
   ],
   "source": [
    "sub.head()"
   ]
  },
  {
   "cell_type": "code",
   "execution_count": 47,
   "metadata": {},
   "outputs": [],
   "source": [
    "# sub.to_csv('./sub/sub_00.csv', index=False)"
   ]
  }
 ],
 "metadata": {
  "interpreter": {
   "hash": "17164ff5f922defefa3fdd6afe0c064ec3948eda8922a4bbab17a59b9b0232dc"
  },
  "kernelspec": {
   "display_name": "Python 3.8.8 64-bit ('venv': venv)",
   "name": "python3"
  },
  "language_info": {
   "codemirror_mode": {
    "name": "ipython",
    "version": 3
   },
   "file_extension": ".py",
   "mimetype": "text/x-python",
   "name": "python",
   "nbconvert_exporter": "python",
   "pygments_lexer": "ipython3",
   "version": "3.8.8"
  },
  "orig_nbformat": 4
 },
 "nbformat": 4,
 "nbformat_minor": 2
}
