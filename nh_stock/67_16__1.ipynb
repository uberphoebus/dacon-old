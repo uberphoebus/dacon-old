{
  "cells": [
    {
      "cell_type": "code",
      "execution_count": 1,
      "metadata": {
        "id": "polKG7dTwM1C"
      },
      "outputs": [],
      "source": [
        "import os"
      ]
    },
    {
      "cell_type": "code",
      "execution_count": 2,
      "metadata": {
        "colab": {
          "base_uri": "https://localhost:8080/"
        },
        "id": "zaKlOU3qwUkS",
        "outputId": "91fae3a8-069e-4196-a2b1-96597aa6ad6d"
      },
      "outputs": [],
      "source": [
        "# from google.colab import drive\n",
        "# drive.mount('/content/gdrive/')"
      ]
    },
    {
      "cell_type": "code",
      "execution_count": 3,
      "metadata": {
        "colab": {
          "base_uri": "https://localhost:8080/"
        },
        "id": "yM5XaEHcw4es",
        "outputId": "acfbd29a-0b72-450e-c49b-f560284de99a"
      },
      "outputs": [],
      "source": [
        "# !pip install finance-datareader\n",
        "# !pip install catboost\n",
        "# !pip install optuna"
      ]
    },
    {
      "cell_type": "code",
      "execution_count": 4,
      "metadata": {
        "colab": {
          "base_uri": "https://localhost:8080/"
        },
        "id": "_kNqVG9l_BzA",
        "outputId": "163748c6-98ab-4ee9-dd14-5ffb760e2e23"
      },
      "outputs": [],
      "source": [
        "# !pip install catboost"
      ]
    },
    {
      "cell_type": "code",
      "execution_count": 5,
      "metadata": {
        "id": "m6FMU0uNwboZ"
      },
      "outputs": [],
      "source": [
        "import numpy as np\n",
        "import pandas as pd\n",
        "from sklearn.model_selection import train_test_split\n",
        "# from sklearn.tree import DecisionTreeClassifier\n",
        "# from sklearn.ensemble import RandomForestClassifier\n",
        "import matplotlib.pyplot as plt\n",
        "import seaborn as sns\n",
        "import optuna\n",
        "from sklearn.preprocessing import LabelEncoder\n",
        "from sklearn.preprocessing import OneHotEncoder\n",
        "from sklearn.preprocessing import MinMaxScaler, RobustScaler, StandardScaler\n",
        "from sklearn.decomposition import PCA\n",
        "\n",
        "from sklearn.metrics import accuracy_score, f1_score, precision_score , recall_score, confusion_matrix, classification_report\n",
        "from sklearn.metrics import precision_recall_curve, plot_precision_recall_curve\n",
        "from sklearn.metrics import roc_curve, plot_roc_curve, roc_auc_score\n",
        "from sklearn.preprocessing import Binarizer\n",
        "\n",
        "\n",
        "from matplotlib.ticker import MaxNLocator           \n",
        "%matplotlib inline \n",
        "from scipy import stats \n",
        "from scipy.stats import skew, boxcox_normmax, norm\n",
        "from scipy.special import boxcox1p \n",
        "from catboost import CatBoostRegressor\n",
        "\n",
        "from sklearn.linear_model import LinearRegression, Ridge, Lasso, ElasticNet\n",
        "from sklearn.ensemble import RandomForestRegressor\n",
        "from sklearn.tree import DecisionTreeRegressor\n",
        "from xgboost import XGBRegressor\n",
        "from lightgbm import LGBMRegressor\n",
        "\n",
        "\n",
        "from sklearn.model_selection import GridSearchCV, train_test_split\n",
        "from sklearn.metrics import mean_squared_error\n",
        "from sklearn.preprocessing import StandardScaler\n",
        "from sklearn.decomposition import PCA\n",
        "from scipy.stats import skew, kurtosis\n",
        "from sklearn.preprocessing import LabelEncoder\n",
        "from sklearn.metrics import mean_squared_error as mse\n",
        "from sklearn.model_selection import train_test_split, StratifiedKFold, KFold\n",
        "\n",
        "import matplotlib.image as img\n",
        "\n",
        "import warnings\n",
        "warnings.filterwarnings(action='ignore')\n",
        "sns.set()\n",
        "\n",
        "pd.options.display.max_columns = None\n",
        "pd.set_option('display.max_rows',200)\n",
        "\n",
        "plt.rcParams['font.family'] = 'Malgun Gothic'\n",
        "\n",
        "# imblearn.sampling\n",
        "from imblearn.over_sampling import SMOTE\n",
        "from imblearn.under_sampling import NearMiss\n",
        "\n",
        "# impute.imputer\n",
        "from sklearn.impute import SimpleImputer, MissingIndicator, KNNImputer\n",
        "# preprocessing.encoding\n",
        "from sklearn.preprocessing import LabelEncoder, OneHotEncoder, OrdinalEncoder # pd.get_dummies\n",
        "# preprocessing.scaling\n",
        "from sklearn.preprocessing import MinMaxScaler, StandardScaler, RobustScaler\n",
        "# preprocessing.binarizing\n",
        "from sklearn.preprocessing import Binarizer\n",
        "\n",
        "# decomposition.PCA\n",
        "from sklearn.decomposition import PCA\n",
        "# stats : R module\n",
        "from scipy.stats import skew, kurtosis\n",
        "\n",
        "# estimators ---------------------------------------\n",
        "# estimators.classifier\n",
        "from sklearn.tree import DecisionTreeClassifier\n",
        "from sklearn.linear_model import LogisticRegression # classifier\n",
        "from sklearn.linear_model import RidgeClassifier, RidgeClassifierCV # regressor 응용\n",
        "# estimators.regressor\n",
        "from sklearn.tree import DecisionTreeRegressor\n",
        "from sklearn.linear_model import LinearRegression\n",
        "from sklearn.linear_model import Ridge, RidgeCV\n",
        "from sklearn.linear_model import Lasso, LassoCV\n",
        "from sklearn.linear_model import ElasticNet, ElasticNetCV\n",
        "# --------------------------------------------------\n",
        "\n",
        "# neural network -----------------------------------\n",
        "# import tensorflow as tf\n",
        "import keras\n",
        "# --------------------------------------------------\n",
        "\n",
        "# ensemble -----------------------------------------\n",
        "# ensemble.bagging\n",
        "from sklearn.ensemble import BaggingClassifier, BaggingRegressor\n",
        "from sklearn.ensemble import RandomForestClassifier, RandomForestRegressor\n",
        "# ensemble.boosting\n",
        "from sklearn.ensemble import GradientBoostingClassifier, GradientBoostingRegressor\n",
        "from xgboost import XGBClassifier, XGBRegressor\n",
        "from lightgbm import LGBMClassifier, LGBMRegressor\n",
        "# from catboost import CatBoostClassifier, CatBoostRegressor\n",
        "# ensemble.boosting & bagging\n",
        "from xgboost import XGBRFClassifier, XGBRFRegressor\n",
        "# ensemble.voting\n",
        "from sklearn.ensemble import VotingClassifier, VotingRegressor\n",
        "# --------------------------------------------------\n",
        "\n",
        "# metrics ------------------------------------------\n",
        "# metrics.scores\n",
        "from sklearn.metrics import accuracy_score, precision_score, recall_score\n",
        "from sklearn.metrics import f1_score, roc_auc_score\n",
        "from sklearn.metrics import log_loss\n",
        "# metrics.reports\n",
        "from sklearn.metrics import confusion_matrix, plot_confusion_matrix\n",
        "from sklearn.metrics import classification_report, ConfusionMatrixDisplay\n",
        "# metrics.errors\n",
        "from sklearn.metrics import mean_squared_error     # 'neg_mean_squared_error', 'neg_root_mean_squared_error'\n",
        "from sklearn.metrics import mean_squared_log_error # 'neg_mean_squared_log_error'\n",
        "from sklearn.metrics import mean_absolute_error    # 'neg_mean_absolute_error'\n",
        "# metrics.curves\n",
        "from sklearn.metrics import precision_recall_curve, plot_precision_recall_curve\n",
        "from sklearn.metrics import roc_curve, plot_roc_curve\n",
        "# --------------------------------------------------\n",
        "\n",
        "# model_selection ----------------------------------\n",
        "# model_selection.splitter\n",
        "from sklearn.model_selection import train_test_split\n",
        "# model_selection.model_validation\n",
        "from sklearn.model_selection import KFold, StratifiedKFold\n",
        "from sklearn.model_selection import cross_val_score, cross_validate\n",
        "# model_selection.hyper_parameter_optimizer\n",
        "from sklearn.model_selection import GridSearchCV\n",
        "# --------------------------------------------------\n",
        "\n",
        "# optuna -------------------------------------------\n",
        "import optuna\n",
        "# --------------------------------------------------"
      ]
    },
    {
      "cell_type": "code",
      "execution_count": 6,
      "metadata": {
        "id": "H576J0N5wnDt"
      },
      "outputs": [],
      "source": [
        "cus   = pd.read_csv('./data/cus_info.csv')\n",
        "iem   = pd.read_csv('./data/iem_info_20210902.csv')\n",
        "hist  = pd.read_csv('./data/stk_bnc_hist.csv')\n",
        "train = pd.read_csv('./data/stk_hld_train.csv')\n",
        "test  = pd.read_csv('./data/stk_hld_test.csv')\n",
        "submission   = pd.read_csv('./data/sample_submission.csv')"
      ]
    },
    {
      "cell_type": "code",
      "execution_count": 7,
      "metadata": {
        "colab": {
          "base_uri": "https://localhost:8080/",
          "height": 417
        },
        "id": "qQPUtyRWV7NO",
        "outputId": "9661c4b2-64c1-466e-e2a9-71798135d0c3"
      },
      "outputs": [
        {
          "data": {
            "text/html": [
              "<div>\n",
              "<style scoped>\n",
              "    .dataframe tbody tr th:only-of-type {\n",
              "        vertical-align: middle;\n",
              "    }\n",
              "\n",
              "    .dataframe tbody tr th {\n",
              "        vertical-align: top;\n",
              "    }\n",
              "\n",
              "    .dataframe thead th {\n",
              "        text-align: right;\n",
              "    }\n",
              "</style>\n",
              "<table border=\"1\" class=\"dataframe\">\n",
              "  <thead>\n",
              "    <tr style=\"text-align: right;\">\n",
              "      <th></th>\n",
              "      <th>act_id</th>\n",
              "      <th>iem_cd</th>\n",
              "      <th>byn_dt</th>\n",
              "      <th>hist_d</th>\n",
              "      <th>submit_id</th>\n",
              "      <th>hold_d</th>\n",
              "    </tr>\n",
              "  </thead>\n",
              "  <tbody>\n",
              "    <tr>\n",
              "      <th>0</th>\n",
              "      <td>0ad104dbed99be0cd858aa772765ddedade554601a981b...</td>\n",
              "      <td>A032640</td>\n",
              "      <td>20200522</td>\n",
              "      <td>153</td>\n",
              "      <td>IDX00001</td>\n",
              "      <td>0</td>\n",
              "    </tr>\n",
              "    <tr>\n",
              "      <th>1</th>\n",
              "      <td>0ad104dbed99be0cd858aa772765ddedade554601a981b...</td>\n",
              "      <td>A160600</td>\n",
              "      <td>20190823</td>\n",
              "      <td>335</td>\n",
              "      <td>IDX00002</td>\n",
              "      <td>0</td>\n",
              "    </tr>\n",
              "    <tr>\n",
              "      <th>2</th>\n",
              "      <td>0ad104dbed99be0cd858aa772765ddedade554601a981b...</td>\n",
              "      <td>A234340</td>\n",
              "      <td>20200611</td>\n",
              "      <td>139</td>\n",
              "      <td>IDX00003</td>\n",
              "      <td>0</td>\n",
              "    </tr>\n",
              "    <tr>\n",
              "      <th>3</th>\n",
              "      <td>0ad104dbed99be0cd858aa772765ddedade554601a981b...</td>\n",
              "      <td>A131760</td>\n",
              "      <td>20200120</td>\n",
              "      <td>236</td>\n",
              "      <td>IDX00004</td>\n",
              "      <td>0</td>\n",
              "    </tr>\n",
              "    <tr>\n",
              "      <th>4</th>\n",
              "      <td>0ad104dbed99be0cd858aa772765ddedade554601a981b...</td>\n",
              "      <td>A293490</td>\n",
              "      <td>20201217</td>\n",
              "      <td>9</td>\n",
              "      <td>IDX00005</td>\n",
              "      <td>0</td>\n",
              "    </tr>\n",
              "    <tr>\n",
              "      <th>...</th>\n",
              "      <td>...</td>\n",
              "      <td>...</td>\n",
              "      <td>...</td>\n",
              "      <td>...</td>\n",
              "      <td>...</td>\n",
              "      <td>...</td>\n",
              "    </tr>\n",
              "    <tr>\n",
              "      <th>70591</th>\n",
              "      <td>564af3cf975ed4fa05148ada689d5002e9c2d43dee9481...</td>\n",
              "      <td>A000810</td>\n",
              "      <td>20201127</td>\n",
              "      <td>23</td>\n",
              "      <td>IDX70592</td>\n",
              "      <td>0</td>\n",
              "    </tr>\n",
              "    <tr>\n",
              "      <th>70592</th>\n",
              "      <td>564af3cf975ed4fa05148ada689d5002e9c2d43dee9481...</td>\n",
              "      <td>A005945</td>\n",
              "      <td>20200731</td>\n",
              "      <td>103</td>\n",
              "      <td>IDX70593</td>\n",
              "      <td>0</td>\n",
              "    </tr>\n",
              "    <tr>\n",
              "      <th>70593</th>\n",
              "      <td>4561928f2825f6389f228088ac807a9fb4575ffdcbc47a...</td>\n",
              "      <td>A004740</td>\n",
              "      <td>20170704</td>\n",
              "      <td>858</td>\n",
              "      <td>IDX70594</td>\n",
              "      <td>0</td>\n",
              "    </tr>\n",
              "    <tr>\n",
              "      <th>70594</th>\n",
              "      <td>4561928f2825f6389f228088ac807a9fb4575ffdcbc47a...</td>\n",
              "      <td>A001630</td>\n",
              "      <td>20201215</td>\n",
              "      <td>11</td>\n",
              "      <td>IDX70595</td>\n",
              "      <td>0</td>\n",
              "    </tr>\n",
              "    <tr>\n",
              "      <th>70595</th>\n",
              "      <td>4561928f2825f6389f228088ac807a9fb4575ffdcbc47a...</td>\n",
              "      <td>A185750</td>\n",
              "      <td>20201224</td>\n",
              "      <td>4</td>\n",
              "      <td>IDX70596</td>\n",
              "      <td>0</td>\n",
              "    </tr>\n",
              "  </tbody>\n",
              "</table>\n",
              "<p>70596 rows × 6 columns</p>\n",
              "</div>"
            ],
            "text/plain": [
              "                                                  act_id   iem_cd    byn_dt  \\\n",
              "0      0ad104dbed99be0cd858aa772765ddedade554601a981b...  A032640  20200522   \n",
              "1      0ad104dbed99be0cd858aa772765ddedade554601a981b...  A160600  20190823   \n",
              "2      0ad104dbed99be0cd858aa772765ddedade554601a981b...  A234340  20200611   \n",
              "3      0ad104dbed99be0cd858aa772765ddedade554601a981b...  A131760  20200120   \n",
              "4      0ad104dbed99be0cd858aa772765ddedade554601a981b...  A293490  20201217   \n",
              "...                                                  ...      ...       ...   \n",
              "70591  564af3cf975ed4fa05148ada689d5002e9c2d43dee9481...  A000810  20201127   \n",
              "70592  564af3cf975ed4fa05148ada689d5002e9c2d43dee9481...  A005945  20200731   \n",
              "70593  4561928f2825f6389f228088ac807a9fb4575ffdcbc47a...  A004740  20170704   \n",
              "70594  4561928f2825f6389f228088ac807a9fb4575ffdcbc47a...  A001630  20201215   \n",
              "70595  4561928f2825f6389f228088ac807a9fb4575ffdcbc47a...  A185750  20201224   \n",
              "\n",
              "       hist_d submit_id  hold_d  \n",
              "0         153  IDX00001       0  \n",
              "1         335  IDX00002       0  \n",
              "2         139  IDX00003       0  \n",
              "3         236  IDX00004       0  \n",
              "4           9  IDX00005       0  \n",
              "...       ...       ...     ...  \n",
              "70591      23  IDX70592       0  \n",
              "70592     103  IDX70593       0  \n",
              "70593     858  IDX70594       0  \n",
              "70594      11  IDX70595       0  \n",
              "70595       4  IDX70596       0  \n",
              "\n",
              "[70596 rows x 6 columns]"
            ]
          },
          "execution_count": 7,
          "metadata": {},
          "output_type": "execute_result"
        }
      ],
      "source": [
        "test"
      ]
    },
    {
      "cell_type": "code",
      "execution_count": 8,
      "metadata": {
        "id": "YjXXVmQFUWM0"
      },
      "outputs": [],
      "source": [
        "grp_train_test = pd.concat([train[['act_id', 'iem_cd', 'hold_d']], test[['act_id', 'iem_cd', 'hist_d']]]).groupby(by=['act_id', 'iem_cd']).sum()\n",
        "grp_train_test['total_hold'] = grp_train_test['hold_d'] + grp_train_test['hist_d']\n",
        "\n",
        "\n",
        "# hist의 계좌/종목별 [거래횟수] 와 train과 test에 있는 계좌/종목별 [보유기간] 합친 dataframe 구성\n",
        "grp = pd.concat(\n",
        "    [\n",
        "        hist.groupby(by=['act_id', 'iem_cd']).count(),\n",
        "        grp_train_test[['total_hold']],\n",
        "    ],\n",
        "    axis=1\n",
        ")[['bse_dt', 'total_hold']]\n",
        "\n",
        "# grp['agr'] : 보유기간/ 거래횟수\n",
        "grp['agr'] = grp['total_hold'] / grp['bse_dt'] \n",
        "grp['agr']\n",
        "\n",
        "# 보유기간이 0인 경우, np.inf를 0으로 대체\n",
        "# grp = grp.replace(np.inf, 1)\n",
        "\n",
        "# 계좌단위 agr 평균 : 해당 계좌의 공격적인 성향\n",
        "grp_mean = grp.groupby('act_id').mean()['agr']\n",
        "df3333 = pd.DataFrame(grp_mean)\n",
        "df3333 = df3333.reset_index()\n",
        "\n",
        "# grp_mean.hist(bins=50)\n",
        "\n",
        "#거래횟수 / 보유기간의 평균 5개 구간으로 구간화 1,2,3,4,5 = 높을수록 적극적 투자자 \n",
        "# grp_mean.describe()\n",
        "# grp_mean['ivs_be'] = grp_mean['agr']                                             #pd.cut(grp_mean['agr'],bins=[0, 25, 75 , 125, 175, 200] , labels=['1','2','3','4','5'])\n",
        "\n",
        "df1 = pd.DataFrame(train['act_id'])\n",
        "mer = pd.merge(left = df1 , right = df3333, how = \"inner\", on = \"act_id\")\n",
        "train['ivs_be'] = mer['agr']\n",
        "\n",
        "df2 = pd.DataFrame(test['act_id'])\n",
        "mer = pd.merge(left = df2 , right = df3333, how = \"inner\", on = \"act_id\")\n",
        "test['ivs_be'] = mer['agr']\n",
        "\n",
        "# train['ivs_be'] = train['ivs_be'].astype(int)\n",
        "# test['ivs_be'] = test['ivs_be'].astype(int)"
      ]
    },
    {
      "cell_type": "code",
      "execution_count": 9,
      "metadata": {
        "id": "LXd0BUb7Q_AH"
      },
      "outputs": [],
      "source": [
        "train['long'] = 0\n",
        "train.loc[train['ivs_be']>5, 'long'] = 1"
      ]
    },
    {
      "cell_type": "code",
      "execution_count": 10,
      "metadata": {
        "id": "IF51d4JzSQEL"
      },
      "outputs": [],
      "source": [
        "# train[train['ivs_be']>5]['act_id'].count() / test['ivs_be'].count() * 100"
      ]
    },
    {
      "cell_type": "code",
      "execution_count": 11,
      "metadata": {
        "id": "JWT7CdVQTDwY"
      },
      "outputs": [],
      "source": [
        "test['long'] = 0\n",
        "test.loc[test['ivs_be']>5, 'long'] = 1"
      ]
    },
    {
      "cell_type": "code",
      "execution_count": 12,
      "metadata": {
        "id": "MTkY_vloxHZl"
      },
      "outputs": [],
      "source": [
        "import matplotlib as mpl\n",
        "import statsmodels.api as sm\n",
        "import scipy.stats as stats\n"
      ]
    },
    {
      "cell_type": "code",
      "execution_count": 13,
      "metadata": {
        "id": "1fjQ5Ql-JOPz"
      },
      "outputs": [],
      "source": [
        "# 버릴거\n",
        "\n",
        "# hist  = stk_par_pr, \n",
        "\n",
        "# # 스케일링할거\n",
        "\n",
        "# iem = btp_cfc_cd\n",
        "\n",
        "# #겟더미할거\n"
      ]
    },
    {
      "cell_type": "code",
      "execution_count": 14,
      "metadata": {
        "colab": {
          "base_uri": "https://localhost:8080/",
          "height": 286
        },
        "id": "OyvNJ0ekhEOD",
        "outputId": "e429bbd4-f74a-4897-840a-a95e92ed77ca"
      },
      "outputs": [
        {
          "data": {
            "text/plain": [
              "<AxesSubplot:>"
            ]
          },
          "execution_count": 14,
          "metadata": {},
          "output_type": "execute_result"
        },
        {
          "data": {
            "image/png": "[encoded data removed]",
            "text/plain": [
              "<Figure size 432x288 with 1 Axes>"
            ]
          },
          "metadata": {},
          "output_type": "display_data"
        }
      ],
      "source": [
        "cus['ivs_icn_cd'].hist()"
      ]
    },
    {
      "cell_type": "code",
      "execution_count": 15,
      "metadata": {
        "id": "zgIUbOEEXN9Y"
      },
      "outputs": [],
      "source": [
        "# label 조건 확인 코드\n",
        "# temp = pd.merge(test.drop('hold_d', axis=1), sub, how='left', on='submit_id')\n",
        "# condition1 = temp['hist_d'] >= temp['hold_d']\n",
        "# condition2 = ((temp['hold_d'] - temp['hist_d']) > 146)\n",
        "# temp[condition1 | condition2] "
      ]
    },
    {
      "cell_type": "code",
      "execution_count": 16,
      "metadata": {
        "id": "8TwBni14A91l"
      },
      "outputs": [],
      "source": [
        "## 비상장 하드코딩 \n",
        "\n",
        "besan =['286340', '281630', '27863K', '246780', '250990', '277290', '266930', '113300', '34534K', \n",
        "'214240', '270730', '304720', '064400', '339610', '319700', '318140', '294080', '258340', \n",
        "'228980', '156000', '312800', '228990', '34385K', '283970', '298410', '239280', '210160', \n",
        "'32904L', '272810', '309110', '357100', '276980', '280470', '289190', '292070', '298130', \n",
        "'300500', '302110', '306920', '093810', '163290', '179090', '194530', '199890', '226590', \n",
        "'240600', '244310', '255780', '271530', '271830', '298210', '311120', '255890', '34695K', \n",
        "'078510', '285340', '319810', '325840', '31508K', '31134K', '254650', '24251Q', '067030', \n",
        "'285820', '278470', '239620', '276040', '332760', '259070', '333900', '277490', '191390', \n",
        "'235370', '134660', '158320', '262100', '30703K', '29923L', '145730', '123780', '364460', \n",
        "'201400', '141280', '293990', '064470', '337280', '322590', '106870', '241660', '313100', \n",
        "'318590', '239970', '370310', '153760', '169830', '270530', '122230', '259290', '203900',\n",
        " '309740', '279120', '238820', '256970', '277310', '29922L', '30018L', '33129K', '333450',\n",
        " '366510', '350990', '306130', '226250', '258840', '004050', '32316K', '316840', '35732K', \n",
        "'145940', '276960', '249680', '240180', '236490', '299760', '314080', '316320', '336730',\n",
        " '340750', '170190', '177850', '234820', '244290', '258890', '259210', '266530', '142220',\n",
        " '35286N', '285880', '213930', '234760', '344250', '344540', '060080', '350340', '284710', \n",
        "'169140', '358580', '186630', '272850']\n",
        "\n",
        "abesan = []\n",
        "for i in besan:\n",
        "  abesan.append('A' + i)"
      ]
    },
    {
      "cell_type": "code",
      "execution_count": 17,
      "metadata": {
        "colab": {
          "base_uri": "https://localhost:8080/"
        },
        "id": "eqDPXTEepy3I",
        "outputId": "af998349-9aab-440a-9eee-eea40d70629c"
      },
      "outputs": [
        {
          "data": {
            "text/plain": [
              "0.5985"
            ]
          },
          "execution_count": 17,
          "metadata": {},
          "output_type": "execute_result"
        }
      ],
      "source": [
        "cus[cus['sex_dit_cd']==1]['act_id'].count() / cus['sex_dit_cd'].count()  #남자 59 여자 41"
      ]
    },
    {
      "cell_type": "code",
      "execution_count": 18,
      "metadata": {
        "id": "0bNWtwMKO_Op"
      },
      "outputs": [],
      "source": [
        "idx = test[test['iem_cd'].str[1:].isin(besan)]['submit_id']"
      ]
    },
    {
      "cell_type": "code",
      "execution_count": 19,
      "metadata": {
        "id": "pBiUKTvgxMhl"
      },
      "outputs": [],
      "source": [
        "# train에 hist_d 컬럼 만들기\n",
        "train[\"hist_d\"] = train[\"hold_d\"]*0.63\n",
        "train.hist_d = np.trunc(train[\"hist_d\"])"
      ]
    },
    {
      "cell_type": "code",
      "execution_count": 20,
      "metadata": {
        "id": "43kph8fSxatA"
      },
      "outputs": [],
      "source": [
        "# merge: train_data = train + cus + iem\n",
        "train_data = pd.merge(train, cus, how = \"left\", on = [\"act_id\"])\n",
        "train_data = pd.merge(train_data, iem, how = \"left\", on = [\"iem_cd\"])\n",
        "\n",
        "test_data = pd.merge(test, cus, how = \"left\", on = [\"act_id\"])\n",
        "test_data = pd.merge(test_data, iem, how = \"left\", on = [\"iem_cd\"])"
      ]
    },
    {
      "cell_type": "code",
      "execution_count": null,
      "metadata": {
        "id": "YV5o0sDY8pqz"
      },
      "outputs": [],
      "source": []
    },
    {
      "cell_type": "code",
      "execution_count": 21,
      "metadata": {
        "id": "RTNKTCX2pkAx"
      },
      "outputs": [],
      "source": [
        "# train_data.loc[train_data['sex_dit_cd']== 1, 'ivs_sex'] = train_data['ivs_be'] * 1\n",
        "# train_data.loc[train_data['sex_dit_cd']== 2, 'ivs_sex'] = train_data['ivs_be'] * 0.5\n",
        "\n",
        "# test_data.loc[test_data['sex_dit_cd']== 1, 'ivs_sex'] = test_data['ivs_be'] * 1\n",
        "# test_data.loc[test_data['sex_dit_cd']== 2, 'ivs_sex'] = test_data['ivs_be'] * 0.5"
      ]
    },
    {
      "cell_type": "code",
      "execution_count": 22,
      "metadata": {
        "id": "sgYqTQDQxeZi"
      },
      "outputs": [],
      "source": [
        "# train_data의 label 분리\n",
        "train_label = train_data[\"hold_d\"]\n",
        "train_data.drop([\"hold_d\"], axis = 1, inplace = True)"
      ]
    },
    {
      "cell_type": "code",
      "execution_count": 23,
      "metadata": {
        "id": "4pa00SLc3ia3"
      },
      "outputs": [],
      "source": [
        "# 수훈, 소현, 소윤 Drop: 투자성향('ivs_icn_cd'), 주거래상품군('mrz_pdt_tp_sgm_cd')\n",
        "train_data.drop(['mrz_pdt_tp_sgm_cd','ivs_icn_cd'], axis=1, inplace=True)\n",
        "test_data.drop(['mrz_pdt_tp_sgm_cd','ivs_icn_cd'], axis=1, inplace=True)"
      ]
    },
    {
      "cell_type": "code",
      "execution_count": 24,
      "metadata": {
        "id": "nki12ZnWxgpd"
      },
      "outputs": [],
      "source": [
        "# 파생변수\n",
        "hist[\"stk_p\"] = hist[\"tot_aet_amt\"] / hist[\"bnc_qty\"]\n",
        "hist = hist.fillna(0)\n",
        "\n",
        "# merge: train_data + hist\n",
        "train_data = pd.merge(train_data, hist, how = \"left\", on = [\"act_id\", \"iem_cd\"])\n",
        "\n",
        "# train_data: 매수일 = 기준일 처리\n",
        "train_data = train_data[(train_data[\"byn_dt\"] == train_data[\"bse_dt\"])]\n",
        "train_data.reset_index(drop = True, inplace = True)\n",
        "\n",
        "# test_data: 매수일 = 기준일 처리\n",
        "test_data = pd.merge(test_data, hist, how = \"left\", on = [\"act_id\", \"iem_cd\"])\n",
        "test_data = test_data[(test_data[\"byn_dt\"] == test_data[\"bse_dt\"])]\n",
        "test_data.reset_index(drop = True, inplace = True)\n",
        "\n",
        "# Drop: 계좌ID, 종목코드, 매수일, 기준일 \n",
        "train_data = train_data.drop([\"act_id\", \"iem_krl_nm\", \"byn_dt\", \"bse_dt\"], axis = 1)\n",
        "test_data = test_data.drop([\"act_id\", \"iem_krl_nm\", \"byn_dt\", \"submit_id\", \"hold_d\", \"bse_dt\"], axis = 1)\n",
        "\n",
        "train_data.drop('stk_par_pr', axis=1, inplace=True)\n",
        "test_data.drop('stk_par_pr', axis=1, inplace=True)\n",
        "\n",
        "# 인코딩: 한글이름\n",
        "L_encoder = LabelEncoder()\n",
        "L_encoder.fit(iem[\"iem_cd\"])\n",
        "train_data[\"iem_cd\"] = L_encoder.transform(train_data[\"iem_cd\"])\n",
        "test_data[\"iem_cd\"] = L_encoder.transform(test_data[\"iem_cd\"])\n",
        "\n",
        "# train_data.get_dummies()\n",
        "# test_data."
      ]
    },
    {
      "cell_type": "code",
      "execution_count": 25,
      "metadata": {
        "id": "VpgxMLC9CXUD"
      },
      "outputs": [],
      "source": [
        "# train_data.head()\n",
        "\n",
        "cols = ['sex_dit_cd','lsg_sgm_cd','mrz_btp_dit_cd','btp_cfc_cd','mkt_pr_tal_scl_tp_cd','stk_dit_cd']\n",
        "\n",
        "# for col in cols:\n",
        "#   L_encoder.fit(train_data[col])\n",
        "#   train_data[col] = L_encoder.transform(train_data[col])\n",
        "#   test_data[col] = L_encoder.transform(test_data[col])"
      ]
    },
    {
      "cell_type": "code",
      "execution_count": 26,
      "metadata": {
        "id": "WKFmbqiXGL87"
      },
      "outputs": [],
      "source": [
        "for i in cols:\n",
        "  train_data[i] = train_data[i].astype(str)\n",
        "  test_data[i] = test_data[i].astype(str)"
      ]
    },
    {
      "cell_type": "code",
      "execution_count": 27,
      "metadata": {
        "id": "yiJbgIN9GYNn"
      },
      "outputs": [],
      "source": [
        "# train_data = pd.get_dummies(train_data)\n",
        "# test_data = pd.get_dummies(test_data)"
      ]
    },
    {
      "cell_type": "code",
      "execution_count": 28,
      "metadata": {
        "colab": {
          "base_uri": "https://localhost:8080/"
        },
        "id": "OMMt5Y9sHaCV",
        "outputId": "ade1cf16-531f-46ac-bd86-86aec2edcec2"
      },
      "outputs": [
        {
          "name": "stdout",
          "output_type": "stream",
          "text": [
            "<class 'pandas.core.frame.DataFrame'>\n",
            "RangeIndex: 681472 entries, 0 to 681471\n",
            "Data columns (total 17 columns):\n",
            " #   Column                Non-Null Count   Dtype  \n",
            "---  ------                --------------   -----  \n",
            " 0   iem_cd                681472 non-null  int32  \n",
            " 1   ivs_be                681472 non-null  float64\n",
            " 2   long                  681472 non-null  int64  \n",
            " 3   hist_d                681472 non-null  float64\n",
            " 4   sex_dit_cd            681472 non-null  object \n",
            " 5   cus_age_stn_cd        681472 non-null  int64  \n",
            " 6   cus_aet_stn_cd        681472 non-null  int64  \n",
            " 7   lsg_sgm_cd            681472 non-null  object \n",
            " 8   tco_cus_grd_cd        681472 non-null  int64  \n",
            " 9   tot_ivs_te_sgm_cd     681472 non-null  int64  \n",
            " 10  mrz_btp_dit_cd        681472 non-null  object \n",
            " 11  btp_cfc_cd            681472 non-null  object \n",
            " 12  mkt_pr_tal_scl_tp_cd  681472 non-null  object \n",
            " 13  stk_dit_cd            681472 non-null  object \n",
            " 14  bnc_qty               681472 non-null  float64\n",
            " 15  tot_aet_amt           681472 non-null  float64\n",
            " 16  stk_p                 681472 non-null  float64\n",
            "dtypes: float64(5), int32(1), int64(5), object(6)\n",
            "memory usage: 85.8+ MB\n"
          ]
        }
      ],
      "source": [
        "train_data.info()"
      ]
    },
    {
      "cell_type": "code",
      "execution_count": 29,
      "metadata": {
        "id": "L93hQJxWxmSv"
      },
      "outputs": [],
      "source": [
        "# reset_index\n",
        "train_data.reset_index(drop = True, inplace=True)\n",
        "train_label.reset_index(drop = True, inplace=True)"
      ]
    },
    {
      "cell_type": "markdown",
      "metadata": {
        "id": "Hn0EKUudGUKn"
      },
      "source": [
        "# 옵튜나 비슷햇던거"
      ]
    },
    {
      "cell_type": "code",
      "execution_count": 30,
      "metadata": {
        "id": "FaNBItYkHzRT"
      },
      "outputs": [],
      "source": [
        "# # #---------------------------------**karg  C:V C:V c=v c=v\n",
        "# # # objective 할 수 있는 def를 먼저 만들자  객체담는 펑션 만들기\n",
        "# # # 함수안에 파라미터 객제담을 trial object 만들기 uniform 은 아무 상태나 가능 int / float\n",
        "# # # trail에 파라미터 값 넣기  **karg 넣으면 키밸류 쌍으로 움직이기 가능\n",
        "# # # 모델 여러개 쓰고싶으면 여러개 만들어서 적용~~\n",
        "\n",
        "# def my_objective(trial):\n",
        "#     # 지수면 suggest_loguniform , 숫자면 suggest_int , float면 suggest_uniform\n",
        "#     myparam = { \n",
        "#     \"learning_rate\"  : trial.suggest_uniform('learning_rate', 0.005, 10),}\n",
        "#     # \"metric_period\" : trial.suggest_int('metric_period', 1, 500),\n",
        "#     # \"early_stopping_rounds\" : trial.suggest_int('early_stopping_rounds', 1,200),\n",
        "#     # \"snapshot_interval\" : trial.suggest_int('snapshot_interval', 600,1000) }\n",
        "\n",
        "#     X_train, X_test, y_train, y_test = train_test_split(train_data, train_label, test_size=0.2)\n",
        "#     model = CatBoostRegressor(**myparam)\n",
        "#     model.fit(X_train, y_train)   \n",
        "#     pred = model.predict(X_test)\n",
        "#     proba = model.predict_proba(X_test)\n",
        "#     score = sqrt(mean_squared_error(y_test, proba))  #예측값과 실값의 차이 따라서 proba값을 넣어야함  #\n",
        "#     return score\n",
        "#     # sample_weight = [0.1 , 0.2 , 0. 7 ]  # 맞출 때 마다 가중치 몰아주기 0 1 2 인경우 smote효과를 줌\n",
        "\n",
        "    \n",
        "\n",
        "# # 3.Create a study object and invoke the optimize method over 100 trials\n",
        "\n",
        "# study = optuna.create_study(sampler=optuna.samplers.TPESampler(seed=1414), direction=\"minimize\") # optuna가 갖고있음\n",
        "# study.optimize(my_objective, n_trials=100)  # 이때 옵티마이즈 안에는 함수 이름을 넣으면됨\n",
        "\n",
        "\n",
        "# best_param = study.best_params  # E.g. {'x': 2.002108042}\n",
        "# print(best_param)\n",
        "\n",
        "# # 4. best parameter  적용해서 다시 재학습\n",
        "\n",
        "# model = CatBoostRegressor(**best_param) #{ : } **karg c:v  c=v\n",
        "# # model.fit(X_train,y_train )\n",
        "# # pred = model.predict(X_test)\n",
        "# # proba = model.predict_proba(X_test)\n",
        "# # score = sqrt(mean_squared_error(y_test, proba)\n",
        "# # print(\"튜닝점수 :\", score)\n",
        "\n",
        "\n",
        "# # 1차 점수 : 0.6818920982647808\n",
        "# # 튜닝점수 : 0.4583082597630171\n",
        "# # {'max_depth': 11.867538165886453, 'min_samples_leaf': 0.0314907598135849, 'min_samples_split': 0.08801084185748041}\n",
        "# # [I 2021-09-17 17:12:18,590] Trial 29 finished with value: 0.5779428567328839 and parameters: {'max_depth': 12.916755465378582, 'min_samples_leaf': 0.2643216567689809, 'min_samples_split': 0.19909312534093976}. Best is trial 26 with value: 0.5004295631954416.\n",
        "# # 0.492362608677378"
      ]
    },
    {
      "cell_type": "markdown",
      "metadata": {
        "id": "gZgsKbrDGeTL"
      },
      "source": [
        "# 큰일낫다! "
      ]
    },
    {
      "cell_type": "code",
      "execution_count": 31,
      "metadata": {},
      "outputs": [],
      "source": [
        "# train_label = np.log1p(train_label)"
      ]
    },
    {
      "cell_type": "code",
      "execution_count": 32,
      "metadata": {
        "id": "rOyvTffHJKuX"
      },
      "outputs": [],
      "source": [
        "# from catboost import CatBoost\n",
        "# import numpy as np\n",
        "\n",
        "\n",
        "# folds = KFold(n_splits=10)\n",
        "# for train_idx, val_idx in folds.split(train_data):\n",
        "    \n",
        "#     train_x = train_data.iloc[train_idx, :]\n",
        "#     train_y = train_label[train_idx]\n",
        "#     val_x = train_data.iloc[val_idx, :]\n",
        "#     val_y = train_label[val_idx]\n",
        "    \n",
        "\n",
        "#     model = CatBoost()\n",
        "\n",
        "#     grid = {'learning_rate': [0.01, 0.03, 0.05, 0.08],\n",
        "#             'depth': [2,4,8,10],\n",
        "#             'l2_leaf_reg': [1, 3, 5, 7, 9]}\n",
        "\n",
        "#     grid_search_result = model.grid_search(grid, train_x, train_y, \n",
        "                                        \n",
        "#                                           verbose=500)\n"
      ]
    },
    {
      "cell_type": "code",
      "execution_count": 33,
      "metadata": {
        "colab": {
          "base_uri": "https://localhost:8080/"
        },
        "id": "nLE3E_dNx3ZV",
        "outputId": "63ef0911-5f8c-4606-86fc-ab527991088f"
      },
      "outputs": [
        {
          "name": "stdout",
          "output_type": "stream",
          "text": [
            "0:\tlearn: 1.2274504\ttest: 1.3031779\tbest: 1.3031779 (0)\ttotal: 182ms\tremaining: 3m 1s\n",
            "500:\tlearn: 0.0682797\ttest: 0.0675957\tbest: 0.0675957 (500)\ttotal: 21.6s\tremaining: 21.5s\n",
            "999:\tlearn: 0.0681579\ttest: 0.0674491\tbest: 0.0674491 (998)\ttotal: 43.8s\tremaining: 0us\n",
            "\n",
            "bestTest = 0.06744913313\n",
            "bestIteration = 998\n",
            "\n",
            "Shrink model to first 999 iterations.\n",
            "0:\tlearn: 1.2235566\ttest: 1.3362293\tbest: 1.3362293 (0)\ttotal: 67ms\tremaining: 1m 6s\n",
            "500:\tlearn: 0.0682707\ttest: 0.0672427\tbest: 0.0672427 (500)\ttotal: 24.5s\tremaining: 24.4s\n",
            "999:\tlearn: 0.0681684\ttest: 0.0671470\tbest: 0.0671469 (993)\ttotal: 45.3s\tremaining: 0us\n",
            "\n",
            "bestTest = 0.06714687561\n",
            "bestIteration = 993\n",
            "\n",
            "Shrink model to first 994 iterations.\n",
            "0:\tlearn: 1.2215906\ttest: 1.3526180\tbest: 1.3526180 (0)\ttotal: 58.7ms\tremaining: 58.6s\n",
            "500:\tlearn: 0.0682966\ttest: 0.0663235\tbest: 0.0663235 (500)\ttotal: 23.6s\tremaining: 23.5s\n",
            "999:\tlearn: 0.0682374\ttest: 0.0662720\tbest: 0.0662720 (999)\ttotal: 44.7s\tremaining: 0us\n",
            "\n",
            "bestTest = 0.06627201161\n",
            "bestIteration = 999\n",
            "\n",
            "0:\tlearn: 1.2285380\ttest: 1.2941146\tbest: 1.2941146 (0)\ttotal: 60.7ms\tremaining: 1m\n",
            "500:\tlearn: 0.0682954\ttest: 0.0669757\tbest: 0.0669757 (499)\ttotal: 22.9s\tremaining: 22.8s\n",
            "999:\tlearn: 0.0681985\ttest: 0.0668859\tbest: 0.0668859 (999)\ttotal: 43.8s\tremaining: 0us\n",
            "\n",
            "bestTest = 0.06688592782\n",
            "bestIteration = 999\n",
            "\n",
            "0:\tlearn: 1.2275554\ttest: 1.3018861\tbest: 1.3018861 (0)\ttotal: 52.1ms\tremaining: 52.1s\n",
            "500:\tlearn: 0.0682972\ttest: 0.0666889\tbest: 0.0666889 (499)\ttotal: 21.8s\tremaining: 21.7s\n",
            "999:\tlearn: 0.0682190\ttest: 0.0666116\tbest: 0.0666115 (994)\ttotal: 42.6s\tremaining: 0us\n",
            "\n",
            "bestTest = 0.06661154498\n",
            "bestIteration = 994\n",
            "\n",
            "Shrink model to first 995 iterations.\n",
            "0:\tlearn: 1.2333452\ttest: 1.2510175\tbest: 1.2510175 (0)\ttotal: 41.4ms\tremaining: 41.3s\n",
            "500:\tlearn: 0.0681154\ttest: 0.0683963\tbest: 0.0683963 (499)\ttotal: 20.6s\tremaining: 20.5s\n",
            "999:\tlearn: 0.0680276\ttest: 0.0683254\tbest: 0.0683254 (999)\ttotal: 41.4s\tremaining: 0us\n",
            "\n",
            "bestTest = 0.06832537497\n",
            "bestIteration = 999\n",
            "\n",
            "0:\tlearn: 1.2414939\ttest: 1.1763803\tbest: 1.1763803 (0)\ttotal: 42.5ms\tremaining: 42.4s\n",
            "500:\tlearn: 0.0680969\ttest: 0.0691717\tbest: 0.0691717 (499)\ttotal: 21s\tremaining: 20.9s\n",
            "999:\tlearn: 0.0679806\ttest: 0.0690734\tbest: 0.0690733 (996)\ttotal: 42.4s\tremaining: 0us\n",
            "\n",
            "bestTest = 0.06907333567\n",
            "bestIteration = 996\n",
            "\n",
            "Shrink model to first 997 iterations.\n",
            "0:\tlearn: 1.2445579\ttest: 1.1457125\tbest: 1.1457125 (0)\ttotal: 44ms\tremaining: 43.9s\n",
            "500:\tlearn: 0.0681163\ttest: 0.0692430\tbest: 0.0692430 (500)\ttotal: 23s\tremaining: 22.9s\n",
            "999:\tlearn: 0.0679695\ttest: 0.0691167\tbest: 0.0691165 (990)\ttotal: 44.7s\tremaining: 0us\n",
            "\n",
            "bestTest = 0.06911654268\n",
            "bestIteration = 990\n",
            "\n",
            "Shrink model to first 991 iterations.\n",
            "0:\tlearn: 1.2505271\ttest: 1.0851655\tbest: 1.0851655 (0)\ttotal: 44.9ms\tremaining: 44.9s\n",
            "500:\tlearn: 0.0679350\ttest: 0.0703513\tbest: 0.0703513 (499)\ttotal: 22s\tremaining: 21.9s\n",
            "999:\tlearn: 0.0678206\ttest: 0.0702609\tbest: 0.0702609 (996)\ttotal: 42.7s\tremaining: 0us\n",
            "\n",
            "bestTest = 0.07026086465\n",
            "bestIteration = 996\n",
            "\n",
            "Shrink model to first 997 iterations.\n",
            "0:\tlearn: 1.2517831\ttest: 1.0720232\tbest: 1.0720232 (0)\ttotal: 42.5ms\tremaining: 42.4s\n",
            "500:\tlearn: 0.0679801\ttest: 0.0697677\tbest: 0.0697677 (500)\ttotal: 21.1s\tremaining: 21s\n",
            "999:\tlearn: 0.0678788\ttest: 0.0696884\tbest: 0.0696883 (997)\ttotal: 43.3s\tremaining: 0us\n",
            "\n",
            "bestTest = 0.06968826518\n",
            "bestIteration = 997\n",
            "\n",
            "Shrink model to first 998 iterations.\n"
          ]
        }
      ],
      "source": [
        "# 모델링\n",
        "models = []\n",
        "\n",
        "folds = KFold(n_splits=10)\n",
        "for train_idx, val_idx in folds.split(train_data):\n",
        "    \n",
        "    train_x = train_data.iloc[train_idx, :]\n",
        "    train_y = train_label[train_idx]\n",
        "    val_x = train_data.iloc[val_idx, :]\n",
        "    val_y = train_label[val_idx]\n",
        "    \n",
        "    model =CatBoostRegressor(iterations=None,\n",
        "                        learning_rate=0.03,\n",
        "                        depth=2,\n",
        "                        l2_leaf_reg=None,\n",
        "                        model_size_reg=None,\n",
        "                        use_best_model=True,\n",
        "                        rsm=None,\n",
        "                        loss_function='RMSE')\n",
        "    \n",
        "  \n",
        "    model.fit(train_x, train_y,\n",
        "              eval_set=[(val_x, val_y)],\n",
        "              verbose=500)\n",
        "    \n",
        "    models.append(model)"
      ]
    },
    {
      "cell_type": "code",
      "execution_count": 34,
      "metadata": {
        "id": "tp7tSbKrx3cG"
      },
      "outputs": [],
      "source": [
        "result = []\n",
        "for i in models:\n",
        "    result.append(i.predict(test_data))\n",
        "predict = np.mean(result, axis = 0)"
      ]
    },
    {
      "cell_type": "code",
      "execution_count": 35,
      "metadata": {
        "id": "GwLMeqoaj1CF"
      },
      "outputs": [
        {
          "data": {
            "text/plain": [
              "array([242.53853579, 531.98362163, 218.60649532, ..., 783.60501842,\n",
              "        18.4645101 ,   7.01124453])"
            ]
          },
          "execution_count": 35,
          "metadata": {},
          "output_type": "execute_result"
        }
      ],
      "source": [
        "# predict = np.expm1(predict)\n",
        "predict"
      ]
    },
    {
      "cell_type": "code",
      "execution_count": 36,
      "metadata": {
        "id": "AIENXPIStCU9"
      },
      "outputs": [],
      "source": [
        "# label 조건 확인 코드\n",
        "# temp = pd.merge(test.drop('hold_d', axis=1), sub, how='left', on='submit_id')\n",
        "# condition1 = temp['hist_d'] >= temp['hold_d']\n",
        "# condition2 = ((temp['hold_d'] - temp['hist_d']) > 146)\n",
        "# temp[condition1 | condition2] "
      ]
    },
    {
      "cell_type": "code",
      "execution_count": 37,
      "metadata": {
        "id": "XDFiCKEghgtL"
      },
      "outputs": [],
      "source": [
        "# for i in predict:\n",
        "#   if i"
      ]
    },
    {
      "cell_type": "code",
      "execution_count": 38,
      "metadata": {
        "id": "uFULx5xg8p_7"
      },
      "outputs": [],
      "source": [
        "# nam = test_data[test_data['sex_dit_cd']==1].index\n",
        "# nam"
      ]
    },
    {
      "cell_type": "code",
      "execution_count": 39,
      "metadata": {
        "id": "hpp-52Kjx3e1"
      },
      "outputs": [],
      "source": [
        "submission[\"hold_d\"] = np.round(predict)"
      ]
    },
    {
      "cell_type": "code",
      "execution_count": 40,
      "metadata": {
        "colab": {
          "base_uri": "https://localhost:8080/",
          "height": 417
        },
        "id": "MRJfspD5j7tZ",
        "outputId": "7e2e1a0c-498b-49ec-bb03-7c2664a4a523"
      },
      "outputs": [
        {
          "data": {
            "text/html": [
              "<div>\n",
              "<style scoped>\n",
              "    .dataframe tbody tr th:only-of-type {\n",
              "        vertical-align: middle;\n",
              "    }\n",
              "\n",
              "    .dataframe tbody tr th {\n",
              "        vertical-align: top;\n",
              "    }\n",
              "\n",
              "    .dataframe thead th {\n",
              "        text-align: right;\n",
              "    }\n",
              "</style>\n",
              "<table border=\"1\" class=\"dataframe\">\n",
              "  <thead>\n",
              "    <tr style=\"text-align: right;\">\n",
              "      <th></th>\n",
              "      <th>submit_id</th>\n",
              "      <th>hold_d</th>\n",
              "      <th>ss</th>\n",
              "    </tr>\n",
              "  </thead>\n",
              "  <tbody>\n",
              "    <tr>\n",
              "      <th>0</th>\n",
              "      <td>IDX00001</td>\n",
              "      <td>243.0</td>\n",
              "      <td>90.0</td>\n",
              "    </tr>\n",
              "    <tr>\n",
              "      <th>1</th>\n",
              "      <td>IDX00002</td>\n",
              "      <td>532.0</td>\n",
              "      <td>197.0</td>\n",
              "    </tr>\n",
              "    <tr>\n",
              "      <th>2</th>\n",
              "      <td>IDX00003</td>\n",
              "      <td>219.0</td>\n",
              "      <td>80.0</td>\n",
              "    </tr>\n",
              "    <tr>\n",
              "      <th>3</th>\n",
              "      <td>IDX00004</td>\n",
              "      <td>375.0</td>\n",
              "      <td>139.0</td>\n",
              "    </tr>\n",
              "    <tr>\n",
              "      <th>4</th>\n",
              "      <td>IDX00005</td>\n",
              "      <td>15.0</td>\n",
              "      <td>6.0</td>\n",
              "    </tr>\n",
              "    <tr>\n",
              "      <th>...</th>\n",
              "      <td>...</td>\n",
              "      <td>...</td>\n",
              "      <td>...</td>\n",
              "    </tr>\n",
              "    <tr>\n",
              "      <th>70591</th>\n",
              "      <td>IDX70592</td>\n",
              "      <td>37.0</td>\n",
              "      <td>14.0</td>\n",
              "    </tr>\n",
              "    <tr>\n",
              "      <th>70592</th>\n",
              "      <td>IDX70593</td>\n",
              "      <td>166.0</td>\n",
              "      <td>63.0</td>\n",
              "    </tr>\n",
              "    <tr>\n",
              "      <th>70593</th>\n",
              "      <td>IDX70594</td>\n",
              "      <td>784.0</td>\n",
              "      <td>-74.0</td>\n",
              "    </tr>\n",
              "    <tr>\n",
              "      <th>70594</th>\n",
              "      <td>IDX70595</td>\n",
              "      <td>18.0</td>\n",
              "      <td>7.0</td>\n",
              "    </tr>\n",
              "    <tr>\n",
              "      <th>70595</th>\n",
              "      <td>IDX70596</td>\n",
              "      <td>7.0</td>\n",
              "      <td>3.0</td>\n",
              "    </tr>\n",
              "  </tbody>\n",
              "</table>\n",
              "<p>70596 rows × 3 columns</p>\n",
              "</div>"
            ],
            "text/plain": [
              "      submit_id  hold_d     ss\n",
              "0      IDX00001   243.0   90.0\n",
              "1      IDX00002   532.0  197.0\n",
              "2      IDX00003   219.0   80.0\n",
              "3      IDX00004   375.0  139.0\n",
              "4      IDX00005    15.0    6.0\n",
              "...         ...     ...    ...\n",
              "70591  IDX70592    37.0   14.0\n",
              "70592  IDX70593   166.0   63.0\n",
              "70593  IDX70594   784.0  -74.0\n",
              "70594  IDX70595    18.0    7.0\n",
              "70595  IDX70596     7.0    3.0\n",
              "\n",
              "[70596 rows x 3 columns]"
            ]
          },
          "execution_count": 40,
          "metadata": {},
          "output_type": "execute_result"
        }
      ],
      "source": [
        "submission[\"ss\"]=submission[\"hold_d\"]-test[\"hist_d\"]\n",
        "submission"
      ]
    },
    {
      "cell_type": "markdown",
      "metadata": {
        "id": "wU4Fed6VAidN"
      },
      "source": []
    },
    {
      "cell_type": "code",
      "execution_count": 41,
      "metadata": {
        "id": "9E8vHOkh8_eH"
      },
      "outputs": [],
      "source": [
        "# for i in nam:\n",
        "#   submission['hold_d'].loc[i] = submission['hold_d'].loc[i] - 1 "
      ]
    },
    {
      "cell_type": "code",
      "execution_count": 42,
      "metadata": {
        "id": "Pvo3_gtlzm-9"
      },
      "outputs": [],
      "source": [
        "submission.loc[submission['ss']<0, 'ss'] = 1  # + hist"
      ]
    },
    {
      "cell_type": "code",
      "execution_count": 43,
      "metadata": {
        "id": "wQPj-sxNzQo0"
      },
      "outputs": [],
      "source": [
        "submission.loc[submission['ss']>146, 'ss'] = 146"
      ]
    },
    {
      "cell_type": "code",
      "execution_count": 44,
      "metadata": {
        "id": "6w0MyXf85K9T"
      },
      "outputs": [],
      "source": [
        "for i in idx:\n",
        "  submission.loc[submission['submit_id']==i, 'ss'] = 146\n",
        "  "
      ]
    },
    {
      "cell_type": "code",
      "execution_count": 45,
      "metadata": {
        "id": "qZt4yeRBzd4W"
      },
      "outputs": [],
      "source": [
        "submission['hold_d'] = submission['ss'] + test['hist_d']"
      ]
    },
    {
      "cell_type": "code",
      "execution_count": 46,
      "metadata": {
        "id": "6KrAy4PH1_bC"
      },
      "outputs": [],
      "source": [
        "submission.drop(\"ss\",axis=1,inplace=True)"
      ]
    },
    {
      "cell_type": "code",
      "execution_count": 47,
      "metadata": {
        "id": "me2935zI3U_3"
      },
      "outputs": [
        {
          "data": {
            "text/html": [
              "<div>\n",
              "<style scoped>\n",
              "    .dataframe tbody tr th:only-of-type {\n",
              "        vertical-align: middle;\n",
              "    }\n",
              "\n",
              "    .dataframe tbody tr th {\n",
              "        vertical-align: top;\n",
              "    }\n",
              "\n",
              "    .dataframe thead th {\n",
              "        text-align: right;\n",
              "    }\n",
              "</style>\n",
              "<table border=\"1\" class=\"dataframe\">\n",
              "  <thead>\n",
              "    <tr style=\"text-align: right;\">\n",
              "      <th></th>\n",
              "      <th>act_id</th>\n",
              "      <th>iem_cd</th>\n",
              "      <th>byn_dt</th>\n",
              "      <th>hist_d</th>\n",
              "      <th>submit_id</th>\n",
              "      <th>hold_d</th>\n",
              "      <th>ivs_be</th>\n",
              "      <th>long</th>\n",
              "    </tr>\n",
              "  </thead>\n",
              "  <tbody>\n",
              "    <tr>\n",
              "      <th>0</th>\n",
              "      <td>0ad104dbed99be0cd858aa772765ddedade554601a981b...</td>\n",
              "      <td>A032640</td>\n",
              "      <td>20200522</td>\n",
              "      <td>153</td>\n",
              "      <td>IDX00001</td>\n",
              "      <td>0</td>\n",
              "      <td>15.569043</td>\n",
              "      <td>1</td>\n",
              "    </tr>\n",
              "    <tr>\n",
              "      <th>1</th>\n",
              "      <td>0ad104dbed99be0cd858aa772765ddedade554601a981b...</td>\n",
              "      <td>A160600</td>\n",
              "      <td>20190823</td>\n",
              "      <td>335</td>\n",
              "      <td>IDX00002</td>\n",
              "      <td>0</td>\n",
              "      <td>15.569043</td>\n",
              "      <td>1</td>\n",
              "    </tr>\n",
              "    <tr>\n",
              "      <th>2</th>\n",
              "      <td>0ad104dbed99be0cd858aa772765ddedade554601a981b...</td>\n",
              "      <td>A234340</td>\n",
              "      <td>20200611</td>\n",
              "      <td>139</td>\n",
              "      <td>IDX00003</td>\n",
              "      <td>0</td>\n",
              "      <td>15.569043</td>\n",
              "      <td>1</td>\n",
              "    </tr>\n",
              "    <tr>\n",
              "      <th>3</th>\n",
              "      <td>0ad104dbed99be0cd858aa772765ddedade554601a981b...</td>\n",
              "      <td>A131760</td>\n",
              "      <td>20200120</td>\n",
              "      <td>236</td>\n",
              "      <td>IDX00004</td>\n",
              "      <td>0</td>\n",
              "      <td>15.569043</td>\n",
              "      <td>1</td>\n",
              "    </tr>\n",
              "    <tr>\n",
              "      <th>4</th>\n",
              "      <td>0ad104dbed99be0cd858aa772765ddedade554601a981b...</td>\n",
              "      <td>A293490</td>\n",
              "      <td>20201217</td>\n",
              "      <td>9</td>\n",
              "      <td>IDX00005</td>\n",
              "      <td>0</td>\n",
              "      <td>15.569043</td>\n",
              "      <td>1</td>\n",
              "    </tr>\n",
              "  </tbody>\n",
              "</table>\n",
              "</div>"
            ],
            "text/plain": [
              "                                              act_id   iem_cd    byn_dt  \\\n",
              "0  0ad104dbed99be0cd858aa772765ddedade554601a981b...  A032640  20200522   \n",
              "1  0ad104dbed99be0cd858aa772765ddedade554601a981b...  A160600  20190823   \n",
              "2  0ad104dbed99be0cd858aa772765ddedade554601a981b...  A234340  20200611   \n",
              "3  0ad104dbed99be0cd858aa772765ddedade554601a981b...  A131760  20200120   \n",
              "4  0ad104dbed99be0cd858aa772765ddedade554601a981b...  A293490  20201217   \n",
              "\n",
              "   hist_d submit_id  hold_d     ivs_be  long  \n",
              "0     153  IDX00001       0  15.569043     1  \n",
              "1     335  IDX00002       0  15.569043     1  \n",
              "2     139  IDX00003       0  15.569043     1  \n",
              "3     236  IDX00004       0  15.569043     1  \n",
              "4       9  IDX00005       0  15.569043     1  "
            ]
          },
          "execution_count": 47,
          "metadata": {},
          "output_type": "execute_result"
        }
      ],
      "source": [
        "test.head()"
      ]
    },
    {
      "cell_type": "code",
      "execution_count": 48,
      "metadata": {
        "id": "uFAGe26Tvg91"
      },
      "outputs": [
        {
          "data": {
            "text/html": [
              "<div>\n",
              "<style scoped>\n",
              "    .dataframe tbody tr th:only-of-type {\n",
              "        vertical-align: middle;\n",
              "    }\n",
              "\n",
              "    .dataframe tbody tr th {\n",
              "        vertical-align: top;\n",
              "    }\n",
              "\n",
              "    .dataframe thead th {\n",
              "        text-align: right;\n",
              "    }\n",
              "</style>\n",
              "<table border=\"1\" class=\"dataframe\">\n",
              "  <thead>\n",
              "    <tr style=\"text-align: right;\">\n",
              "      <th></th>\n",
              "      <th>submit_id</th>\n",
              "      <th>hold_d</th>\n",
              "    </tr>\n",
              "  </thead>\n",
              "  <tbody>\n",
              "    <tr>\n",
              "      <th>0</th>\n",
              "      <td>IDX00001</td>\n",
              "      <td>243.0</td>\n",
              "    </tr>\n",
              "    <tr>\n",
              "      <th>1</th>\n",
              "      <td>IDX00002</td>\n",
              "      <td>481.0</td>\n",
              "    </tr>\n",
              "    <tr>\n",
              "      <th>2</th>\n",
              "      <td>IDX00003</td>\n",
              "      <td>219.0</td>\n",
              "    </tr>\n",
              "    <tr>\n",
              "      <th>3</th>\n",
              "      <td>IDX00004</td>\n",
              "      <td>375.0</td>\n",
              "    </tr>\n",
              "    <tr>\n",
              "      <th>4</th>\n",
              "      <td>IDX00005</td>\n",
              "      <td>15.0</td>\n",
              "    </tr>\n",
              "    <tr>\n",
              "      <th>...</th>\n",
              "      <td>...</td>\n",
              "      <td>...</td>\n",
              "    </tr>\n",
              "    <tr>\n",
              "      <th>70591</th>\n",
              "      <td>IDX70592</td>\n",
              "      <td>37.0</td>\n",
              "    </tr>\n",
              "    <tr>\n",
              "      <th>70592</th>\n",
              "      <td>IDX70593</td>\n",
              "      <td>166.0</td>\n",
              "    </tr>\n",
              "    <tr>\n",
              "      <th>70593</th>\n",
              "      <td>IDX70594</td>\n",
              "      <td>859.0</td>\n",
              "    </tr>\n",
              "    <tr>\n",
              "      <th>70594</th>\n",
              "      <td>IDX70595</td>\n",
              "      <td>18.0</td>\n",
              "    </tr>\n",
              "    <tr>\n",
              "      <th>70595</th>\n",
              "      <td>IDX70596</td>\n",
              "      <td>7.0</td>\n",
              "    </tr>\n",
              "  </tbody>\n",
              "</table>\n",
              "<p>70596 rows × 2 columns</p>\n",
              "</div>"
            ],
            "text/plain": [
              "      submit_id  hold_d\n",
              "0      IDX00001   243.0\n",
              "1      IDX00002   481.0\n",
              "2      IDX00003   219.0\n",
              "3      IDX00004   375.0\n",
              "4      IDX00005    15.0\n",
              "...         ...     ...\n",
              "70591  IDX70592    37.0\n",
              "70592  IDX70593   166.0\n",
              "70593  IDX70594   859.0\n",
              "70594  IDX70595    18.0\n",
              "70595  IDX70596     7.0\n",
              "\n",
              "[70596 rows x 2 columns]"
            ]
          },
          "execution_count": 48,
          "metadata": {},
          "output_type": "execute_result"
        }
      ],
      "source": [
        "submission"
      ]
    },
    {
      "cell_type": "code",
      "execution_count": 49,
      "metadata": {
        "id": "WK6k77RYc-m3"
      },
      "outputs": [],
      "source": [
        "# for i in idx:\n",
        "#   submission['hold_d'].loc[i] = test['_d'].loc[i] + 146"
      ]
    },
    {
      "cell_type": "code",
      "execution_count": 51,
      "metadata": {
        "id": "3Y6JFkzRx3h0"
      },
      "outputs": [],
      "source": [
        "# submission.to_csv(\"./sub/67_16__2.csv\", index = False)"
      ]
    },
    {
      "cell_type": "code",
      "execution_count": null,
      "metadata": {
        "id": "ReQyAAX10rcq"
      },
      "outputs": [],
      "source": [
        "cus"
      ]
    },
    {
      "cell_type": "code",
      "execution_count": null,
      "metadata": {
        "id": "dHuAvKVbe0as"
      },
      "outputs": [],
      "source": [
        "submission"
      ]
    },
    {
      "cell_type": "code",
      "execution_count": null,
      "metadata": {
        "id": "-AQSMksHGXG1"
      },
      "outputs": [],
      "source": [
        "hist.head()"
      ]
    }
  ],
  "metadata": {
    "colab": {
      "collapsed_sections": [],
      "name": "67_16_ (1).ipynb",
      "provenance": []
    },
    "interpreter": {
      "hash": "c3102799280f1ed23787b1be8e33b065cea14d14e60df4daed798ef8bab0b32c"
    },
    "kernelspec": {
      "display_name": "Python 3.8.8 64-bit ('venv': venv)",
      "name": "python3"
    },
    "language_info": {
      "codemirror_mode": {
        "name": "ipython",
        "version": 3
      },
      "file_extension": ".py",
      "mimetype": "text/x-python",
      "name": "python",
      "nbconvert_exporter": "python",
      "pygments_lexer": "ipython3",
      "version": "3.8.8"
    }
  },
  "nbformat": 4,
  "nbformat_minor": 0
}
