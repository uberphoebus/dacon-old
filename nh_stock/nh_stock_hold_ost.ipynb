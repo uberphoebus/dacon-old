{
 "cells": [
  {
   "cell_type": "markdown",
   "source": [
    "# imports"
   ],
   "metadata": {}
  },
  {
   "cell_type": "code",
   "execution_count": null,
   "source": [
    "import pandas as pd\r\n",
    "import numpy as np\r\n",
    "import seaborn as sns\r\n",
    "import matplotlib.pyplot as plt\r\n",
    "from sklearn.model_selection import train_test_split\r\n",
    "\r\n",
    "\r\n",
    "from imblearn.over_sampling import SMOTE # 오버샘플링\r\n",
    "from imblearn.under_sampling import NearMiss # 언더샘플링\r\n",
    "\r\n",
    "# 스케일링\r\n",
    "from sklearn.preprocessing import MinMaxScaler, RobustScaler, StandardScaler\r\n",
    "\r\n",
    "\r\n",
    "#회귀\r\n",
    "from scipy.stats import skew, kurtosis\r\n",
    "from sklearn.linear_model import LinearRegression, Ridge, Lasso, ElasticNet\r\n",
    "from sklearn.tree import DecisionTreeRegressor\r\n",
    "from xgboost import XGBRegressor\r\n",
    "from lightgbm import LGBMRegressor\r\n",
    "\r\n",
    "#회귀점수\r\n",
    "from sklearn.metrics import mean_squared_error  #잔차(실값-예측값) 제곱 합의 평균\r\n",
    "from sklearn.metrics import mean_squared_log_error\r\n",
    "from scipy.stats import skew, kurtosis  #왜도(skew):좌우치우침    첨도(kurt):중앙값의뾰족함정도\r\n",
    "\r\n",
    "#스케일링\r\n",
    "from sklearn.preprocessing import MinMaxScaler, RobustScaler, StandardScaler\r\n",
    "\r\n",
    "\r\n",
    "# -----------------------------------------------------------------------------------\r\n",
    "#검증\r\n",
    "from sklearn.model_selection import KFold, StratifiedKFold\r\n",
    "from sklearn.model_selection import cross_val_score, GridSearchCV\r\n",
    "\r\n",
    "#오류\r\n",
    "import warnings\r\n",
    "warnings.filterwarnings(action='ignore')\r\n",
    "\r\n",
    "#---------------------boosting----------------------------------------------------\r\n",
    "from sklearn.ensemble import VotingRegressor\r\n",
    "from sklearn.ensemble import BaggingRegressor\r\n",
    "from sklearn.ensemble import GradientBoostingRegressor\r\n",
    "\r\n",
    "#--------------------optuna-하이퍼파라미터 설정------------------------------------\r\n",
    "import optuna"
   ],
   "outputs": [],
   "metadata": {}
  },
  {
   "cell_type": "markdown",
   "source": [
    "# csv 불러오기"
   ],
   "metadata": {}
  },
  {
   "cell_type": "code",
   "execution_count": null,
   "source": [
    "cus_info = pd.read_csv('./cus_info.csv')\r\n",
    "iem_info = pd.read_csv('./iem_info_20210902.csv')\r\n",
    "stk_bnc_hist  = pd.read_csv('./stk_bnc_hist.csv')\r\n",
    "stk_hld_train = pd.read_csv('./stk_hld_train.csv')\r\n",
    "stk_hld_test  = pd.read_csv('./stk_hld_test.csv')\r\n",
    "sample_submission = pd.read_csv('./sample_submission.csv')"
   ],
   "outputs": [],
   "metadata": {}
  },
  {
   "cell_type": "markdown",
   "source": [
    "# merge"
   ],
   "metadata": {}
  },
  {
   "cell_type": "code",
   "execution_count": null,
   "source": [],
   "outputs": [],
   "metadata": {}
  }
 ],
 "metadata": {
  "orig_nbformat": 4,
  "language_info": {
   "name": "python",
   "version": "3.8.8",
   "mimetype": "text/x-python",
   "codemirror_mode": {
    "name": "ipython",
    "version": 3
   },
   "pygments_lexer": "ipython3",
   "nbconvert_exporter": "python",
   "file_extension": ".py"
  },
  "kernelspec": {
   "name": "python3",
   "display_name": "Python 3.8.8 64-bit ('venv': venv)"
  },
  "interpreter": {
   "hash": "c3102799280f1ed23787b1be8e33b065cea14d14e60df4daed798ef8bab0b32c"
  }
 },
 "nbformat": 4,
 "nbformat_minor": 2
}