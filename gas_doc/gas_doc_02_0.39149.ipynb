{
 "cells": [
  {
   "cell_type": "markdown",
   "metadata": {},
   "source": [
    "# imports"
   ]
  },
  {
   "cell_type": "code",
   "execution_count": 1,
   "metadata": {},
   "outputs": [],
   "source": [
    "import pandas as pd\n",
    "import numpy as np\n",
    "import json"
   ]
  },
  {
   "cell_type": "markdown",
   "metadata": {},
   "source": [
    "# read"
   ]
  },
  {
   "cell_type": "code",
   "execution_count": 2,
   "metadata": {},
   "outputs": [],
   "source": [
    "with open('./input/test.jsonl', 'r', encoding='utf-8') as f:\n",
    "    jsonl = list(f)\n",
    "\n",
    "test_data = []\n",
    "for json_str in jsonl:\n",
    "    test_data.append(json.loads(json_str))\n",
    "\n",
    "sub = pd.read_csv('./input/sample_submission.csv')"
   ]
  },
  {
   "cell_type": "code",
   "execution_count": 3,
   "metadata": {},
   "outputs": [
    {
     "data": {
      "text/html": [
       "<div>\n",
       "<style scoped>\n",
       "    .dataframe tbody tr th:only-of-type {\n",
       "        vertical-align: middle;\n",
       "    }\n",
       "\n",
       "    .dataframe tbody tr th {\n",
       "        vertical-align: top;\n",
       "    }\n",
       "\n",
       "    .dataframe thead th {\n",
       "        text-align: right;\n",
       "    }\n",
       "</style>\n",
       "<table border=\"1\" class=\"dataframe\">\n",
       "  <thead>\n",
       "    <tr style=\"text-align: right;\">\n",
       "      <th></th>\n",
       "      <th>id</th>\n",
       "      <th>summary</th>\n",
       "    </tr>\n",
       "  </thead>\n",
       "  <tbody>\n",
       "    <tr>\n",
       "      <th>0</th>\n",
       "      <td>250366726</td>\n",
       "      <td>요약문</td>\n",
       "    </tr>\n",
       "    <tr>\n",
       "      <th>1</th>\n",
       "      <td>251994086</td>\n",
       "      <td>요약문</td>\n",
       "    </tr>\n",
       "    <tr>\n",
       "      <th>2</th>\n",
       "      <td>252639804</td>\n",
       "      <td>요약문</td>\n",
       "    </tr>\n",
       "    <tr>\n",
       "      <th>3</th>\n",
       "      <td>252639915</td>\n",
       "      <td>요약문</td>\n",
       "    </tr>\n",
       "    <tr>\n",
       "      <th>4</th>\n",
       "      <td>253427793</td>\n",
       "      <td>요약문</td>\n",
       "    </tr>\n",
       "  </tbody>\n",
       "</table>\n",
       "</div>"
      ],
      "text/plain": [
       "          id summary\n",
       "0  250366726     요약문\n",
       "1  251994086     요약문\n",
       "2  252639804     요약문\n",
       "3  252639915     요약문\n",
       "4  253427793     요약문"
      ]
     },
     "execution_count": 3,
     "metadata": {},
     "output_type": "execute_result"
    }
   ],
   "source": [
    "sub.head()"
   ]
  },
  {
   "cell_type": "code",
   "execution_count": 4,
   "metadata": {},
   "outputs": [
    {
     "data": {
      "text/plain": [
       "dict_keys(['id', 'article_original', 'media'])"
      ]
     },
     "execution_count": 4,
     "metadata": {},
     "output_type": "execute_result"
    }
   ],
   "source": [
    "test_data[0].keys()"
   ]
  },
  {
   "cell_type": "code",
   "execution_count": 5,
   "metadata": {},
   "outputs": [
    {
     "data": {
      "text/plain": [
       "{'id': '368851881',\n",
       " 'article_original': ['한국은행이 지난달 기준금리를 추가 인하한 영향으로 대출금리가 일제 하락했다.',\n",
       "  '특히 기업대출금리는 1996년 관련 통계 집계 이후 가장 낮은 수준까지 하락했다.',\n",
       "  \"한국은행이 28일 발표한 '2019년 10월 중 금융기관 가중평균금리'에 따르면 신규취급액 기준 지난달 예금은행의 대출평균금리는 연 3.20%로 전월 대비 0.11%포인트 하락했다.\",\n",
       "  '대출금리를 기업과 가계로 나눠보면 기업대출금리 하락폭이 가팔랐다.',\n",
       "  '10월 기업대출금리는 연 3.28%로 전월 대비 0.14%포인트 떨어졌다.',\n",
       "  '연 3.28%는 1996년 1월 관련 통계 작성 이후 최저치다.',\n",
       "  '대기업의 경우 기준이 되는 단기지표 금리의 하락 영향으로 10월 대출금리가 연 3.13%로 전월 대비 0.17%포인트 빠졌다.',\n",
       "  '중소기업은 일부 은행의 저금리 대출 취급 등의 영향으로 연 3.39%로 0.11%포인트 하락했다.',\n",
       "  '한은 관계자는 \"지난달 기준금리가 인하되면서 단기 지표에 영향을 많이 받는 기업대출 금리도 역대 최저 수준으로 하락했다\"고 설명했다.',\n",
       "  '같은 기간 가계대출 금리도 하락했다.',\n",
       "  '10월 가계대출 금리는 연 3.01%로 전월 대비 0.01%포인트 하락했다.',\n",
       "  '같은 기간 주택담보대출 금리도 연 2.50%로 0.01%포인트 떨어졌다.',\n",
       "  '가계대출 금리의 경우 기업대출에 비해 장기지표 영향을 많이 받아 하락폭은 작았다.',\n",
       "  '한편 10월 중 비은행금융기관 예금금리(1년만기 정기예탁금 기준)는 모두 하락했고 대출금리(일반대출 기준)는 상호저축은행은 상승, 상호금융은 하락했다.'],\n",
       " 'media': '아시아경제'}"
      ]
     },
     "execution_count": 5,
     "metadata": {},
     "output_type": "execute_result"
    }
   ],
   "source": [
    "test_data[0]"
   ]
  },
  {
   "cell_type": "code",
   "execution_count": 6,
   "metadata": {},
   "outputs": [
    {
     "data": {
      "text/plain": [
       "['日경제보복 규탄 퍼포먼스 - 23일 인천 남동구 구월동의 한 거리에서 구월문화로 상인회가 일본의 경제 보복을 규탄하며 일본 차량인 렉서스를 부수고 있다.',\n",
       " '상인회 회원들은 이후 차량에 상여줄을 매는 퍼포먼스를 진행했다.',\n",
       " '구월문화로 상인회는 \"인천의 300만 시민과 15만 자영업자들은 일본이 경제 보복을 철회할 때까지 일본 제품 불매 운동을 벌일 것\"이라고 이날 밝혔다.',\n",
       " '뉴스1 대형마트와 편의점 업계가 일본 상품 불매운동에 동참하면서 유통업계에 일본산 불매운동이 빠른 속도로 확산하고 있다.',\n",
       " '롯데마트는 26일부터 대형마트 중 처음으로 아사히, 기린, 삿포로, 산토리, 에비스, 오키나와(일본명 오리온) 등 대표적인 일본 맥주 6종에 대해 발주를 중단한다고 25일 밝혔다.',\n",
       " '이는 롯데마트가 일본 맥주를 수입하는 업체로부터 더이상 일본 맥주를 사들이지 않는다는 의미다.',\n",
       " '롯데마트는 다만 이미 물량이 매장에 들어와 있는 상품의 판매는 그대로 진행할 예정이다.',\n",
       " '따라서 발주 중단이 당장 일본 맥주 판매 중단으로 이어지지는 않을 전망이다.',\n",
       " '롯데마트 관계자는 \"가장 많이 팔리는 일본산 맥주 6종에 대해 신규 발주를 중단하기로 했다\"며 \"최근 진행되는 일본 상품 불매운동과 관련한 국민정서 등을 감안한 조치\"라고 설명했다.',\n",
       " '불매 운동에는 편의점 업계도 동참했다.',\n",
       " \"편의점 CU는 다음달부터 수입 맥주 '4캔에 1만원' 행사에서 일본 주류를 모두 제외하기로 했다고 밝혔다.\",\n",
       " '이에 따라 아사히, 기린이치방, 삿포로, 산토리 등 일본 맥주 10종과 호로요이 4종이 할인 행사에서 제외된다.',\n",
       " \"CU는 대신 국산맥주 카스와 클라우드에는 '4캔에 1만원' 행사를 새로 시작한다.\",\n",
       " '개별 점포가 아닌 유통업체 본사 차원에서 일본 상품 불매운동과 관련한 직접적인 조치를 취한 것은 이번이 처음이다.',\n",
       " 'CU는 특히 에비스 등 5개의 일본 제품에 대해서는 발주 자체를 중단하기로 했다.',\n",
       " 'GS25도 다음달부터 수입 맥주 할인행사에서 일본산 제품을 제외하기로 했다.',\n",
       " \"GS25는 '체코 맥주'로 알려져 있지만, 일본 기업이 소유하고 있는 코젤과 필스너우르켈 제품은 물론 미니 사케 등에 대한 판촉 행사도 중단한다.\",\n",
       " 'GS25는 이미 제작된 수입 맥주 행사 홍보물에서 일본산 제품을 제외하고 다시 제작해 가맹점에 배포했다.',\n",
       " '세븐일레븐과 이마트24도 8월부터 수입 맥주 할인 행사 리스트에서 일본산과 일본 기업이 보유한 코젤 등을 제외하기로 했다.',\n",
       " '편의점 업계의 이런 대응은 일본산 제품 불매 운동이 들불처럼 일어나면서 유통업계 내부에 국민 정서를 고려해야 한다는 시각이 많아졌기 때문으로 풀이된다.',\n",
       " '실제로 CU에서는 일본의 보복성 수출규제가 발표된 이달 1일부터 21일까지 일본산 맥주 매출이 전월 동기 대비 40.3% 줄어들기도 했다.']"
      ]
     },
     "execution_count": 6,
     "metadata": {},
     "output_type": "execute_result"
    }
   ],
   "source": [
    "test_data[30]['article_original']"
   ]
  },
  {
   "cell_type": "code",
   "execution_count": 7,
   "metadata": {},
   "outputs": [
    {
     "data": {
      "text/plain": [
       "'한국은행이 지난달 기준금리를 추가 인하한 영향으로 대출금리가 일제 하락했다.'"
      ]
     },
     "execution_count": 7,
     "metadata": {},
     "output_type": "execute_result"
    }
   ],
   "source": [
    "test_data[0]['article_original'][0]"
   ]
  },
  {
   "cell_type": "code",
   "execution_count": 8,
   "metadata": {},
   "outputs": [
    {
     "data": {
      "text/plain": [
       "'한편 10월 중 비은행금융기관 예금금리(1년만기 정기예탁금 기준)는 모두 하락했고 대출금리(일반대출 기준)는 상호저축은행은 상승, 상호금융은 하락했다.'"
      ]
     },
     "execution_count": 8,
     "metadata": {},
     "output_type": "execute_result"
    }
   ],
   "source": [
    "test_data[0]['article_original'][-1]"
   ]
  },
  {
   "cell_type": "code",
   "execution_count": 9,
   "metadata": {},
   "outputs": [
    {
     "data": {
      "text/plain": [
       "'나기복 대한민국 무공수훈자회 사무국장 / 충남 장례선양단 팀장'"
      ]
     },
     "execution_count": 9,
     "metadata": {},
     "output_type": "execute_result"
    }
   ],
   "source": [
    "test_data[1]['article_original'][0]"
   ]
  },
  {
   "cell_type": "code",
   "execution_count": 10,
   "metadata": {},
   "outputs": [
    {
     "data": {
      "text/plain": [
       "'나기복 대한민국 무공수훈자회 사무국장'"
      ]
     },
     "execution_count": 10,
     "metadata": {},
     "output_type": "execute_result"
    }
   ],
   "source": [
    "test_data[1]['article_original'][0][:20]"
   ]
  },
  {
   "cell_type": "code",
   "execution_count": 11,
   "metadata": {},
   "outputs": [
    {
     "data": {
      "text/plain": [
       "34"
      ]
     },
     "execution_count": 11,
     "metadata": {},
     "output_type": "execute_result"
    }
   ],
   "source": [
    "len(test_data[1]['article_original'][0])"
   ]
  },
  {
   "cell_type": "code",
   "execution_count": 12,
   "metadata": {},
   "outputs": [
    {
     "name": "stdout",
     "output_type": "stream",
     "text": [
      "45.02980052871906\n"
     ]
    }
   ],
   "source": [
    "test_data_len = []\n",
    "for i in np.arange(0, len(test_data)):\n",
    "    test_data_len.append(len(test_data[i]['article_original'][0]))\n",
    "print(np.mean(test_data_len))"
   ]
  },
  {
   "cell_type": "markdown",
   "metadata": {},
   "source": [
    "# summary"
   ]
  },
  {
   "cell_type": "code",
   "execution_count": 13,
   "metadata": {},
   "outputs": [],
   "source": [
    "for data in test_data:\n",
    "    did  = int(data['id'])\n",
    "    summ = data['article_original'][0] + data['article_original'][1] + data['article_original'][-2]\n",
    "    idx  = sub[sub['id'] == did].index\n",
    "    sub.loc[idx, 'summary'] = summ"
   ]
  },
  {
   "cell_type": "code",
   "execution_count": 14,
   "metadata": {},
   "outputs": [
    {
     "data": {
      "text/html": [
       "<div>\n",
       "<style scoped>\n",
       "    .dataframe tbody tr th:only-of-type {\n",
       "        vertical-align: middle;\n",
       "    }\n",
       "\n",
       "    .dataframe tbody tr th {\n",
       "        vertical-align: top;\n",
       "    }\n",
       "\n",
       "    .dataframe thead th {\n",
       "        text-align: right;\n",
       "    }\n",
       "</style>\n",
       "<table border=\"1\" class=\"dataframe\">\n",
       "  <thead>\n",
       "    <tr style=\"text-align: right;\">\n",
       "      <th></th>\n",
       "      <th>id</th>\n",
       "      <th>summary</th>\n",
       "    </tr>\n",
       "  </thead>\n",
       "  <tbody>\n",
       "    <tr>\n",
       "      <th>0</th>\n",
       "      <td>250366726</td>\n",
       "      <td>가학리 주민들 호소문 통해 입장 전달 “텅텅 빈 산업단지 두고 왜 민가 근처에…”당...</td>\n",
       "    </tr>\n",
       "    <tr>\n",
       "      <th>1</th>\n",
       "      <td>251994086</td>\n",
       "      <td>10대 때부터 써온 한시 “옛 것 사라지는 것 아쉬워”남송 채규선 작가가 2016 ...</td>\n",
       "    </tr>\n",
       "    <tr>\n",
       "      <th>2</th>\n",
       "      <td>252639804</td>\n",
       "      <td>당진서 군복무하며 인연 맺어 “당진시대는 훌륭한 지역의 소식통”아산시가 고향인 정상...</td>\n",
       "    </tr>\n",
       "    <tr>\n",
       "      <th>3</th>\n",
       "      <td>252639915</td>\n",
       "      <td>진옥성결교회성전 봉헌식 및 단기선교앞으로도 진옥성결교회가 선교하는 교회, 다음세대를...</td>\n",
       "    </tr>\n",
       "    <tr>\n",
       "      <th>4</th>\n",
       "      <td>253427793</td>\n",
       "      <td>이달 중 청년정책네트워크 구성해 본격 논의 면접 서비스, 청년 사회적기업 창업 지원...</td>\n",
       "    </tr>\n",
       "    <tr>\n",
       "      <th>...</th>\n",
       "      <td>...</td>\n",
       "      <td>...</td>\n",
       "    </tr>\n",
       "    <tr>\n",
       "      <th>4156</th>\n",
       "      <td>372705621</td>\n",
       "      <td>울산경찰청은 31일 자정을 기준으로 '2020년 운전면허 행정처분 특별감면'을 실시...</td>\n",
       "    </tr>\n",
       "    <tr>\n",
       "      <th>4157</th>\n",
       "      <td>372751633</td>\n",
       "      <td>디지털뉴스부[기호일보=디지털뉴스부]2001년 SBS 드라마 《피아노》에 수록된 OS...</td>\n",
       "    </tr>\n",
       "    <tr>\n",
       "      <th>4158</th>\n",
       "      <td>372770123</td>\n",
       "      <td>제주관광공사 관광객 신용카드 매출 빅데이터 분석제주 관광산업 신용카드 매출이 201...</td>\n",
       "    </tr>\n",
       "    <tr>\n",
       "      <th>4159</th>\n",
       "      <td>372779075</td>\n",
       "      <td>박길수 기자임실군 애향장학회, 1억9,000만원 장학금 기탁사회단체, 향우님들께 감...</td>\n",
       "    </tr>\n",
       "    <tr>\n",
       "      <th>4160</th>\n",
       "      <td>372779090</td>\n",
       "      <td>박상래 기자“역사와 전통을 바탕으로 한 문화·예술·관광의 도시인 전주에서 근무하게 ...</td>\n",
       "    </tr>\n",
       "  </tbody>\n",
       "</table>\n",
       "<p>4161 rows × 2 columns</p>\n",
       "</div>"
      ],
      "text/plain": [
       "             id                                            summary\n",
       "0     250366726  가학리 주민들 호소문 통해 입장 전달 “텅텅 빈 산업단지 두고 왜 민가 근처에…”당...\n",
       "1     251994086  10대 때부터 써온 한시 “옛 것 사라지는 것 아쉬워”남송 채규선 작가가 2016 ...\n",
       "2     252639804  당진서 군복무하며 인연 맺어 “당진시대는 훌륭한 지역의 소식통”아산시가 고향인 정상...\n",
       "3     252639915  진옥성결교회성전 봉헌식 및 단기선교앞으로도 진옥성결교회가 선교하는 교회, 다음세대를...\n",
       "4     253427793  이달 중 청년정책네트워크 구성해 본격 논의 면접 서비스, 청년 사회적기업 창업 지원...\n",
       "...         ...                                                ...\n",
       "4156  372705621  울산경찰청은 31일 자정을 기준으로 '2020년 운전면허 행정처분 특별감면'을 실시...\n",
       "4157  372751633  디지털뉴스부[기호일보=디지털뉴스부]2001년 SBS 드라마 《피아노》에 수록된 OS...\n",
       "4158  372770123  제주관광공사 관광객 신용카드 매출 빅데이터 분석제주 관광산업 신용카드 매출이 201...\n",
       "4159  372779075  박길수 기자임실군 애향장학회, 1억9,000만원 장학금 기탁사회단체, 향우님들께 감...\n",
       "4160  372779090  박상래 기자“역사와 전통을 바탕으로 한 문화·예술·관광의 도시인 전주에서 근무하게 ...\n",
       "\n",
       "[4161 rows x 2 columns]"
      ]
     },
     "execution_count": 14,
     "metadata": {},
     "output_type": "execute_result"
    }
   ],
   "source": [
    "sub"
   ]
  },
  {
   "cell_type": "code",
   "execution_count": 15,
   "metadata": {},
   "outputs": [
    {
     "data": {
      "text/plain": [
       "77"
      ]
     },
     "execution_count": 15,
     "metadata": {},
     "output_type": "execute_result"
    }
   ],
   "source": [
    "len(sub['summary'][1])"
   ]
  },
  {
   "cell_type": "code",
   "execution_count": 16,
   "metadata": {},
   "outputs": [
    {
     "name": "stdout",
     "output_type": "stream",
     "text": [
      "184.37034366738766\n"
     ]
    }
   ],
   "source": [
    "summ_len = []\n",
    "for i in np.arange(0, len(sub['summary'])):\n",
    "    summ_len.append(len(sub['summary'][i]))\n",
    "print(np.mean(summ_len))"
   ]
  },
  {
   "cell_type": "code",
   "execution_count": 17,
   "metadata": {},
   "outputs": [
    {
     "data": {
      "text/html": [
       "<div>\n",
       "<style scoped>\n",
       "    .dataframe tbody tr th:only-of-type {\n",
       "        vertical-align: middle;\n",
       "    }\n",
       "\n",
       "    .dataframe tbody tr th {\n",
       "        vertical-align: top;\n",
       "    }\n",
       "\n",
       "    .dataframe thead th {\n",
       "        text-align: right;\n",
       "    }\n",
       "</style>\n",
       "<table border=\"1\" class=\"dataframe\">\n",
       "  <thead>\n",
       "    <tr style=\"text-align: right;\">\n",
       "      <th></th>\n",
       "      <th>id</th>\n",
       "      <th>summary</th>\n",
       "    </tr>\n",
       "  </thead>\n",
       "  <tbody>\n",
       "    <tr>\n",
       "      <th>0</th>\n",
       "      <td>250366726</td>\n",
       "      <td>가학리 주민들 호소문 통해 입장 전달 “텅텅 빈 산업단지 두고 왜 민가 근처에…”당...</td>\n",
       "    </tr>\n",
       "    <tr>\n",
       "      <th>1</th>\n",
       "      <td>251994086</td>\n",
       "      <td>10대 때부터 써온 한시 “옛 것 사라지는 것 아쉬워”남송 채규선 작가가 2016 ...</td>\n",
       "    </tr>\n",
       "    <tr>\n",
       "      <th>2</th>\n",
       "      <td>252639804</td>\n",
       "      <td>당진서 군복무하며 인연 맺어 “당진시대는 훌륭한 지역의 소식통”아산시가 고향인 정상...</td>\n",
       "    </tr>\n",
       "    <tr>\n",
       "      <th>3</th>\n",
       "      <td>252639915</td>\n",
       "      <td>진옥성결교회성전 봉헌식 및 단기선교앞으로도 진옥성결교회가 선교하는 교회, 다음세대를...</td>\n",
       "    </tr>\n",
       "    <tr>\n",
       "      <th>4</th>\n",
       "      <td>253427793</td>\n",
       "      <td>이달 중 청년정책네트워크 구성해 본격 논의 면접 서비스, 청년 사회적기업 창업 지원...</td>\n",
       "    </tr>\n",
       "    <tr>\n",
       "      <th>...</th>\n",
       "      <td>...</td>\n",
       "      <td>...</td>\n",
       "    </tr>\n",
       "    <tr>\n",
       "      <th>4156</th>\n",
       "      <td>372705621</td>\n",
       "      <td>울산경찰청은 31일 자정을 기준으로 '2020년 운전면허 행정처분 특별감면'을 실시...</td>\n",
       "    </tr>\n",
       "    <tr>\n",
       "      <th>4157</th>\n",
       "      <td>372751633</td>\n",
       "      <td>디지털뉴스부[기호일보=디지털뉴스부]2001년 SBS 드라마 《피아노》에 수록된 OS...</td>\n",
       "    </tr>\n",
       "    <tr>\n",
       "      <th>4158</th>\n",
       "      <td>372770123</td>\n",
       "      <td>제주관광공사 관광객 신용카드 매출 빅데이터 분석제주 관광산업 신용카드 매출이 201...</td>\n",
       "    </tr>\n",
       "    <tr>\n",
       "      <th>4159</th>\n",
       "      <td>372779075</td>\n",
       "      <td>박길수 기자임실군 애향장학회, 1억9,000만원 장학금 기탁사회단체, 향우님들께 감...</td>\n",
       "    </tr>\n",
       "    <tr>\n",
       "      <th>4160</th>\n",
       "      <td>372779090</td>\n",
       "      <td>박상래 기자“역사와 전통을 바탕으로 한 문화·예술·관광의 도시인 전주에서 근무하게 ...</td>\n",
       "    </tr>\n",
       "  </tbody>\n",
       "</table>\n",
       "<p>4161 rows × 2 columns</p>\n",
       "</div>"
      ],
      "text/plain": [
       "             id                                            summary\n",
       "0     250366726  가학리 주민들 호소문 통해 입장 전달 “텅텅 빈 산업단지 두고 왜 민가 근처에…”당...\n",
       "1     251994086  10대 때부터 써온 한시 “옛 것 사라지는 것 아쉬워”남송 채규선 작가가 2016 ...\n",
       "2     252639804  당진서 군복무하며 인연 맺어 “당진시대는 훌륭한 지역의 소식통”아산시가 고향인 정상...\n",
       "3     252639915  진옥성결교회성전 봉헌식 및 단기선교앞으로도 진옥성결교회가 선교하는 교회, 다음세대를...\n",
       "4     253427793  이달 중 청년정책네트워크 구성해 본격 논의 면접 서비스, 청년 사회적기업 창업 지원...\n",
       "...         ...                                                ...\n",
       "4156  372705621  울산경찰청은 31일 자정을 기준으로 '2020년 운전면허 행정처분 특별감면'을 실시...\n",
       "4157  372751633  디지털뉴스부[기호일보=디지털뉴스부]2001년 SBS 드라마 《피아노》에 수록된 OS...\n",
       "4158  372770123  제주관광공사 관광객 신용카드 매출 빅데이터 분석제주 관광산업 신용카드 매출이 201...\n",
       "4159  372779075  박길수 기자임실군 애향장학회, 1억9,000만원 장학금 기탁사회단체, 향우님들께 감...\n",
       "4160  372779090  박상래 기자“역사와 전통을 바탕으로 한 문화·예술·관광의 도시인 전주에서 근무하게 ...\n",
       "\n",
       "[4161 rows x 2 columns]"
      ]
     },
     "execution_count": 17,
     "metadata": {},
     "output_type": "execute_result"
    }
   ],
   "source": [
    "sub"
   ]
  },
  {
   "cell_type": "code",
   "execution_count": 18,
   "metadata": {},
   "outputs": [],
   "source": [
    "# sub.to_csv('./sub/sub_02.csv', index=False)"
   ]
  }
 ],
 "metadata": {
  "interpreter": {
   "hash": "17164ff5f922defefa3fdd6afe0c064ec3948eda8922a4bbab17a59b9b0232dc"
  },
  "kernelspec": {
   "display_name": "Python 3.8.8 64-bit ('venv': venv)",
   "name": "python3"
  },
  "language_info": {
   "codemirror_mode": {
    "name": "ipython",
    "version": 3
   },
   "file_extension": ".py",
   "mimetype": "text/x-python",
   "name": "python",
   "nbconvert_exporter": "python",
   "pygments_lexer": "ipython3",
   "version": "3.8.8"
  },
  "orig_nbformat": 4
 },
 "nbformat": 4,
 "nbformat_minor": 2
}
