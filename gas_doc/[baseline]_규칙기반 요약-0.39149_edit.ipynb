{
 "cells": [
  {
   "cell_type": "markdown",
   "metadata": {},
   "source": [
    "# 사용 패키지"
   ]
  },
  {
   "cell_type": "code",
   "execution_count": 38,
   "metadata": {},
   "outputs": [],
   "source": [
    "import pandas as pd\n",
    "import numpy as np\n",
    "import json"
   ]
  },
  {
   "cell_type": "markdown",
   "metadata": {},
   "source": [
    "# 데이터 로드"
   ]
  },
  {
   "cell_type": "code",
   "execution_count": 39,
   "metadata": {},
   "outputs": [],
   "source": [
    "with open('test.jsonl', \"r\", encoding=\"utf-8\") as f:\n",
    "    jsonl = list(f)\n",
    "\n",
    "test_data = []\n",
    "for json_str in jsonl:\n",
    "    test_data.append(json.loads(json_str))\n",
    "    \n",
    "submission = pd.read_csv('sample_submission.csv')"
   ]
  },
  {
   "cell_type": "code",
   "execution_count": 40,
   "metadata": {},
   "outputs": [
    {
     "data": {
      "text/plain": [
       "{'id': '368851881',\n",
       " 'article_original': ['한국은행이 지난달 기준금리를 추가 인하한 영향으로 대출금리가 일제 하락했다.',\n",
       "  '특히 기업대출금리는 1996년 관련 통계 집계 이후 가장 낮은 수준까지 하락했다.',\n",
       "  \"한국은행이 28일 발표한 '2019년 10월 중 금융기관 가중평균금리'에 따르면 신규취급액 기준 지난달 예금은행의 대출평균금리는 연 3.20%로 전월 대비 0.11%포인트 하락했다.\",\n",
       "  '대출금리를 기업과 가계로 나눠보면 기업대출금리 하락폭이 가팔랐다.',\n",
       "  '10월 기업대출금리는 연 3.28%로 전월 대비 0.14%포인트 떨어졌다.',\n",
       "  '연 3.28%는 1996년 1월 관련 통계 작성 이후 최저치다.',\n",
       "  '대기업의 경우 기준이 되는 단기지표 금리의 하락 영향으로 10월 대출금리가 연 3.13%로 전월 대비 0.17%포인트 빠졌다.',\n",
       "  '중소기업은 일부 은행의 저금리 대출 취급 등의 영향으로 연 3.39%로 0.11%포인트 하락했다.',\n",
       "  '한은 관계자는 \"지난달 기준금리가 인하되면서 단기 지표에 영향을 많이 받는 기업대출 금리도 역대 최저 수준으로 하락했다\"고 설명했다.',\n",
       "  '같은 기간 가계대출 금리도 하락했다.',\n",
       "  '10월 가계대출 금리는 연 3.01%로 전월 대비 0.01%포인트 하락했다.',\n",
       "  '같은 기간 주택담보대출 금리도 연 2.50%로 0.01%포인트 떨어졌다.',\n",
       "  '가계대출 금리의 경우 기업대출에 비해 장기지표 영향을 많이 받아 하락폭은 작았다.',\n",
       "  '한편 10월 중 비은행금융기관 예금금리(1년만기 정기예탁금 기준)는 모두 하락했고 대출금리(일반대출 기준)는 상호저축은행은 상승, 상호금융은 하락했다.'],\n",
       " 'media': '아시아경제'}"
      ]
     },
     "execution_count": 40,
     "metadata": {},
     "output_type": "execute_result"
    }
   ],
   "source": [
    "test_data[0]"
   ]
  },
  {
   "cell_type": "code",
   "execution_count": 41,
   "metadata": {},
   "outputs": [
    {
     "data": {
      "text/plain": [
       "['내달 15일까지 무등산·내장산 일부 구간 출입 통제',\n",
       " \"다도해, 실화 방지 위한 '찾아가는 산불예방교육' 실시\",\n",
       " '오선우 기자',\n",
       " '내장산국립공원백암사무소가 지난 3월27일 봄철 산불예방기간에 장성군·장성소방서·장성경찰서와 합동으로 산불진화훈련을 실시하고 있다.',\n",
       " '내장산국립공원백암사무소 제공 편집에디터',\n",
       " '가을철 산불방지 대책기간을 맞아 광주·전남 지역 국립공원이 다양한 산불 예방 활동에 나선다.',\n",
       " '국립공원공단 무등산국립공원사무소와 내장산국립공원백암사무소는 내달15일까지 탐방로 일부 구간의 출입을 제한한다고 14일 밝혔다.',\n",
       " '무등산은 광주 지역의 △소태제~마집봉갈림길(1㎞) △풍암주차장~광일목장(2.1㎞) △선주암갈림길~서인봉갈림길(0.8㎞) 3개 구간과 전남 지역 △서석대~천왕봉~군부대입구(1.1㎞) △도원야영장~마당바위(1.1㎞) △광일목장입구~신선대갈림길(3.1㎞) 3개 구간까지 총 6개 구간 9.2㎞의 탐방로 출입이 통제된다.',\n",
       " '내장산 탐방로 통제는 △까치봉능선삼거리~순창새재(2.6㎞) △장성새재~상왕봉(4.0㎞) △구암사~백학봉능선(0.9㎞) 3개 구간 총 7.5㎞에서 진행된다.',\n",
       " '다도해해상국립공원서부사무소의 법정 탐방로 19개 구간 44.8㎞는 전면 개방되나, 기상특보 등 현장 여건에 따라 통제될 수 있다.',\n",
       " '이 기간 국립공원공단은 산불감시 인력을 곳곳에 배치해 통제 구간 무단출입, 흡연 및 취사행위, 인화 물질 소지 등 산불대책 위반행위를 철저히 단속하며, 위반 시 자연공원법 제28조에 따라 50만원 이하의 과태료를 부과한다.',\n",
       " '유관기관 합동으로 산불진화훈련도 진행한다.',\n",
       " '내장산국립공원백암사무소는 오는 19일 훈련이 예정돼 있으며, 무등산·다도해에서도 훈련을 진행한다는 방침이다.',\n",
       " '특히 다도해해상국립공원은 주민 실화에 의한 산불 발생을 줄이기 위해 공원 내 도서지역을 대상으로 ‘찾아가는 산불 예방교육’을 진행해 어르신을 대상으로 소화기 활용 교육, 산불 발생 시 초기 대응법 등을 안내한다.',\n",
       " '해당 지역에 건조주의보가 발효될 시에는 마을 이장단을 대상으로 문자(SNS) 발송을 통해 기상 상황을 전파하고, 마을 내 소각행위 등에 주의를 요할 예정이다.',\n",
       " '탐방객들은 국립공원 방문에 앞서 공단 누리집이나 유선전화로 통제 기간·구간을 미리 확인해야 하며, 산행 중 산불 발견 시에는 즉시 신고해야 한다.',\n",
       " '장필재 다도해해상국립공원서부사무소 탐방시설과장은 “산불은 사전 예방이 가장 중요하다.',\n",
       " '반드시 지정된 탐방로만 이용하고, 산불발견 시 국립공원사무소나 가까운 소방서, 경찰서 등 행정기관에 즉시 신고해줄 것”을 당부했다.',\n",
       " '오선우 기자']"
      ]
     },
     "execution_count": 41,
     "metadata": {},
     "output_type": "execute_result"
    }
   ],
   "source": [
    "test_data[4159]['article_original']"
   ]
  },
  {
   "cell_type": "markdown",
   "metadata": {},
   "source": [
    "## 요약문 생성 및 제출\n",
    "\n",
    "자연어 생성 모델을 베이스라인으로 제공하기에 장시간의 학습시간을 필요로 하여 간단한 규칙기반 요약문 생성하였습니다.\n",
    "\n",
    "BART, GPT 등 자연어 생성 모델을 활용을 추천드리고 베이스라인은 데이터로드 부터 제출하는 과정의 용도로 참고해주시기 바랍니다."
   ]
  },
  {
   "cell_type": "code",
   "execution_count": 42,
   "metadata": {},
   "outputs": [],
   "source": [
    "for data in test_data:\n",
    "    did = int(data['id'])\n",
    "    summary = data['article_original'][0] + data['article_original'][1] +  data['article_original'][-2] \n",
    "    idx = submission[submission['id']==did].index\n",
    "    submission.loc[idx, 'summary'] = summary"
   ]
  },
  {
   "cell_type": "code",
   "execution_count": 43,
   "metadata": {},
   "outputs": [
    {
     "data": {
      "text/html": [
       "<div>\n",
       "<style scoped>\n",
       "    .dataframe tbody tr th:only-of-type {\n",
       "        vertical-align: middle;\n",
       "    }\n",
       "\n",
       "    .dataframe tbody tr th {\n",
       "        vertical-align: top;\n",
       "    }\n",
       "\n",
       "    .dataframe thead th {\n",
       "        text-align: right;\n",
       "    }\n",
       "</style>\n",
       "<table border=\"1\" class=\"dataframe\">\n",
       "  <thead>\n",
       "    <tr style=\"text-align: right;\">\n",
       "      <th></th>\n",
       "      <th>id</th>\n",
       "      <th>summary</th>\n",
       "    </tr>\n",
       "  </thead>\n",
       "  <tbody>\n",
       "    <tr>\n",
       "      <th>0</th>\n",
       "      <td>250366726</td>\n",
       "      <td>가학리 주민들 호소문 통해 입장 전달 “텅텅 빈 산업단지 두고 왜 민가 근처에…”당...</td>\n",
       "    </tr>\n",
       "    <tr>\n",
       "      <th>1</th>\n",
       "      <td>251994086</td>\n",
       "      <td>10대 때부터 써온 한시 “옛 것 사라지는 것 아쉬워”남송 채규선 작가가 2016 ...</td>\n",
       "    </tr>\n",
       "    <tr>\n",
       "      <th>2</th>\n",
       "      <td>252639804</td>\n",
       "      <td>당진서 군복무하며 인연 맺어 “당진시대는 훌륭한 지역의 소식통”아산시가 고향인 정상...</td>\n",
       "    </tr>\n",
       "    <tr>\n",
       "      <th>3</th>\n",
       "      <td>252639915</td>\n",
       "      <td>진옥성결교회성전 봉헌식 및 단기선교앞으로도 진옥성결교회가 선교하는 교회, 다음세대를...</td>\n",
       "    </tr>\n",
       "    <tr>\n",
       "      <th>4</th>\n",
       "      <td>253427793</td>\n",
       "      <td>이달 중 청년정책네트워크 구성해 본격 논의 면접 서비스, 청년 사회적기업 창업 지원...</td>\n",
       "    </tr>\n",
       "    <tr>\n",
       "      <th>...</th>\n",
       "      <td>...</td>\n",
       "      <td>...</td>\n",
       "    </tr>\n",
       "    <tr>\n",
       "      <th>4156</th>\n",
       "      <td>372705621</td>\n",
       "      <td>울산경찰청은 31일 자정을 기준으로 '2020년 운전면허 행정처분 특별감면'을 실시...</td>\n",
       "    </tr>\n",
       "    <tr>\n",
       "      <th>4157</th>\n",
       "      <td>372751633</td>\n",
       "      <td>디지털뉴스부[기호일보=디지털뉴스부]2001년 SBS 드라마 《피아노》에 수록된 OS...</td>\n",
       "    </tr>\n",
       "    <tr>\n",
       "      <th>4158</th>\n",
       "      <td>372770123</td>\n",
       "      <td>제주관광공사 관광객 신용카드 매출 빅데이터 분석제주 관광산업 신용카드 매출이 201...</td>\n",
       "    </tr>\n",
       "    <tr>\n",
       "      <th>4159</th>\n",
       "      <td>372779075</td>\n",
       "      <td>박길수 기자임실군 애향장학회, 1억9,000만원 장학금 기탁사회단체, 향우님들께 감...</td>\n",
       "    </tr>\n",
       "    <tr>\n",
       "      <th>4160</th>\n",
       "      <td>372779090</td>\n",
       "      <td>박상래 기자“역사와 전통을 바탕으로 한 문화·예술·관광의 도시인 전주에서 근무하게 ...</td>\n",
       "    </tr>\n",
       "  </tbody>\n",
       "</table>\n",
       "<p>4161 rows × 2 columns</p>\n",
       "</div>"
      ],
      "text/plain": [
       "             id                                            summary\n",
       "0     250366726  가학리 주민들 호소문 통해 입장 전달 “텅텅 빈 산업단지 두고 왜 민가 근처에…”당...\n",
       "1     251994086  10대 때부터 써온 한시 “옛 것 사라지는 것 아쉬워”남송 채규선 작가가 2016 ...\n",
       "2     252639804  당진서 군복무하며 인연 맺어 “당진시대는 훌륭한 지역의 소식통”아산시가 고향인 정상...\n",
       "3     252639915  진옥성결교회성전 봉헌식 및 단기선교앞으로도 진옥성결교회가 선교하는 교회, 다음세대를...\n",
       "4     253427793  이달 중 청년정책네트워크 구성해 본격 논의 면접 서비스, 청년 사회적기업 창업 지원...\n",
       "...         ...                                                ...\n",
       "4156  372705621  울산경찰청은 31일 자정을 기준으로 '2020년 운전면허 행정처분 특별감면'을 실시...\n",
       "4157  372751633  디지털뉴스부[기호일보=디지털뉴스부]2001년 SBS 드라마 《피아노》에 수록된 OS...\n",
       "4158  372770123  제주관광공사 관광객 신용카드 매출 빅데이터 분석제주 관광산업 신용카드 매출이 201...\n",
       "4159  372779075  박길수 기자임실군 애향장학회, 1억9,000만원 장학금 기탁사회단체, 향우님들께 감...\n",
       "4160  372779090  박상래 기자“역사와 전통을 바탕으로 한 문화·예술·관광의 도시인 전주에서 근무하게 ...\n",
       "\n",
       "[4161 rows x 2 columns]"
      ]
     },
     "execution_count": 43,
     "metadata": {},
     "output_type": "execute_result"
    }
   ],
   "source": [
    "submission"
   ]
  },
  {
   "cell_type": "code",
   "execution_count": 47,
   "metadata": {},
   "outputs": [
    {
     "data": {
      "text/plain": [
       "'가학리 주민들 호소문 통해 입장 전달 “텅텅 빈 산업단지 두고 왜 민가 근처에…”당진축협 사료공장 이전 부지로 지목된 송악읍 가학리 주민들이 사료공장 이전을 반대하고 있는 가운데, 사료공장 부지 선정 기준과 과정을 공개해 달라고 요구하고 있다.주민들은 “앞으로도 주민들의 요구가 관철될 때까지 끝까지 싸울 것”이라며 “사료공장 이전이 강행되더라도 합당한 법적 절차를 비롯해 모든 조치를 취해 나갈 것”이라고 덧붙였다.'"
      ]
     },
     "execution_count": 47,
     "metadata": {},
     "output_type": "execute_result"
    }
   ],
   "source": [
    "submission['summary'][0]"
   ]
  },
  {
   "cell_type": "code",
   "execution_count": 44,
   "metadata": {},
   "outputs": [
    {
     "name": "stdout",
     "output_type": "stream",
     "text": [
      "184.37034366738766\n"
     ]
    }
   ],
   "source": [
    "summary_len = []\n",
    "for i in np.arange(0, len(submission['summary'])):\n",
    "    summary_len.append(len(submission['summary'][i]))\n",
    "print(np.mean(summary_len))    "
   ]
  },
  {
   "cell_type": "code",
   "execution_count": null,
   "metadata": {},
   "outputs": [],
   "source": []
  },
  {
   "cell_type": "code",
   "execution_count": 45,
   "metadata": {},
   "outputs": [],
   "source": [
    "submission.to_csv('baseline3.csv', index=False)"
   ]
  }
 ],
 "metadata": {
  "kernelspec": {
   "display_name": "Python 3 (ipykernel)",
   "language": "python",
   "name": "python3"
  },
  "language_info": {
   "codemirror_mode": {
    "name": "ipython",
    "version": 3
   },
   "file_extension": ".py",
   "mimetype": "text/x-python",
   "name": "python",
   "nbconvert_exporter": "python",
   "pygments_lexer": "ipython3",
   "version": "3.8.8"
  }
 },
 "nbformat": 4,
 "nbformat_minor": 4
}
