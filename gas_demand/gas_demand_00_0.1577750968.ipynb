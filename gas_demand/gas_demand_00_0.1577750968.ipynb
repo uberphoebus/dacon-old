{
 "cells": [
  {
   "cell_type": "markdown",
   "metadata": {},
   "source": [
    "# imports"
   ]
  },
  {
   "cell_type": "code",
   "execution_count": 1,
   "metadata": {},
   "outputs": [],
   "source": [
    "import pandas as pd\n",
    "import numpy as np; np.random.seed(0)\n",
    "\n",
    "import matplotlib.pyplot as plt; plt.rcParams['font.family'] = 'Malgun Gothic'\n",
    "import seaborn as sns; sns.set(font='Malgun Gothic')\n",
    "import warnings; warnings.filterwarnings(action='ignore')\n",
    "\n",
    "import lightgbm as lgb"
   ]
  },
  {
   "cell_type": "markdown",
   "metadata": {},
   "source": [
    "# read"
   ]
  },
  {
   "cell_type": "code",
   "execution_count": 2,
   "metadata": {},
   "outputs": [],
   "source": [
    "total = pd.read_csv('./input/한국가스공사_시간별 공급량_20181231.csv', encoding='cp949')\n",
    "test  = pd.read_csv('./input/test.csv')\n",
    "sub   = pd.read_csv('./input/sample_submission.csv')\n",
    "temp  = pd.read_csv('./input/STCS_우리나라기후평년값_DD_20211026151605.csv') # 2001 ~ 2010년 일별 기후평년값\n",
    "\n",
    "# https://data.kma.go.kr/climate/average30Years/selectAverage30YearsKoreaList.do?pgmNo=188"
   ]
  },
  {
   "cell_type": "code",
   "execution_count": 3,
   "metadata": {},
   "outputs": [
    {
     "name": "stdout",
     "output_type": "stream",
     "text": [
      "<class 'pandas.core.frame.DataFrame'>\n",
      "RangeIndex: 368088 entries, 0 to 368087\n",
      "Data columns (total 4 columns):\n",
      " #   Column  Non-Null Count   Dtype  \n",
      "---  ------  --------------   -----  \n",
      " 0   연월일     368088 non-null  object \n",
      " 1   시간      368088 non-null  int64  \n",
      " 2   구분      368088 non-null  object \n",
      " 3   공급량     368088 non-null  float64\n",
      "dtypes: float64(1), int64(1), object(2)\n",
      "memory usage: 11.2+ MB\n"
     ]
    }
   ],
   "source": [
    "total.info()"
   ]
  },
  {
   "cell_type": "code",
   "execution_count": 4,
   "metadata": {},
   "outputs": [
    {
     "data": {
      "text/html": [
       "<div>\n",
       "<style scoped>\n",
       "    .dataframe tbody tr th:only-of-type {\n",
       "        vertical-align: middle;\n",
       "    }\n",
       "\n",
       "    .dataframe tbody tr th {\n",
       "        vertical-align: top;\n",
       "    }\n",
       "\n",
       "    .dataframe thead th {\n",
       "        text-align: right;\n",
       "    }\n",
       "</style>\n",
       "<table border=\"1\" class=\"dataframe\">\n",
       "  <thead>\n",
       "    <tr style=\"text-align: right;\">\n",
       "      <th></th>\n",
       "      <th>연월일</th>\n",
       "      <th>시간</th>\n",
       "      <th>구분</th>\n",
       "      <th>공급량</th>\n",
       "    </tr>\n",
       "  </thead>\n",
       "  <tbody>\n",
       "    <tr>\n",
       "      <th>0</th>\n",
       "      <td>2013-01-01</td>\n",
       "      <td>1</td>\n",
       "      <td>A</td>\n",
       "      <td>2497.129</td>\n",
       "    </tr>\n",
       "    <tr>\n",
       "      <th>1</th>\n",
       "      <td>2013-01-01</td>\n",
       "      <td>2</td>\n",
       "      <td>A</td>\n",
       "      <td>2363.265</td>\n",
       "    </tr>\n",
       "    <tr>\n",
       "      <th>2</th>\n",
       "      <td>2013-01-01</td>\n",
       "      <td>3</td>\n",
       "      <td>A</td>\n",
       "      <td>2258.505</td>\n",
       "    </tr>\n",
       "    <tr>\n",
       "      <th>3</th>\n",
       "      <td>2013-01-01</td>\n",
       "      <td>4</td>\n",
       "      <td>A</td>\n",
       "      <td>2243.969</td>\n",
       "    </tr>\n",
       "    <tr>\n",
       "      <th>4</th>\n",
       "      <td>2013-01-01</td>\n",
       "      <td>5</td>\n",
       "      <td>A</td>\n",
       "      <td>2344.105</td>\n",
       "    </tr>\n",
       "  </tbody>\n",
       "</table>\n",
       "</div>"
      ],
      "text/plain": [
       "          연월일  시간 구분       공급량\n",
       "0  2013-01-01   1  A  2497.129\n",
       "1  2013-01-01   2  A  2363.265\n",
       "2  2013-01-01   3  A  2258.505\n",
       "3  2013-01-01   4  A  2243.969\n",
       "4  2013-01-01   5  A  2344.105"
      ]
     },
     "execution_count": 4,
     "metadata": {},
     "output_type": "execute_result"
    }
   ],
   "source": [
    "total.head()"
   ]
  },
  {
   "cell_type": "code",
   "execution_count": 5,
   "metadata": {},
   "outputs": [
    {
     "name": "stdout",
     "output_type": "stream",
     "text": [
      "<class 'pandas.core.frame.DataFrame'>\n",
      "RangeIndex: 15120 entries, 0 to 15119\n",
      "Data columns (total 1 columns):\n",
      " #   Column    Non-Null Count  Dtype \n",
      "---  ------    --------------  ----- \n",
      " 0   일자|시간|구분  15120 non-null  object\n",
      "dtypes: object(1)\n",
      "memory usage: 118.2+ KB\n"
     ]
    }
   ],
   "source": [
    "test.info()"
   ]
  },
  {
   "cell_type": "code",
   "execution_count": 6,
   "metadata": {},
   "outputs": [
    {
     "data": {
      "text/html": [
       "<div>\n",
       "<style scoped>\n",
       "    .dataframe tbody tr th:only-of-type {\n",
       "        vertical-align: middle;\n",
       "    }\n",
       "\n",
       "    .dataframe tbody tr th {\n",
       "        vertical-align: top;\n",
       "    }\n",
       "\n",
       "    .dataframe thead th {\n",
       "        text-align: right;\n",
       "    }\n",
       "</style>\n",
       "<table border=\"1\" class=\"dataframe\">\n",
       "  <thead>\n",
       "    <tr style=\"text-align: right;\">\n",
       "      <th></th>\n",
       "      <th>일자|시간|구분</th>\n",
       "    </tr>\n",
       "  </thead>\n",
       "  <tbody>\n",
       "    <tr>\n",
       "      <th>0</th>\n",
       "      <td>2019-01-01 01 A</td>\n",
       "    </tr>\n",
       "    <tr>\n",
       "      <th>1</th>\n",
       "      <td>2019-01-01 02 A</td>\n",
       "    </tr>\n",
       "    <tr>\n",
       "      <th>2</th>\n",
       "      <td>2019-01-01 03 A</td>\n",
       "    </tr>\n",
       "    <tr>\n",
       "      <th>3</th>\n",
       "      <td>2019-01-01 04 A</td>\n",
       "    </tr>\n",
       "    <tr>\n",
       "      <th>4</th>\n",
       "      <td>2019-01-01 05 A</td>\n",
       "    </tr>\n",
       "  </tbody>\n",
       "</table>\n",
       "</div>"
      ],
      "text/plain": [
       "          일자|시간|구분\n",
       "0  2019-01-01 01 A\n",
       "1  2019-01-01 02 A\n",
       "2  2019-01-01 03 A\n",
       "3  2019-01-01 04 A\n",
       "4  2019-01-01 05 A"
      ]
     },
     "execution_count": 6,
     "metadata": {},
     "output_type": "execute_result"
    }
   ],
   "source": [
    "test.head()"
   ]
  },
  {
   "cell_type": "code",
   "execution_count": 7,
   "metadata": {},
   "outputs": [],
   "source": [
    "test['연월일'] = test['일자|시간|구분'].str.split(' ').str[0]\n",
    "test['시간']  = test['일자|시간|구분'].str.split(' ').str[1].astype('int')\n",
    "test['구분']  = test['일자|시간|구분'].str.split(' ').str[2]\n",
    "\n",
    "test.drop('일자|시간|구분', axis=1, inplace=True)"
   ]
  },
  {
   "cell_type": "code",
   "execution_count": 8,
   "metadata": {},
   "outputs": [
    {
     "name": "stdout",
     "output_type": "stream",
     "text": [
      "<class 'pandas.core.frame.DataFrame'>\n",
      "RangeIndex: 15120 entries, 0 to 15119\n",
      "Data columns (total 3 columns):\n",
      " #   Column  Non-Null Count  Dtype \n",
      "---  ------  --------------  ----- \n",
      " 0   연월일     15120 non-null  object\n",
      " 1   시간      15120 non-null  int32 \n",
      " 2   구분      15120 non-null  object\n",
      "dtypes: int32(1), object(2)\n",
      "memory usage: 295.4+ KB\n"
     ]
    }
   ],
   "source": [
    "test.info()"
   ]
  },
  {
   "cell_type": "code",
   "execution_count": 9,
   "metadata": {},
   "outputs": [
    {
     "data": {
      "text/html": [
       "<div>\n",
       "<style scoped>\n",
       "    .dataframe tbody tr th:only-of-type {\n",
       "        vertical-align: middle;\n",
       "    }\n",
       "\n",
       "    .dataframe tbody tr th {\n",
       "        vertical-align: top;\n",
       "    }\n",
       "\n",
       "    .dataframe thead th {\n",
       "        text-align: right;\n",
       "    }\n",
       "</style>\n",
       "<table border=\"1\" class=\"dataframe\">\n",
       "  <thead>\n",
       "    <tr style=\"text-align: right;\">\n",
       "      <th></th>\n",
       "      <th>연월일</th>\n",
       "      <th>시간</th>\n",
       "      <th>구분</th>\n",
       "    </tr>\n",
       "  </thead>\n",
       "  <tbody>\n",
       "    <tr>\n",
       "      <th>0</th>\n",
       "      <td>2019-01-01</td>\n",
       "      <td>1</td>\n",
       "      <td>A</td>\n",
       "    </tr>\n",
       "    <tr>\n",
       "      <th>1</th>\n",
       "      <td>2019-01-01</td>\n",
       "      <td>2</td>\n",
       "      <td>A</td>\n",
       "    </tr>\n",
       "    <tr>\n",
       "      <th>2</th>\n",
       "      <td>2019-01-01</td>\n",
       "      <td>3</td>\n",
       "      <td>A</td>\n",
       "    </tr>\n",
       "    <tr>\n",
       "      <th>3</th>\n",
       "      <td>2019-01-01</td>\n",
       "      <td>4</td>\n",
       "      <td>A</td>\n",
       "    </tr>\n",
       "    <tr>\n",
       "      <th>4</th>\n",
       "      <td>2019-01-01</td>\n",
       "      <td>5</td>\n",
       "      <td>A</td>\n",
       "    </tr>\n",
       "  </tbody>\n",
       "</table>\n",
       "</div>"
      ],
      "text/plain": [
       "          연월일  시간 구분\n",
       "0  2019-01-01   1  A\n",
       "1  2019-01-01   2  A\n",
       "2  2019-01-01   3  A\n",
       "3  2019-01-01   4  A\n",
       "4  2019-01-01   5  A"
      ]
     },
     "execution_count": 9,
     "metadata": {},
     "output_type": "execute_result"
    }
   ],
   "source": [
    "test.head()"
   ]
  },
  {
   "cell_type": "markdown",
   "metadata": {},
   "source": [
    "# temp : 일별평년값"
   ]
  },
  {
   "cell_type": "code",
   "execution_count": 10,
   "metadata": {},
   "outputs": [
    {
     "data": {
      "text/html": [
       "<div>\n",
       "<style scoped>\n",
       "    .dataframe tbody tr th:only-of-type {\n",
       "        vertical-align: middle;\n",
       "    }\n",
       "\n",
       "    .dataframe tbody tr th {\n",
       "        vertical-align: top;\n",
       "    }\n",
       "\n",
       "    .dataframe thead th {\n",
       "        text-align: right;\n",
       "    }\n",
       "</style>\n",
       "<table border=\"1\" class=\"dataframe\">\n",
       "  <thead>\n",
       "    <tr style=\"text-align: right;\">\n",
       "      <th></th>\n",
       "      <th>지점명</th>\n",
       "      <th>지점번호</th>\n",
       "      <th>일시</th>\n",
       "      <th>평균기온(°C)</th>\n",
       "      <th>최고기온(°C)</th>\n",
       "      <th>최저기온(°C)</th>\n",
       "      <th>강수량(mm)</th>\n",
       "      <th>습도(%)</th>\n",
       "      <th>일조시간(hr)</th>\n",
       "      <th>전운량(1/10)</th>\n",
       "      <th>소형증발량(mm)</th>\n",
       "      <th>현지기압(hPa)</th>\n",
       "      <th>해면기압(hPa)</th>\n",
       "      <th>평균풍속(m/sec)</th>\n",
       "    </tr>\n",
       "  </thead>\n",
       "  <tbody>\n",
       "    <tr>\n",
       "      <th>0</th>\n",
       "      <td>속초</td>\n",
       "      <td>90</td>\n",
       "      <td>01-01</td>\n",
       "      <td>-0.6</td>\n",
       "      <td>3.4</td>\n",
       "      <td>-4.3</td>\n",
       "      <td>0.5</td>\n",
       "      <td>39.8</td>\n",
       "      <td>6.2</td>\n",
       "      <td>NaN</td>\n",
       "      <td>NaN</td>\n",
       "      <td>1017.3</td>\n",
       "      <td>1019.6</td>\n",
       "      <td>NaN</td>\n",
       "    </tr>\n",
       "    <tr>\n",
       "      <th>1</th>\n",
       "      <td>철원</td>\n",
       "      <td>95</td>\n",
       "      <td>01-01</td>\n",
       "      <td>-6.6</td>\n",
       "      <td>-0.6</td>\n",
       "      <td>-12.7</td>\n",
       "      <td>0.6</td>\n",
       "      <td>66.5</td>\n",
       "      <td>5.5</td>\n",
       "      <td>NaN</td>\n",
       "      <td>NaN</td>\n",
       "      <td>1003.7</td>\n",
       "      <td>1023.6</td>\n",
       "      <td>NaN</td>\n",
       "    </tr>\n",
       "    <tr>\n",
       "      <th>2</th>\n",
       "      <td>동두천</td>\n",
       "      <td>98</td>\n",
       "      <td>01-01</td>\n",
       "      <td>-4.9</td>\n",
       "      <td>0.9</td>\n",
       "      <td>-10.1</td>\n",
       "      <td>0.5</td>\n",
       "      <td>60.9</td>\n",
       "      <td>5.5</td>\n",
       "      <td>NaN</td>\n",
       "      <td>NaN</td>\n",
       "      <td>1009.0</td>\n",
       "      <td>1023.5</td>\n",
       "      <td>NaN</td>\n",
       "    </tr>\n",
       "    <tr>\n",
       "      <th>3</th>\n",
       "      <td>파주</td>\n",
       "      <td>99</td>\n",
       "      <td>01-01</td>\n",
       "      <td>-5.0</td>\n",
       "      <td>0.8</td>\n",
       "      <td>-10.9</td>\n",
       "      <td>0.2</td>\n",
       "      <td>65.4</td>\n",
       "      <td>5.8</td>\n",
       "      <td>NaN</td>\n",
       "      <td>NaN</td>\n",
       "      <td>1019.9</td>\n",
       "      <td>1023.8</td>\n",
       "      <td>NaN</td>\n",
       "    </tr>\n",
       "    <tr>\n",
       "      <th>4</th>\n",
       "      <td>대관령</td>\n",
       "      <td>100</td>\n",
       "      <td>01-01</td>\n",
       "      <td>-7.7</td>\n",
       "      <td>-2.7</td>\n",
       "      <td>-12.6</td>\n",
       "      <td>0.6</td>\n",
       "      <td>65.8</td>\n",
       "      <td>6.6</td>\n",
       "      <td>NaN</td>\n",
       "      <td>NaN</td>\n",
       "      <td>920.7</td>\n",
       "      <td>1020.9</td>\n",
       "      <td>NaN</td>\n",
       "    </tr>\n",
       "  </tbody>\n",
       "</table>\n",
       "</div>"
      ],
      "text/plain": [
       "   지점명  지점번호     일시  평균기온(°C)  최고기온(°C)  최저기온(°C)  강수량(mm)  습도(%)  일조시간(hr)  \\\n",
       "0   속초    90  01-01      -0.6       3.4      -4.3      0.5   39.8       6.2   \n",
       "1   철원    95  01-01      -6.6      -0.6     -12.7      0.6   66.5       5.5   \n",
       "2  동두천    98  01-01      -4.9       0.9     -10.1      0.5   60.9       5.5   \n",
       "3   파주    99  01-01      -5.0       0.8     -10.9      0.2   65.4       5.8   \n",
       "4  대관령   100  01-01      -7.7      -2.7     -12.6      0.6   65.8       6.6   \n",
       "\n",
       "   전운량(1/10)  소형증발량(mm)  현지기압(hPa)  해면기압(hPa)  평균풍속(m/sec)  \n",
       "0        NaN        NaN     1017.3     1019.6          NaN  \n",
       "1        NaN        NaN     1003.7     1023.6          NaN  \n",
       "2        NaN        NaN     1009.0     1023.5          NaN  \n",
       "3        NaN        NaN     1019.9     1023.8          NaN  \n",
       "4        NaN        NaN      920.7     1020.9          NaN  "
      ]
     },
     "execution_count": 10,
     "metadata": {},
     "output_type": "execute_result"
    }
   ],
   "source": [
    "temp.head()"
   ]
  },
  {
   "cell_type": "code",
   "execution_count": 11,
   "metadata": {},
   "outputs": [
    {
     "name": "stdout",
     "output_type": "stream",
     "text": [
      "<class 'pandas.core.frame.DataFrame'>\n",
      "RangeIndex: 76860 entries, 0 to 76859\n",
      "Data columns (total 14 columns):\n",
      " #   Column       Non-Null Count  Dtype  \n",
      "---  ------       --------------  -----  \n",
      " 0   지점명          76860 non-null  object \n",
      " 1   지점번호         76860 non-null  int64  \n",
      " 2   일시           76860 non-null  object \n",
      " 3   평균기온(°C)     76860 non-null  float64\n",
      " 4   최고기온(°C)     76860 non-null  float64\n",
      " 5   최저기온(°C)     76860 non-null  float64\n",
      " 6   강수량(mm)      76860 non-null  float64\n",
      " 7   습도(%)        28914 non-null  float64\n",
      " 8   일조시간(hr)     28914 non-null  float64\n",
      " 9   전운량(1/10)    0 non-null      float64\n",
      " 10  소형증발량(mm)    0 non-null      float64\n",
      " 11  현지기압(hPa)    28914 non-null  float64\n",
      " 12  해면기압(hPa)    28914 non-null  float64\n",
      " 13  평균풍속(m/sec)  47946 non-null  float64\n",
      "dtypes: float64(11), int64(1), object(2)\n",
      "memory usage: 8.2+ MB\n"
     ]
    }
   ],
   "source": [
    "temp.info()"
   ]
  },
  {
   "cell_type": "code",
   "execution_count": 12,
   "metadata": {},
   "outputs": [],
   "source": [
    "temp.dropna(axis=1, how='any', inplace=True)"
   ]
  },
  {
   "cell_type": "code",
   "execution_count": 13,
   "metadata": {},
   "outputs": [
    {
     "name": "stdout",
     "output_type": "stream",
     "text": [
      "<class 'pandas.core.frame.DataFrame'>\n",
      "RangeIndex: 76860 entries, 0 to 76859\n",
      "Data columns (total 7 columns):\n",
      " #   Column    Non-Null Count  Dtype  \n",
      "---  ------    --------------  -----  \n",
      " 0   지점명       76860 non-null  object \n",
      " 1   지점번호      76860 non-null  int64  \n",
      " 2   일시        76860 non-null  object \n",
      " 3   평균기온(°C)  76860 non-null  float64\n",
      " 4   최고기온(°C)  76860 non-null  float64\n",
      " 5   최저기온(°C)  76860 non-null  float64\n",
      " 6   강수량(mm)   76860 non-null  float64\n",
      "dtypes: float64(4), int64(1), object(2)\n",
      "memory usage: 4.1+ MB\n"
     ]
    }
   ],
   "source": [
    "temp.info()"
   ]
  },
  {
   "cell_type": "code",
   "execution_count": 14,
   "metadata": {},
   "outputs": [
    {
     "data": {
      "text/html": [
       "<div>\n",
       "<style scoped>\n",
       "    .dataframe tbody tr th:only-of-type {\n",
       "        vertical-align: middle;\n",
       "    }\n",
       "\n",
       "    .dataframe tbody tr th {\n",
       "        vertical-align: top;\n",
       "    }\n",
       "\n",
       "    .dataframe thead th {\n",
       "        text-align: right;\n",
       "    }\n",
       "</style>\n",
       "<table border=\"1\" class=\"dataframe\">\n",
       "  <thead>\n",
       "    <tr style=\"text-align: right;\">\n",
       "      <th></th>\n",
       "      <th>지점명</th>\n",
       "      <th>지점번호</th>\n",
       "      <th>일시</th>\n",
       "      <th>평균기온(°C)</th>\n",
       "      <th>최고기온(°C)</th>\n",
       "      <th>최저기온(°C)</th>\n",
       "      <th>강수량(mm)</th>\n",
       "    </tr>\n",
       "  </thead>\n",
       "  <tbody>\n",
       "    <tr>\n",
       "      <th>0</th>\n",
       "      <td>속초</td>\n",
       "      <td>90</td>\n",
       "      <td>01-01</td>\n",
       "      <td>-0.6</td>\n",
       "      <td>3.4</td>\n",
       "      <td>-4.3</td>\n",
       "      <td>0.5</td>\n",
       "    </tr>\n",
       "    <tr>\n",
       "      <th>1</th>\n",
       "      <td>철원</td>\n",
       "      <td>95</td>\n",
       "      <td>01-01</td>\n",
       "      <td>-6.6</td>\n",
       "      <td>-0.6</td>\n",
       "      <td>-12.7</td>\n",
       "      <td>0.6</td>\n",
       "    </tr>\n",
       "    <tr>\n",
       "      <th>2</th>\n",
       "      <td>동두천</td>\n",
       "      <td>98</td>\n",
       "      <td>01-01</td>\n",
       "      <td>-4.9</td>\n",
       "      <td>0.9</td>\n",
       "      <td>-10.1</td>\n",
       "      <td>0.5</td>\n",
       "    </tr>\n",
       "    <tr>\n",
       "      <th>3</th>\n",
       "      <td>파주</td>\n",
       "      <td>99</td>\n",
       "      <td>01-01</td>\n",
       "      <td>-5.0</td>\n",
       "      <td>0.8</td>\n",
       "      <td>-10.9</td>\n",
       "      <td>0.2</td>\n",
       "    </tr>\n",
       "    <tr>\n",
       "      <th>4</th>\n",
       "      <td>대관령</td>\n",
       "      <td>100</td>\n",
       "      <td>01-01</td>\n",
       "      <td>-7.7</td>\n",
       "      <td>-2.7</td>\n",
       "      <td>-12.6</td>\n",
       "      <td>0.6</td>\n",
       "    </tr>\n",
       "  </tbody>\n",
       "</table>\n",
       "</div>"
      ],
      "text/plain": [
       "   지점명  지점번호     일시  평균기온(°C)  최고기온(°C)  최저기온(°C)  강수량(mm)\n",
       "0   속초    90  01-01      -0.6       3.4      -4.3      0.5\n",
       "1   철원    95  01-01      -6.6      -0.6     -12.7      0.6\n",
       "2  동두천    98  01-01      -4.9       0.9     -10.1      0.5\n",
       "3   파주    99  01-01      -5.0       0.8     -10.9      0.2\n",
       "4  대관령   100  01-01      -7.7      -2.7     -12.6      0.6"
      ]
     },
     "execution_count": 14,
     "metadata": {},
     "output_type": "execute_result"
    }
   ],
   "source": [
    "temp.head()"
   ]
  },
  {
   "cell_type": "code",
   "execution_count": 15,
   "metadata": {},
   "outputs": [
    {
     "data": {
      "text/plain": [
       "('12-31', '01-01')"
      ]
     },
     "execution_count": 15,
     "metadata": {},
     "output_type": "execute_result"
    }
   ],
   "source": [
    "temp['일시'].max(), temp['일시'].min()"
   ]
  },
  {
   "cell_type": "code",
   "execution_count": 16,
   "metadata": {},
   "outputs": [
    {
     "data": {
      "text/html": [
       "<div>\n",
       "<style scoped>\n",
       "    .dataframe tbody tr th:only-of-type {\n",
       "        vertical-align: middle;\n",
       "    }\n",
       "\n",
       "    .dataframe tbody tr th {\n",
       "        vertical-align: top;\n",
       "    }\n",
       "\n",
       "    .dataframe thead th {\n",
       "        text-align: right;\n",
       "    }\n",
       "</style>\n",
       "<table border=\"1\" class=\"dataframe\">\n",
       "  <thead>\n",
       "    <tr style=\"text-align: right;\">\n",
       "      <th></th>\n",
       "      <th>평균기온(°C)</th>\n",
       "      <th>최고기온(°C)</th>\n",
       "      <th>최저기온(°C)</th>\n",
       "      <th>강수량(mm)</th>\n",
       "    </tr>\n",
       "    <tr>\n",
       "      <th>일시</th>\n",
       "      <th></th>\n",
       "      <th></th>\n",
       "      <th></th>\n",
       "      <th></th>\n",
       "    </tr>\n",
       "  </thead>\n",
       "  <tbody>\n",
       "    <tr>\n",
       "      <th>01-01</th>\n",
       "      <td>-1.348095</td>\n",
       "      <td>3.390952</td>\n",
       "      <td>-5.760000</td>\n",
       "      <td>0.444762</td>\n",
       "    </tr>\n",
       "    <tr>\n",
       "      <th>01-02</th>\n",
       "      <td>-1.238095</td>\n",
       "      <td>3.580476</td>\n",
       "      <td>-5.614762</td>\n",
       "      <td>0.463333</td>\n",
       "    </tr>\n",
       "    <tr>\n",
       "      <th>01-03</th>\n",
       "      <td>-1.255714</td>\n",
       "      <td>3.718095</td>\n",
       "      <td>-5.735238</td>\n",
       "      <td>0.374762</td>\n",
       "    </tr>\n",
       "    <tr>\n",
       "      <th>01-04</th>\n",
       "      <td>-1.260000</td>\n",
       "      <td>3.876190</td>\n",
       "      <td>-5.880476</td>\n",
       "      <td>0.401905</td>\n",
       "    </tr>\n",
       "    <tr>\n",
       "      <th>01-05</th>\n",
       "      <td>-1.423333</td>\n",
       "      <td>3.754286</td>\n",
       "      <td>-6.000476</td>\n",
       "      <td>0.726190</td>\n",
       "    </tr>\n",
       "    <tr>\n",
       "      <th>...</th>\n",
       "      <td>...</td>\n",
       "      <td>...</td>\n",
       "      <td>...</td>\n",
       "      <td>...</td>\n",
       "    </tr>\n",
       "    <tr>\n",
       "      <th>12-27</th>\n",
       "      <td>-0.816190</td>\n",
       "      <td>4.194762</td>\n",
       "      <td>-5.228095</td>\n",
       "      <td>0.483810</td>\n",
       "    </tr>\n",
       "    <tr>\n",
       "      <th>12-28</th>\n",
       "      <td>-1.304762</td>\n",
       "      <td>3.558571</td>\n",
       "      <td>-5.683333</td>\n",
       "      <td>0.527619</td>\n",
       "    </tr>\n",
       "    <tr>\n",
       "      <th>12-29</th>\n",
       "      <td>-1.516190</td>\n",
       "      <td>3.280952</td>\n",
       "      <td>-5.939048</td>\n",
       "      <td>0.608095</td>\n",
       "    </tr>\n",
       "    <tr>\n",
       "      <th>12-30</th>\n",
       "      <td>-1.610000</td>\n",
       "      <td>3.078571</td>\n",
       "      <td>-5.991905</td>\n",
       "      <td>0.520952</td>\n",
       "    </tr>\n",
       "    <tr>\n",
       "      <th>12-31</th>\n",
       "      <td>-1.490476</td>\n",
       "      <td>3.202857</td>\n",
       "      <td>-5.892857</td>\n",
       "      <td>0.425714</td>\n",
       "    </tr>\n",
       "  </tbody>\n",
       "</table>\n",
       "<p>366 rows × 4 columns</p>\n",
       "</div>"
      ],
      "text/plain": [
       "       평균기온(°C)  최고기온(°C)  최저기온(°C)   강수량(mm)\n",
       "일시                                           \n",
       "01-01 -1.348095  3.390952 -5.760000  0.444762\n",
       "01-02 -1.238095  3.580476 -5.614762  0.463333\n",
       "01-03 -1.255714  3.718095 -5.735238  0.374762\n",
       "01-04 -1.260000  3.876190 -5.880476  0.401905\n",
       "01-05 -1.423333  3.754286 -6.000476  0.726190\n",
       "...         ...       ...       ...       ...\n",
       "12-27 -0.816190  4.194762 -5.228095  0.483810\n",
       "12-28 -1.304762  3.558571 -5.683333  0.527619\n",
       "12-29 -1.516190  3.280952 -5.939048  0.608095\n",
       "12-30 -1.610000  3.078571 -5.991905  0.520952\n",
       "12-31 -1.490476  3.202857 -5.892857  0.425714\n",
       "\n",
       "[366 rows x 4 columns]"
      ]
     },
     "execution_count": 16,
     "metadata": {},
     "output_type": "execute_result"
    }
   ],
   "source": [
    "temp = temp.groupby('일시').mean()\n",
    "temp.drop('지점번호', axis=1, inplace=True)\n",
    "temp"
   ]
  },
  {
   "cell_type": "markdown",
   "metadata": {},
   "source": [
    "# temp pca"
   ]
  },
  {
   "cell_type": "code",
   "execution_count": 17,
   "metadata": {},
   "outputs": [
    {
     "data": {
      "text/plain": [
       "array([0.97560316])"
      ]
     },
     "execution_count": 17,
     "metadata": {},
     "output_type": "execute_result"
    }
   ],
   "source": [
    "from sklearn.decomposition import PCA\n",
    "\n",
    "temp_pca = PCA(n_components=1)\n",
    "pca_cols = ['평균기온(°C)', '최고기온(°C)', '최저기온(°C)', '강수량(mm)']\n",
    "temp_pca.fit(temp[pca_cols])\n",
    "\n",
    "temp_pca.explained_variance_ratio_"
   ]
  },
  {
   "cell_type": "code",
   "execution_count": 18,
   "metadata": {},
   "outputs": [],
   "source": [
    "temp['temp_pca'] = temp_pca.transform(temp[pca_cols])\n",
    "temp.drop(pca_cols, axis=1, inplace=True)"
   ]
  },
  {
   "cell_type": "code",
   "execution_count": 19,
   "metadata": {},
   "outputs": [
    {
     "data": {
      "text/html": [
       "<div>\n",
       "<style scoped>\n",
       "    .dataframe tbody tr th:only-of-type {\n",
       "        vertical-align: middle;\n",
       "    }\n",
       "\n",
       "    .dataframe tbody tr th {\n",
       "        vertical-align: top;\n",
       "    }\n",
       "\n",
       "    .dataframe thead th {\n",
       "        text-align: right;\n",
       "    }\n",
       "</style>\n",
       "<table border=\"1\" class=\"dataframe\">\n",
       "  <thead>\n",
       "    <tr style=\"text-align: right;\">\n",
       "      <th></th>\n",
       "      <th>temp_pca</th>\n",
       "    </tr>\n",
       "    <tr>\n",
       "      <th>일시</th>\n",
       "      <th></th>\n",
       "    </tr>\n",
       "  </thead>\n",
       "  <tbody>\n",
       "    <tr>\n",
       "      <th>01-01</th>\n",
       "      <td>25.023228</td>\n",
       "    </tr>\n",
       "    <tr>\n",
       "      <th>01-02</th>\n",
       "      <td>24.767818</td>\n",
       "    </tr>\n",
       "    <tr>\n",
       "      <th>01-03</th>\n",
       "      <td>24.788009</td>\n",
       "    </tr>\n",
       "    <tr>\n",
       "      <th>01-04</th>\n",
       "      <td>24.783260</td>\n",
       "    </tr>\n",
       "    <tr>\n",
       "      <th>01-05</th>\n",
       "      <td>24.955461</td>\n",
       "    </tr>\n",
       "  </tbody>\n",
       "</table>\n",
       "</div>"
      ],
      "text/plain": [
       "        temp_pca\n",
       "일시              \n",
       "01-01  25.023228\n",
       "01-02  24.767818\n",
       "01-03  24.788009\n",
       "01-04  24.783260\n",
       "01-05  24.955461"
      ]
     },
     "execution_count": 19,
     "metadata": {},
     "output_type": "execute_result"
    }
   ],
   "source": [
    "temp.head()"
   ]
  },
  {
   "cell_type": "markdown",
   "metadata": {},
   "source": [
    "# merge temp"
   ]
  },
  {
   "cell_type": "code",
   "execution_count": 20,
   "metadata": {},
   "outputs": [],
   "source": [
    "total['일시'] = total['연월일'].str[5:]\n",
    "test['일시']  = test['연월일'].str[5:]"
   ]
  },
  {
   "cell_type": "code",
   "execution_count": 21,
   "metadata": {},
   "outputs": [],
   "source": [
    "total = pd.merge(total, temp, how='left', on='일시')\n",
    "test  = pd.merge(test, temp, how='left', on='일시')\n",
    "\n",
    "total.drop('일시', axis=1, inplace=True)\n",
    "test.drop('일시', axis=1, inplace=True)"
   ]
  },
  {
   "cell_type": "markdown",
   "metadata": {},
   "source": [
    "# EDA"
   ]
  },
  {
   "cell_type": "code",
   "execution_count": 22,
   "metadata": {},
   "outputs": [],
   "source": [
    "# sns.relplot(\n",
    "#     data=total, x='연월일', y='공급량', \n",
    "#     hue='시간', col='구분', col_wrap=1, \n",
    "#     height=5, aspect=3\n",
    "# ); plt.show()"
   ]
  },
  {
   "cell_type": "markdown",
   "metadata": {},
   "source": [
    "<img src='./eda/gas_demand_relplot.png'>"
   ]
  },
  {
   "cell_type": "code",
   "execution_count": 23,
   "metadata": {},
   "outputs": [],
   "source": [
    "# sns.relplot(\n",
    "#     data=total[total['구분'] == 'D'], x='연월일', y='공급량', \n",
    "#     hue='시간', \n",
    "#     height=5, aspect=3, kind='line'\n",
    "# ); plt.show()"
   ]
  },
  {
   "cell_type": "markdown",
   "metadata": {},
   "source": [
    "<img src='./eda/gas_demand_relplot_d.png'>"
   ]
  },
  {
   "cell_type": "markdown",
   "metadata": {},
   "source": [
    "# preprocessing"
   ]
  },
  {
   "cell_type": "markdown",
   "metadata": {},
   "source": [
    "## target encoding"
   ]
  },
  {
   "cell_type": "code",
   "execution_count": 24,
   "metadata": {},
   "outputs": [
    {
     "data": {
      "text/plain": [
       "A    52584\n",
       "B    52584\n",
       "C    52584\n",
       "D    52584\n",
       "E    52584\n",
       "G    52584\n",
       "H    52584\n",
       "Name: 구분, dtype: int64"
      ]
     },
     "execution_count": 24,
     "metadata": {},
     "output_type": "execute_result"
    }
   ],
   "source": [
    "total['구분'].value_counts()"
   ]
  },
  {
   "cell_type": "code",
   "execution_count": 25,
   "metadata": {},
   "outputs": [
    {
     "data": {
      "text/plain": [
       "A    2160\n",
       "B    2160\n",
       "C    2160\n",
       "D    2160\n",
       "E    2160\n",
       "G    2160\n",
       "H    2160\n",
       "Name: 구분, dtype: int64"
      ]
     },
     "execution_count": 25,
     "metadata": {},
     "output_type": "execute_result"
    }
   ],
   "source": [
    "test['구분'].value_counts()"
   ]
  },
  {
   "cell_type": "code",
   "execution_count": 26,
   "metadata": {},
   "outputs": [],
   "source": [
    "from sklearn.preprocessing import LabelEncoder\n",
    "\n",
    "le = LabelEncoder()\n",
    "le.fit(total['구분'])\n",
    "total['구분'] = le.transform(total['구분'])\n",
    "test['구분']  = le.transform(test['구분'])"
   ]
  },
  {
   "cell_type": "code",
   "execution_count": 27,
   "metadata": {},
   "outputs": [
    {
     "data": {
      "text/plain": [
       "0    52584\n",
       "1    52584\n",
       "2    52584\n",
       "3    52584\n",
       "4    52584\n",
       "5    52584\n",
       "6    52584\n",
       "Name: 구분, dtype: int64"
      ]
     },
     "execution_count": 27,
     "metadata": {},
     "output_type": "execute_result"
    }
   ],
   "source": [
    "total['구분'].value_counts()"
   ]
  },
  {
   "cell_type": "code",
   "execution_count": 28,
   "metadata": {},
   "outputs": [
    {
     "data": {
      "text/plain": [
       "0    2160\n",
       "1    2160\n",
       "2    2160\n",
       "3    2160\n",
       "4    2160\n",
       "5    2160\n",
       "6    2160\n",
       "Name: 구분, dtype: int64"
      ]
     },
     "execution_count": 28,
     "metadata": {},
     "output_type": "execute_result"
    }
   ],
   "source": [
    "test['구분'].value_counts()"
   ]
  },
  {
   "cell_type": "markdown",
   "metadata": {},
   "source": [
    "## datetime"
   ]
  },
  {
   "cell_type": "code",
   "execution_count": 29,
   "metadata": {},
   "outputs": [],
   "source": [
    "total['연월일'] = pd.to_datetime(total['연월일'])\n",
    "test['연월일']  = pd.to_datetime(test['연월일'])"
   ]
  },
  {
   "cell_type": "code",
   "execution_count": 30,
   "metadata": {},
   "outputs": [
    {
     "name": "stdout",
     "output_type": "stream",
     "text": [
      "<class 'pandas.core.frame.DataFrame'>\n",
      "Int64Index: 368088 entries, 0 to 368087\n",
      "Data columns (total 5 columns):\n",
      " #   Column    Non-Null Count   Dtype         \n",
      "---  ------    --------------   -----         \n",
      " 0   연월일       368088 non-null  datetime64[ns]\n",
      " 1   시간        368088 non-null  int64         \n",
      " 2   구분        368088 non-null  int32         \n",
      " 3   공급량       368088 non-null  float64       \n",
      " 4   temp_pca  368088 non-null  float64       \n",
      "dtypes: datetime64[ns](1), float64(2), int32(1), int64(1)\n",
      "memory usage: 15.4 MB\n"
     ]
    }
   ],
   "source": [
    "total.info()"
   ]
  },
  {
   "cell_type": "code",
   "execution_count": 31,
   "metadata": {},
   "outputs": [],
   "source": [
    "total['year']    = total['연월일'].dt.year\n",
    "total['month']   = total['연월일'].dt.month\n",
    "total['day']     = total['연월일'].dt.day\n",
    "total['weekday'] = total['연월일'].dt.weekday"
   ]
  },
  {
   "cell_type": "code",
   "execution_count": 32,
   "metadata": {},
   "outputs": [],
   "source": [
    "test['year']    = test['연월일'].dt.year\n",
    "test['month']   = test['연월일'].dt.month\n",
    "test['day']     = test['연월일'].dt.day\n",
    "test['weekday'] = test['연월일'].dt.weekday"
   ]
  },
  {
   "cell_type": "code",
   "execution_count": 33,
   "metadata": {},
   "outputs": [
    {
     "data": {
      "text/html": [
       "<div>\n",
       "<style scoped>\n",
       "    .dataframe tbody tr th:only-of-type {\n",
       "        vertical-align: middle;\n",
       "    }\n",
       "\n",
       "    .dataframe tbody tr th {\n",
       "        vertical-align: top;\n",
       "    }\n",
       "\n",
       "    .dataframe thead th {\n",
       "        text-align: right;\n",
       "    }\n",
       "</style>\n",
       "<table border=\"1\" class=\"dataframe\">\n",
       "  <thead>\n",
       "    <tr style=\"text-align: right;\">\n",
       "      <th></th>\n",
       "      <th>연월일</th>\n",
       "      <th>시간</th>\n",
       "      <th>구분</th>\n",
       "      <th>공급량</th>\n",
       "      <th>temp_pca</th>\n",
       "      <th>year</th>\n",
       "      <th>month</th>\n",
       "      <th>day</th>\n",
       "      <th>weekday</th>\n",
       "    </tr>\n",
       "  </thead>\n",
       "  <tbody>\n",
       "    <tr>\n",
       "      <th>0</th>\n",
       "      <td>2013-01-01</td>\n",
       "      <td>1</td>\n",
       "      <td>0</td>\n",
       "      <td>2497.129</td>\n",
       "      <td>25.023228</td>\n",
       "      <td>2013</td>\n",
       "      <td>1</td>\n",
       "      <td>1</td>\n",
       "      <td>1</td>\n",
       "    </tr>\n",
       "    <tr>\n",
       "      <th>1</th>\n",
       "      <td>2013-01-01</td>\n",
       "      <td>2</td>\n",
       "      <td>0</td>\n",
       "      <td>2363.265</td>\n",
       "      <td>25.023228</td>\n",
       "      <td>2013</td>\n",
       "      <td>1</td>\n",
       "      <td>1</td>\n",
       "      <td>1</td>\n",
       "    </tr>\n",
       "    <tr>\n",
       "      <th>2</th>\n",
       "      <td>2013-01-01</td>\n",
       "      <td>3</td>\n",
       "      <td>0</td>\n",
       "      <td>2258.505</td>\n",
       "      <td>25.023228</td>\n",
       "      <td>2013</td>\n",
       "      <td>1</td>\n",
       "      <td>1</td>\n",
       "      <td>1</td>\n",
       "    </tr>\n",
       "    <tr>\n",
       "      <th>3</th>\n",
       "      <td>2013-01-01</td>\n",
       "      <td>4</td>\n",
       "      <td>0</td>\n",
       "      <td>2243.969</td>\n",
       "      <td>25.023228</td>\n",
       "      <td>2013</td>\n",
       "      <td>1</td>\n",
       "      <td>1</td>\n",
       "      <td>1</td>\n",
       "    </tr>\n",
       "    <tr>\n",
       "      <th>4</th>\n",
       "      <td>2013-01-01</td>\n",
       "      <td>5</td>\n",
       "      <td>0</td>\n",
       "      <td>2344.105</td>\n",
       "      <td>25.023228</td>\n",
       "      <td>2013</td>\n",
       "      <td>1</td>\n",
       "      <td>1</td>\n",
       "      <td>1</td>\n",
       "    </tr>\n",
       "  </tbody>\n",
       "</table>\n",
       "</div>"
      ],
      "text/plain": [
       "         연월일  시간  구분       공급량   temp_pca  year  month  day  weekday\n",
       "0 2013-01-01   1   0  2497.129  25.023228  2013      1    1        1\n",
       "1 2013-01-01   2   0  2363.265  25.023228  2013      1    1        1\n",
       "2 2013-01-01   3   0  2258.505  25.023228  2013      1    1        1\n",
       "3 2013-01-01   4   0  2243.969  25.023228  2013      1    1        1\n",
       "4 2013-01-01   5   0  2344.105  25.023228  2013      1    1        1"
      ]
     },
     "execution_count": 33,
     "metadata": {},
     "output_type": "execute_result"
    }
   ],
   "source": [
    "total.head()"
   ]
  },
  {
   "cell_type": "code",
   "execution_count": 34,
   "metadata": {},
   "outputs": [
    {
     "data": {
      "text/html": [
       "<div>\n",
       "<style scoped>\n",
       "    .dataframe tbody tr th:only-of-type {\n",
       "        vertical-align: middle;\n",
       "    }\n",
       "\n",
       "    .dataframe tbody tr th {\n",
       "        vertical-align: top;\n",
       "    }\n",
       "\n",
       "    .dataframe thead th {\n",
       "        text-align: right;\n",
       "    }\n",
       "</style>\n",
       "<table border=\"1\" class=\"dataframe\">\n",
       "  <thead>\n",
       "    <tr style=\"text-align: right;\">\n",
       "      <th></th>\n",
       "      <th>연월일</th>\n",
       "      <th>시간</th>\n",
       "      <th>구분</th>\n",
       "      <th>temp_pca</th>\n",
       "      <th>year</th>\n",
       "      <th>month</th>\n",
       "      <th>day</th>\n",
       "      <th>weekday</th>\n",
       "    </tr>\n",
       "  </thead>\n",
       "  <tbody>\n",
       "    <tr>\n",
       "      <th>0</th>\n",
       "      <td>2019-01-01</td>\n",
       "      <td>1</td>\n",
       "      <td>0</td>\n",
       "      <td>25.023228</td>\n",
       "      <td>2019</td>\n",
       "      <td>1</td>\n",
       "      <td>1</td>\n",
       "      <td>1</td>\n",
       "    </tr>\n",
       "    <tr>\n",
       "      <th>1</th>\n",
       "      <td>2019-01-01</td>\n",
       "      <td>2</td>\n",
       "      <td>0</td>\n",
       "      <td>25.023228</td>\n",
       "      <td>2019</td>\n",
       "      <td>1</td>\n",
       "      <td>1</td>\n",
       "      <td>1</td>\n",
       "    </tr>\n",
       "    <tr>\n",
       "      <th>2</th>\n",
       "      <td>2019-01-01</td>\n",
       "      <td>3</td>\n",
       "      <td>0</td>\n",
       "      <td>25.023228</td>\n",
       "      <td>2019</td>\n",
       "      <td>1</td>\n",
       "      <td>1</td>\n",
       "      <td>1</td>\n",
       "    </tr>\n",
       "    <tr>\n",
       "      <th>3</th>\n",
       "      <td>2019-01-01</td>\n",
       "      <td>4</td>\n",
       "      <td>0</td>\n",
       "      <td>25.023228</td>\n",
       "      <td>2019</td>\n",
       "      <td>1</td>\n",
       "      <td>1</td>\n",
       "      <td>1</td>\n",
       "    </tr>\n",
       "    <tr>\n",
       "      <th>4</th>\n",
       "      <td>2019-01-01</td>\n",
       "      <td>5</td>\n",
       "      <td>0</td>\n",
       "      <td>25.023228</td>\n",
       "      <td>2019</td>\n",
       "      <td>1</td>\n",
       "      <td>1</td>\n",
       "      <td>1</td>\n",
       "    </tr>\n",
       "  </tbody>\n",
       "</table>\n",
       "</div>"
      ],
      "text/plain": [
       "         연월일  시간  구분   temp_pca  year  month  day  weekday\n",
       "0 2019-01-01   1   0  25.023228  2019      1    1        1\n",
       "1 2019-01-01   2   0  25.023228  2019      1    1        1\n",
       "2 2019-01-01   3   0  25.023228  2019      1    1        1\n",
       "3 2019-01-01   4   0  25.023228  2019      1    1        1\n",
       "4 2019-01-01   5   0  25.023228  2019      1    1        1"
      ]
     },
     "execution_count": 34,
     "metadata": {},
     "output_type": "execute_result"
    }
   ],
   "source": [
    "test.head()"
   ]
  },
  {
   "cell_type": "code",
   "execution_count": 35,
   "metadata": {},
   "outputs": [
    {
     "data": {
      "text/plain": [
       "<seaborn.axisgrid.FacetGrid at 0x182e1e54730>"
      ]
     },
     "execution_count": 35,
     "metadata": {},
     "output_type": "execute_result"
    },
    {
     "data": {
      "image/png": "[encoded data removed]",
      "text/plain": [
       "<Figure size 627.85x288 with 1 Axes>"
      ]
     },
     "metadata": {},
     "output_type": "display_data"
    }
   ],
   "source": [
    "sns.relplot(\n",
    "    data=total, x='month', y='공급량', \n",
    "    hue='시간', style='구분', \n",
    "    height=4, aspect=2, \n",
    ")"
   ]
  },
  {
   "cell_type": "code",
   "execution_count": 36,
   "metadata": {},
   "outputs": [
    {
     "data": {
      "text/plain": [
       "Index(['연월일', '시간', '구분', '공급량', 'temp_pca', 'year', 'month', 'day',\n",
       "       'weekday'],\n",
       "      dtype='object')"
      ]
     },
     "execution_count": 36,
     "metadata": {},
     "output_type": "execute_result"
    }
   ],
   "source": [
    "total.columns"
   ]
  },
  {
   "cell_type": "markdown",
   "metadata": {},
   "source": [
    "# train_val split"
   ]
  },
  {
   "cell_type": "code",
   "execution_count": 37,
   "metadata": {},
   "outputs": [
    {
     "data": {
      "text/plain": [
       "2016    61488\n",
       "2013    61320\n",
       "2014    61320\n",
       "2015    61320\n",
       "2017    61320\n",
       "2018    61320\n",
       "Name: year, dtype: int64"
      ]
     },
     "execution_count": 37,
     "metadata": {},
     "output_type": "execute_result"
    }
   ],
   "source": [
    "total['year'].value_counts()"
   ]
  },
  {
   "cell_type": "code",
   "execution_count": 38,
   "metadata": {},
   "outputs": [],
   "source": [
    "train_years = [2013, 2014, 2015, 2016, 2017]\n",
    "val_years   = [2018]\n",
    "\n",
    "train = total[total['year'].isin(train_years)]\n",
    "val   = total[total['year'].isin(val_years)]"
   ]
  },
  {
   "cell_type": "code",
   "execution_count": 39,
   "metadata": {},
   "outputs": [],
   "source": [
    "features = ['구분', 'month', 'day', 'weekday', '시간', 'temp_pca']\n",
    "\n",
    "train_x = train[features]\n",
    "train_y = train['공급량']\n",
    "val_x   = val[features]\n",
    "val_y   = val['공급량']"
   ]
  },
  {
   "cell_type": "markdown",
   "metadata": {},
   "source": [
    "# corr"
   ]
  },
  {
   "cell_type": "code",
   "execution_count": 40,
   "metadata": {},
   "outputs": [
    {
     "data": {
      "image/png": "[encoded data removed]",
      "text/plain": [
       "<Figure size 864x648 with 2 Axes>"
      ]
     },
     "metadata": {},
     "output_type": "display_data"
    }
   ],
   "source": [
    "features = ['구분', 'month', 'day', 'weekday', '시간', '공급량', 'temp_pca', 'year']\n",
    "\n",
    "plt.figure(figsize=(12, 9))\n",
    "sns.heatmap(train[features].corr(), annot=True); plt.show()"
   ]
  },
  {
   "cell_type": "markdown",
   "metadata": {},
   "source": [
    "# train"
   ]
  },
  {
   "cell_type": "code",
   "execution_count": 41,
   "metadata": {},
   "outputs": [
    {
     "name": "stdout",
     "output_type": "stream",
     "text": [
      "[LightGBM] [Warning] Auto-choosing row-wise multi-threading, the overhead of testing was 0.003024 seconds.\n",
      "You can set `force_row_wise=true` to remove the overhead.\n",
      "And if memory is not enough, you can set `force_col_wise=true`.\n",
      "[LightGBM] [Info] Total Bins 335\n",
      "[LightGBM] [Info] Number of data points in the train set: 306768, number of used features: 6\n",
      "[LightGBM] [Info] Start training from score 934.864036\n",
      "Training until validation scores don't improve for 10 rounds\n",
      "[20]\tvalid_0's l1: 220.494\n",
      "[40]\tvalid_0's l1: 165.388\n",
      "[60]\tvalid_0's l1: 154.534\n",
      "[80]\tvalid_0's l1: 150.578\n",
      "[100]\tvalid_0's l1: 149.335\n",
      "[120]\tvalid_0's l1: 148.068\n",
      "[140]\tvalid_0's l1: 147.169\n",
      "Early stopping, best iteration is:\n",
      "[136]\tvalid_0's l1: 147.14\n"
     ]
    }
   ],
   "source": [
    "d_train = lgb.Dataset(train_x, train_y)\n",
    "d_val   = lgb.Dataset(val_x, val_y)\n",
    "\n",
    "params = {\n",
    "    'objective': 'regression', \n",
    "    'metric': 'mae', \n",
    "    'seed': 42\n",
    "}\n",
    "\n",
    "model = lgb.train(\n",
    "    params, d_train, 500, d_val, \n",
    "    verbose_eval=20, early_stopping_rounds=10, \n",
    ")"
   ]
  },
  {
   "cell_type": "markdown",
   "metadata": {},
   "source": [
    "# sub"
   ]
  },
  {
   "cell_type": "code",
   "execution_count": 42,
   "metadata": {},
   "outputs": [],
   "source": [
    "features = ['구분', 'month', 'day', 'weekday', '시간', 'temp_pca']\n",
    "test_x = test[features]"
   ]
  },
  {
   "cell_type": "code",
   "execution_count": 43,
   "metadata": {},
   "outputs": [],
   "source": [
    "preds = model.predict(test_x)"
   ]
  },
  {
   "cell_type": "code",
   "execution_count": 45,
   "metadata": {},
   "outputs": [
    {
     "data": {
      "text/plain": [
       "array([2108.06967602, 1888.26992328, 1817.06592031, ...,  410.82055336,\n",
       "        354.80372751,  325.8210663 ])"
      ]
     },
     "execution_count": 45,
     "metadata": {},
     "output_type": "execute_result"
    }
   ],
   "source": [
    "preds"
   ]
  },
  {
   "cell_type": "code",
   "execution_count": 47,
   "metadata": {},
   "outputs": [
    {
     "data": {
      "text/html": [
       "<div>\n",
       "<style scoped>\n",
       "    .dataframe tbody tr th:only-of-type {\n",
       "        vertical-align: middle;\n",
       "    }\n",
       "\n",
       "    .dataframe tbody tr th {\n",
       "        vertical-align: top;\n",
       "    }\n",
       "\n",
       "    .dataframe thead th {\n",
       "        text-align: right;\n",
       "    }\n",
       "</style>\n",
       "<table border=\"1\" class=\"dataframe\">\n",
       "  <thead>\n",
       "    <tr style=\"text-align: right;\">\n",
       "      <th></th>\n",
       "      <th>일자|시간|구분</th>\n",
       "      <th>공급량</th>\n",
       "    </tr>\n",
       "  </thead>\n",
       "  <tbody>\n",
       "    <tr>\n",
       "      <th>0</th>\n",
       "      <td>2019-01-01 01 A</td>\n",
       "      <td>2108.069676</td>\n",
       "    </tr>\n",
       "    <tr>\n",
       "      <th>1</th>\n",
       "      <td>2019-01-01 02 A</td>\n",
       "      <td>1888.269923</td>\n",
       "    </tr>\n",
       "    <tr>\n",
       "      <th>2</th>\n",
       "      <td>2019-01-01 03 A</td>\n",
       "      <td>1817.065920</td>\n",
       "    </tr>\n",
       "    <tr>\n",
       "      <th>3</th>\n",
       "      <td>2019-01-01 04 A</td>\n",
       "      <td>1836.989653</td>\n",
       "    </tr>\n",
       "    <tr>\n",
       "      <th>4</th>\n",
       "      <td>2019-01-01 05 A</td>\n",
       "      <td>1970.488097</td>\n",
       "    </tr>\n",
       "    <tr>\n",
       "      <th>...</th>\n",
       "      <td>...</td>\n",
       "      <td>...</td>\n",
       "    </tr>\n",
       "    <tr>\n",
       "      <th>15115</th>\n",
       "      <td>2019-03-31 20 H</td>\n",
       "      <td>428.737858</td>\n",
       "    </tr>\n",
       "    <tr>\n",
       "      <th>15116</th>\n",
       "      <td>2019-03-31 21 H</td>\n",
       "      <td>425.750718</td>\n",
       "    </tr>\n",
       "    <tr>\n",
       "      <th>15117</th>\n",
       "      <td>2019-03-31 22 H</td>\n",
       "      <td>410.820553</td>\n",
       "    </tr>\n",
       "    <tr>\n",
       "      <th>15118</th>\n",
       "      <td>2019-03-31 23 H</td>\n",
       "      <td>354.803728</td>\n",
       "    </tr>\n",
       "    <tr>\n",
       "      <th>15119</th>\n",
       "      <td>2019-03-31 24 H</td>\n",
       "      <td>325.821066</td>\n",
       "    </tr>\n",
       "  </tbody>\n",
       "</table>\n",
       "<p>15120 rows × 2 columns</p>\n",
       "</div>"
      ],
      "text/plain": [
       "              일자|시간|구분          공급량\n",
       "0      2019-01-01 01 A  2108.069676\n",
       "1      2019-01-01 02 A  1888.269923\n",
       "2      2019-01-01 03 A  1817.065920\n",
       "3      2019-01-01 04 A  1836.989653\n",
       "4      2019-01-01 05 A  1970.488097\n",
       "...                ...          ...\n",
       "15115  2019-03-31 20 H   428.737858\n",
       "15116  2019-03-31 21 H   425.750718\n",
       "15117  2019-03-31 22 H   410.820553\n",
       "15118  2019-03-31 23 H   354.803728\n",
       "15119  2019-03-31 24 H   325.821066\n",
       "\n",
       "[15120 rows x 2 columns]"
      ]
     },
     "execution_count": 47,
     "metadata": {},
     "output_type": "execute_result"
    }
   ],
   "source": [
    "sub['공급량'] = preds\n",
    "sub"
   ]
  },
  {
   "cell_type": "code",
   "execution_count": 48,
   "metadata": {},
   "outputs": [],
   "source": [
    "# sub.to_csv('./sub/sub_00.csv', index=False)"
   ]
  }
 ],
 "metadata": {
  "interpreter": {
   "hash": "17164ff5f922defefa3fdd6afe0c064ec3948eda8922a4bbab17a59b9b0232dc"
  },
  "kernelspec": {
   "display_name": "Python 3.8.8 64-bit ('venv': venv)",
   "name": "python3"
  },
  "language_info": {
   "codemirror_mode": {
    "name": "ipython",
    "version": 3
   },
   "file_extension": ".py",
   "mimetype": "text/x-python",
   "name": "python",
   "nbconvert_exporter": "python",
   "pygments_lexer": "ipython3",
   "version": "3.8.8"
  },
  "orig_nbformat": 4
 },
 "nbformat": 4,
 "nbformat_minor": 2
}
